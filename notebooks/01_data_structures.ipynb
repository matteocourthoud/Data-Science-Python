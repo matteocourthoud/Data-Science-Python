{
 "cells": [
  {
   "cell_type": "markdown",
   "id": "f46318f6",
   "metadata": {},
   "source": [
    "# Data Structures"
   ]
  },
  {
   "cell_type": "code",
   "execution_count": 1,
   "id": "a0fba4c3",
   "metadata": {},
   "outputs": [],
   "source": [
    "import numpy as np\n",
    "import pandas as pd"
   ]
  },
  {
   "cell_type": "markdown",
   "id": "14b8a303",
   "metadata": {},
   "source": [
    "For most of this course we are going to work with `pandas` DataFrames. However, it's important to start with an introduction to the different types of data structures available in Python, their characteristics, their differences and their comparative advantages.\n",
    "\n",
    "One can categorize data structures in Python as follows:\n",
    "\n",
    "- lists\n",
    "- tuples\n",
    "- sets\n",
    "- dictionaries\n",
    "- numpy arrays\n",
    "- pandas DataFrames\n",
    "- pyspark DataFrames"
   ]
  },
  {
   "cell_type": "markdown",
   "id": "5550a182",
   "metadata": {},
   "source": [
    "## Lists: mutable dynamic arrays"
   ]
  },
  {
   "cell_type": "markdown",
   "id": "078fdbb4",
   "metadata": {},
   "source": [
    "A **list** is a mutable array data structure in Python with the following characteristics:\n",
    "\n",
    "- can hold any type of data\n",
    "- can hold different types of data at the same time\n",
    "- can be modified\n",
    "- "
   ]
  },
  {
   "cell_type": "markdown",
   "id": "a585ce4d",
   "metadata": {},
   "source": [
    "Lists are generated using square brackets."
   ]
  },
  {
   "cell_type": "code",
   "execution_count": 2,
   "id": "b02a26d6",
   "metadata": {},
   "outputs": [
    {
     "name": "stdout",
     "output_type": "stream",
     "text": [
      "[12, 'world', [3, 4, 5]]\n"
     ]
    }
   ],
   "source": [
    "l = [12, \"world\", [3,4,5]]\n",
    "print(l)"
   ]
  },
  {
   "cell_type": "markdown",
   "id": "d0e15365",
   "metadata": {},
   "source": [
    "We modify elements by calling the index of the list."
   ]
  },
  {
   "cell_type": "code",
   "execution_count": 3,
   "id": "de26370c",
   "metadata": {
    "scrolled": true
   },
   "outputs": [
    {
     "name": "stdout",
     "output_type": "stream",
     "text": [
      "['hello', 'world', [3, 4, 5]]\n"
     ]
    }
   ],
   "source": [
    "l[0] = 'hello'\n",
    "print(l)"
   ]
  },
  {
   "cell_type": "markdown",
   "id": "7eb12cea",
   "metadata": {},
   "source": [
    "We add elements to a list using `.append()`."
   ]
  },
  {
   "cell_type": "code",
   "execution_count": 4,
   "id": "20731758",
   "metadata": {},
   "outputs": [
    {
     "data": {
      "text/plain": [
       "['hello', 'world', [3, 4, 5], 23]"
      ]
     },
     "execution_count": 4,
     "metadata": {},
     "output_type": "execute_result"
    }
   ],
   "source": [
    "l.append(23)\n",
    "l"
   ]
  },
  {
   "cell_type": "markdown",
   "id": "d3d11b95",
   "metadata": {},
   "source": [
    "We can remove elements by calling `del` on it."
   ]
  },
  {
   "cell_type": "code",
   "execution_count": 5,
   "id": "1082274f",
   "metadata": {},
   "outputs": [
    {
     "name": "stdout",
     "output_type": "stream",
     "text": [
      "['world', [3, 4, 5], 23]\n"
     ]
    }
   ],
   "source": [
    "del l[0]\n",
    "print(l)"
   ]
  },
  {
   "cell_type": "markdown",
   "id": "f7583af7",
   "metadata": {},
   "source": [
    "We can combine two lists using `+`. Note that this operation does not modify the list but generates a new one."
   ]
  },
  {
   "cell_type": "code",
   "execution_count": 6,
   "id": "f0abe636",
   "metadata": {},
   "outputs": [
    {
     "data": {
      "text/plain": [
       "['world', [3, 4, 5], 23, 23]"
      ]
     },
     "execution_count": 6,
     "metadata": {},
     "output_type": "execute_result"
    }
   ],
   "source": [
    "l + [23]"
   ]
  },
  {
   "cell_type": "markdown",
   "id": "3c19a75f",
   "metadata": {},
   "source": [
    "We can also generate lists using comprehensions."
   ]
  },
  {
   "cell_type": "code",
   "execution_count": 7,
   "id": "6098fbd2",
   "metadata": {},
   "outputs": [
    {
     "name": "stdout",
     "output_type": "stream",
     "text": [
      "[0, 1, 2]\n"
     ]
    }
   ],
   "source": [
    "l = [n for n in range(3)]\n",
    "print(l)"
   ]
  },
  {
   "cell_type": "markdown",
   "id": "50ffb06d",
   "metadata": {},
   "source": [
    "Comprehensions are a powerful tool!"
   ]
  },
  {
   "cell_type": "code",
   "execution_count": 8,
   "id": "51a1a09e",
   "metadata": {
    "scrolled": true
   },
   "outputs": [
    {
     "name": "stdout",
     "output_type": "stream",
     "text": [
      "[16, 18]\n"
     ]
    }
   ],
   "source": [
    "l = [n+10 for n in range(10) if (n%2==0) and (n>4)]\n",
    "print(l)"
   ]
  },
  {
   "cell_type": "markdown",
   "id": "1493c1ca",
   "metadata": {},
   "source": [
    "## Tuples: immutable dynamic arrays"
   ]
  },
  {
   "cell_type": "markdown",
   "id": "5042c169",
   "metadata": {},
   "source": [
    "A **tuple** is an immutable array data structure in Python with the following characteristics:\n",
    "\n",
    "- can hold any type of data\n",
    "- can hold different types of data at the same time\n",
    "- **can not be modified**\n",
    "- "
   ]
  },
  {
   "cell_type": "markdown",
   "id": "b997a4d4",
   "metadata": {},
   "source": [
    "Tuples are generated using curve brackets."
   ]
  },
  {
   "cell_type": "code",
   "execution_count": 9,
   "id": "2faab00d",
   "metadata": {},
   "outputs": [
    {
     "name": "stdout",
     "output_type": "stream",
     "text": [
      "(12, 'world', [3, 4, 5])\n"
     ]
    }
   ],
   "source": [
    "# A list of different data types\n",
    "t = (12, \"world\", [3,4,5])\n",
    "print(t)"
   ]
  },
  {
   "cell_type": "markdown",
   "id": "207beee6",
   "metadata": {},
   "source": [
    "We *cannot* modify tuples!"
   ]
  },
  {
   "cell_type": "code",
   "execution_count": 10,
   "id": "2689b096",
   "metadata": {
    "scrolled": true
   },
   "outputs": [
    {
     "name": "stdout",
     "output_type": "stream",
     "text": [
      "'tuple' object does not support item assignment\n"
     ]
    }
   ],
   "source": [
    "# Try to modify element\n",
    "try:\n",
    "    t[0] = 'hello'\n",
    "except Exception as e:\n",
    "    print(e)"
   ]
  },
  {
   "cell_type": "code",
   "execution_count": 11,
   "id": "36dc1287",
   "metadata": {},
   "outputs": [
    {
     "name": "stdout",
     "output_type": "stream",
     "text": [
      "'tuple' object has no attribute 'append'\n"
     ]
    }
   ],
   "source": [
    "# Try to add element\n",
    "try:\n",
    "    t.append('hello')\n",
    "except Exception as e:\n",
    "    print(e)"
   ]
  },
  {
   "cell_type": "code",
   "execution_count": 12,
   "id": "e0f462f6",
   "metadata": {},
   "outputs": [
    {
     "name": "stdout",
     "output_type": "stream",
     "text": [
      "'tuple' object doesn't support item deletion\n"
     ]
    }
   ],
   "source": [
    "# Try to remove element\n",
    "try:\n",
    "    del t[0]\n",
    "except Exception as e:\n",
    "    print(e)"
   ]
  },
  {
   "cell_type": "markdown",
   "id": "7b7ab26a",
   "metadata": {},
   "source": [
    "We can combine two tuples using `+`. Note that this operation does not modify the tuple but generates a new one. Also note that to generate a 1-element tuple we need to insert a comma."
   ]
  },
  {
   "cell_type": "code",
   "execution_count": 13,
   "id": "bc25d352",
   "metadata": {},
   "outputs": [
    {
     "data": {
      "text/plain": [
       "(12, 'world', [3, 4, 5], 23)"
      ]
     },
     "execution_count": 13,
     "metadata": {},
     "output_type": "execute_result"
    }
   ],
   "source": [
    "t + (23,)"
   ]
  },
  {
   "cell_type": "markdown",
   "id": "74947407",
   "metadata": {},
   "source": [
    "We can generate tuples using comprehensions, but we need to specify it's a `tuple`."
   ]
  },
  {
   "cell_type": "code",
   "execution_count": 14,
   "id": "af4df60e",
   "metadata": {},
   "outputs": [
    {
     "name": "stdout",
     "output_type": "stream",
     "text": [
      "(0, 1, 2)\n"
     ]
    }
   ],
   "source": [
    "t = tuple(n for n in range(3))\n",
    "print(t)"
   ]
  },
  {
   "cell_type": "markdown",
   "id": "ee5b0622",
   "metadata": {},
   "source": [
    "## Sets: unordered unique collections"
   ]
  },
  {
   "cell_type": "markdown",
   "id": "0f11241f",
   "metadata": {},
   "source": [
    "A **set** is a mutable array data structure in Python with the following characteristics:\n",
    "\n",
    "- **can only hold hashable types**\n",
    "- can hold different types of data at the same time\n",
    "- **cannot be modified**\n",
    "- **cannot contain duplicates**"
   ]
  },
  {
   "cell_type": "markdown",
   "id": "74d316e8",
   "metadata": {},
   "source": [
    "Sets are generated using curly brackets."
   ]
  },
  {
   "cell_type": "code",
   "execution_count": 15,
   "id": "a9e3bd38",
   "metadata": {},
   "outputs": [
    {
     "name": "stdout",
     "output_type": "stream",
     "text": [
      "{'world', (3, 4, 5), 12}\n"
     ]
    }
   ],
   "source": [
    "s = {12, \"world\", (3,4,5)}\n",
    "print(s)"
   ]
  },
  {
   "cell_type": "markdown",
   "id": "6751a6f4",
   "metadata": {},
   "source": [
    "We *cannot* modify sets!"
   ]
  },
  {
   "cell_type": "code",
   "execution_count": 16,
   "id": "0354d56f",
   "metadata": {
    "scrolled": true
   },
   "outputs": [
    {
     "name": "stdout",
     "output_type": "stream",
     "text": [
      "'set' object does not support item assignment\n"
     ]
    }
   ],
   "source": [
    "# Try to modify element\n",
    "try:\n",
    "    s[0] = 'hello'\n",
    "except Exception as e:\n",
    "    print(e)"
   ]
  },
  {
   "cell_type": "markdown",
   "id": "4b21e914",
   "metadata": {},
   "source": [
    "But we can add elements using `.add()`."
   ]
  },
  {
   "cell_type": "code",
   "execution_count": 17,
   "id": "e75f7f0b",
   "metadata": {},
   "outputs": [
    {
     "name": "stdout",
     "output_type": "stream",
     "text": [
      "{'world', (3, 4, 5), 12, 'hello'}\n"
     ]
    }
   ],
   "source": [
    "s.add('hello')\n",
    "print(s)"
   ]
  },
  {
   "cell_type": "markdown",
   "id": "bd78c508",
   "metadata": {},
   "source": [
    "However, we cannot add duplicates."
   ]
  },
  {
   "cell_type": "code",
   "execution_count": 18,
   "id": "e82589d4",
   "metadata": {},
   "outputs": [
    {
     "name": "stdout",
     "output_type": "stream",
     "text": [
      "{'world', (3, 4, 5), 12, 'hello'}\n"
     ]
    }
   ],
   "source": [
    "s.add('hello')\n",
    "print(s)"
   ]
  },
  {
   "cell_type": "markdown",
   "id": "70bf826f",
   "metadata": {},
   "source": [
    "We cannot delete elements of a set."
   ]
  },
  {
   "cell_type": "code",
   "execution_count": 19,
   "id": "164a161b",
   "metadata": {},
   "outputs": [
    {
     "name": "stdout",
     "output_type": "stream",
     "text": [
      "'set' object doesn't support item deletion\n"
     ]
    }
   ],
   "source": [
    "# Try to remove element\n",
    "try:\n",
    "    del s[0]\n",
    "except Exception as e:\n",
    "    print(e)"
   ]
  },
  {
   "cell_type": "markdown",
   "id": "79235026",
   "metadata": {},
   "source": [
    "We can also generate sets using comprehensions."
   ]
  },
  {
   "cell_type": "code",
   "execution_count": 20,
   "id": "7b742534",
   "metadata": {},
   "outputs": [
    {
     "name": "stdout",
     "output_type": "stream",
     "text": [
      "{0, 1, 2}\n"
     ]
    }
   ],
   "source": [
    "s = {n for n in range(3)}\n",
    "print(s)"
   ]
  },
  {
   "cell_type": "markdown",
   "id": "22f9fd31",
   "metadata": {},
   "source": [
    "## Dictionaries: named lists"
   ]
  },
  {
   "cell_type": "markdown",
   "id": "cc65ddea",
   "metadata": {},
   "source": [
    "A **dictionary** is a mutable array data structure in Python with the following characteristics:\n",
    "\n",
    "- can hold any type of data\n",
    "- can hold different types of data at the same time\n",
    "- can be modified\n",
    "- **items are named**"
   ]
  },
  {
   "cell_type": "markdown",
   "id": "226d935b",
   "metadata": {},
   "source": [
    "Dictionaries are generated using curly brackets. Since elements are indexed by keys, we have to provide one for each element.\n",
    "\n",
    "Dictionary keys can be of any **hashable type**. A hashable object has a hash value that never changes during its lifetime, and it can be compared to other objects. Hashable objects that compare as equal must have the same hash value.\n",
    "\n",
    "Immutable types like strings and numbers are hashable and work well as dictionary keys. You can also use tuple objects as dictionary keys as long as they contain only hashable types themselves."
   ]
  },
  {
   "cell_type": "code",
   "execution_count": 21,
   "id": "7931bba2",
   "metadata": {},
   "outputs": [
    {
     "name": "stdout",
     "output_type": "stream",
     "text": [
      "{'first': 12, 2: 'world', (3,): [3, 4, 5]}\n"
     ]
    }
   ],
   "source": [
    "d = {\"first\": 12, 2: \"world\", (3,): [3,4,5]}\n",
    "print(d)"
   ]
  },
  {
   "cell_type": "markdown",
   "id": "1f613210",
   "metadata": {},
   "source": [
    "We modify elements by calling the corresponding key of the dictionary."
   ]
  },
  {
   "cell_type": "code",
   "execution_count": 22,
   "id": "a2f621f3",
   "metadata": {},
   "outputs": [
    {
     "name": "stdout",
     "output_type": "stream",
     "text": [
      "{'first': 'hello', 2: 'world', (3,): [3, 4, 5]}\n"
     ]
    }
   ],
   "source": [
    "d[\"first\"] = 'hello'\n",
    "print(d)"
   ]
  },
  {
   "cell_type": "markdown",
   "id": "a13f663e",
   "metadata": {},
   "source": [
    "We cannot use indexes! The argument inside the square brackets is interpreted as a key. If the key does not currently exist, it is added."
   ]
  },
  {
   "cell_type": "code",
   "execution_count": 23,
   "id": "9f31894d",
   "metadata": {
    "scrolled": true
   },
   "outputs": [
    {
     "name": "stdout",
     "output_type": "stream",
     "text": [
      "{'first': 'hello', 2: 'world', (3,): [3, 4, 5], 0: 'hello'}\n"
     ]
    }
   ],
   "source": [
    "d[0] = 'hello'\n",
    "print(d)"
   ]
  },
  {
   "cell_type": "markdown",
   "id": "80e187ac",
   "metadata": {},
   "source": [
    "We can remove elements by calling `del` on it."
   ]
  },
  {
   "cell_type": "code",
   "execution_count": 24,
   "id": "c8688889",
   "metadata": {},
   "outputs": [
    {
     "name": "stdout",
     "output_type": "stream",
     "text": [
      "{'first': 'hello', 2: 'world', (3,): [3, 4, 5]}\n"
     ]
    }
   ],
   "source": [
    "del d[0]\n",
    "print(d)"
   ]
  },
  {
   "cell_type": "markdown",
   "id": "bf0e873e",
   "metadata": {},
   "source": [
    "We can cannot combine two dictionaries using `+`."
   ]
  },
  {
   "cell_type": "code",
   "execution_count": 25,
   "id": "c8c66aab",
   "metadata": {},
   "outputs": [
    {
     "name": "stdout",
     "output_type": "stream",
     "text": [
      "unsupported operand type(s) for +: 'dict' and 'dict'\n"
     ]
    }
   ],
   "source": [
    "try:\n",
    "    d + {\"fourth\": (1,2)}\n",
    "except Exception as e:\n",
    "    print(e)"
   ]
  },
  {
   "cell_type": "markdown",
   "id": "c8517dd6",
   "metadata": {},
   "source": [
    "We can also generate dictionaries using comprehensions."
   ]
  },
  {
   "cell_type": "code",
   "execution_count": 26,
   "id": "b76ffccf",
   "metadata": {},
   "outputs": [
    {
     "name": "stdout",
     "output_type": "stream",
     "text": [
      "{'k0': 1, 'k1': 2, 'k2': 3}\n"
     ]
    }
   ],
   "source": [
    "d = {f\"k{n}\": n+1 for n in range(3)}\n",
    "print(d)"
   ]
  },
  {
   "cell_type": "markdown",
   "id": "63834c22",
   "metadata": {},
   "source": [
    "We can access values of the dictionary using `.values()`."
   ]
  },
  {
   "cell_type": "code",
   "execution_count": 27,
   "id": "19a8e26e",
   "metadata": {
    "scrolled": true
   },
   "outputs": [
    {
     "data": {
      "text/plain": [
       "dict_values([1, 2, 3])"
      ]
     },
     "execution_count": 27,
     "metadata": {},
     "output_type": "execute_result"
    }
   ],
   "source": [
    "d.values()"
   ]
  },
  {
   "cell_type": "markdown",
   "id": "b1baa086",
   "metadata": {},
   "source": [
    "We can access keys of the dictionary using `.keys()`."
   ]
  },
  {
   "cell_type": "code",
   "execution_count": 28,
   "id": "de4ad56d",
   "metadata": {
    "scrolled": true
   },
   "outputs": [
    {
     "data": {
      "text/plain": [
       "dict_keys(['k0', 'k1', 'k2'])"
      ]
     },
     "execution_count": 28,
     "metadata": {},
     "output_type": "execute_result"
    }
   ],
   "source": [
    "d.keys()"
   ]
  },
  {
   "cell_type": "markdown",
   "id": "3cbaf84c",
   "metadata": {},
   "source": [
    "## Numpy array"
   ]
  },
  {
   "cell_type": "markdown",
   "id": "883bea37",
   "metadata": {},
   "source": [
    "A **numpy array** is a mutable array data structure in Python with the following characteristics:\n",
    "\n",
    "- can hold any type of data\n",
    "- **can only hold one type at the same time**\n",
    "- can be modified\n",
    "- **can be multi-dimensional**\n",
    "- **support matrix operations**"
   ]
  },
  {
   "cell_type": "markdown",
   "id": "d4ca35fa",
   "metadata": {},
   "source": [
    "Numpy arrays are generated the `np.array()` function on a list."
   ]
  },
  {
   "cell_type": "code",
   "execution_count": 29,
   "id": "ea30cc96",
   "metadata": {},
   "outputs": [
    {
     "name": "stdout",
     "output_type": "stream",
     "text": [
      "[1 2 3]\n"
     ]
    }
   ],
   "source": [
    "a = np.array([1,2,3])\n",
    "print(a)"
   ]
  },
  {
   "cell_type": "markdown",
   "id": "81394cd9",
   "metadata": {},
   "source": [
    "We can make 2-dimensional arrays (a matrix) as lists of lists."
   ]
  },
  {
   "cell_type": "code",
   "execution_count": 30,
   "id": "482c983a",
   "metadata": {
    "scrolled": true
   },
   "outputs": [
    {
     "name": "stdout",
     "output_type": "stream",
     "text": [
      "[[1 2 3]\n",
      " [4 5 6]]\n"
     ]
    }
   ],
   "source": [
    "m = np.array([[1,2,3] , [4,5,6]])\n",
    "print(m)"
   ]
  },
  {
   "cell_type": "markdown",
   "id": "01106f24",
   "metadata": {},
   "source": [
    "We modify elements by calling the index of the numpy array."
   ]
  },
  {
   "cell_type": "code",
   "execution_count": 31,
   "id": "3bed894e",
   "metadata": {
    "scrolled": true
   },
   "outputs": [
    {
     "name": "stdout",
     "output_type": "stream",
     "text": [
      "[[89  2  3]\n",
      " [ 4  5  6]]\n"
     ]
    }
   ],
   "source": [
    "m[0,0] = 89\n",
    "print(m)"
   ]
  },
  {
   "cell_type": "markdown",
   "id": "f824b1b9",
   "metadata": {},
   "source": [
    "We can check the shape using `.shape`"
   ]
  },
  {
   "cell_type": "code",
   "execution_count": 32,
   "id": "514a1e51",
   "metadata": {},
   "outputs": [
    {
     "data": {
      "text/plain": [
       "(2, 3)"
      ]
     },
     "execution_count": 32,
     "metadata": {},
     "output_type": "execute_result"
    }
   ],
   "source": [
    "m.shape"
   ]
  },
  {
   "cell_type": "markdown",
   "id": "79dc09d2",
   "metadata": {},
   "source": [
    "We can expand dimensions using `.expand_dims()`."
   ]
  },
  {
   "cell_type": "code",
   "execution_count": 33,
   "id": "21960bd6",
   "metadata": {},
   "outputs": [
    {
     "name": "stdout",
     "output_type": "stream",
     "text": [
      "[[1]\n",
      " [2]\n",
      " [3]]\n"
     ]
    }
   ],
   "source": [
    "a = np.expand_dims(a,1)\n",
    "print(a)"
   ]
  },
  {
   "cell_type": "markdown",
   "id": "d73c687b",
   "metadata": {},
   "source": [
    "We can transpose matrices using `.T`."
   ]
  },
  {
   "cell_type": "code",
   "execution_count": 34,
   "id": "3d5c89e1",
   "metadata": {},
   "outputs": [
    {
     "name": "stdout",
     "output_type": "stream",
     "text": [
      "[[1 2 3]]\n"
     ]
    }
   ],
   "source": [
    "a = a.T\n",
    "print(a)"
   ]
  },
  {
   "cell_type": "markdown",
   "id": "f38e540c",
   "metadata": {},
   "source": [
    "We add elements to a list using `np.concatenate()`."
   ]
  },
  {
   "cell_type": "code",
   "execution_count": 35,
   "id": "8a1ba81d",
   "metadata": {},
   "outputs": [
    {
     "name": "stdout",
     "output_type": "stream",
     "text": [
      "[[89  2  3]\n",
      " [ 4  5  6]\n",
      " [ 1  2  3]]\n"
     ]
    }
   ],
   "source": [
    "m = np.concatenate((m, a), axis=0)\n",
    "print(m)"
   ]
  },
  {
   "cell_type": "markdown",
   "id": "2e37a3c6",
   "metadata": {},
   "source": [
    "We cannot remove elements of numpy arrays."
   ]
  },
  {
   "cell_type": "code",
   "execution_count": 36,
   "id": "88365b4e",
   "metadata": {},
   "outputs": [
    {
     "name": "stdout",
     "output_type": "stream",
     "text": [
      "cannot delete array elements\n"
     ]
    }
   ],
   "source": [
    "try:\n",
    "    del a[0]\n",
    "except Exception as e:\n",
    "    print(e)"
   ]
  },
  {
   "cell_type": "markdown",
   "id": "ab0042ef",
   "metadata": {},
   "source": [
    "We can do matrix operations between numpy arrays. For example, we can do multiplication with `@`."
   ]
  },
  {
   "cell_type": "code",
   "execution_count": 37,
   "id": "f7b56905",
   "metadata": {},
   "outputs": [
    {
     "data": {
      "text/plain": [
       "array([[100,  18,  24]])"
      ]
     },
     "execution_count": 37,
     "metadata": {},
     "output_type": "execute_result"
    }
   ],
   "source": [
    "a @ m"
   ]
  },
  {
   "cell_type": "markdown",
   "id": "0a866a52",
   "metadata": {},
   "source": [
    "If we use `*` we get dot (or element-wise) multiplication instead."
   ]
  },
  {
   "cell_type": "code",
   "execution_count": 38,
   "id": "ccd96c3d",
   "metadata": {},
   "outputs": [
    {
     "data": {
      "text/plain": [
       "array([[89,  4,  9],\n",
       "       [ 4, 10, 18],\n",
       "       [ 1,  4,  9]])"
      ]
     },
     "execution_count": 38,
     "metadata": {},
     "output_type": "execute_result"
    }
   ],
   "source": [
    "a * m"
   ]
  },
  {
   "cell_type": "markdown",
   "id": "e16e6014",
   "metadata": {},
   "source": [
    "There is a wide array of functions available in numpy. For example `np.invert()` inverts a squared matrix."
   ]
  },
  {
   "cell_type": "code",
   "execution_count": 39,
   "id": "c384c7c6",
   "metadata": {},
   "outputs": [
    {
     "data": {
      "text/plain": [
       "array([[-90,  -3,  -4],\n",
       "       [ -5,  -6,  -7],\n",
       "       [ -2,  -3,  -4]])"
      ]
     },
     "execution_count": 39,
     "metadata": {},
     "output_type": "execute_result"
    }
   ],
   "source": [
    "np.invert(m)"
   ]
  },
  {
   "cell_type": "markdown",
   "id": "d66542d8",
   "metadata": {},
   "source": [
    "## Comparison"
   ]
  },
  {
   "cell_type": "markdown",
   "id": "0eb82e32",
   "metadata": {},
   "source": [
    "Which data structure should you use and why? Let's compare different data types"
   ]
  },
  {
   "cell_type": "code",
   "execution_count": 40,
   "id": "e1d57aa7",
   "metadata": {},
   "outputs": [],
   "source": [
    "K = 100_000\n",
    "l = [n for n in range(K)]\n",
    "t = tuple(n for n in range(K))\n",
    "s = {n for n in range(K)}\n",
    "a = np.array([n for n in range(K)])"
   ]
  },
  {
   "cell_type": "markdown",
   "id": "e30a12da",
   "metadata": {},
   "source": [
    "**Size**\n",
    "\n",
    "Which data type is more efficient?"
   ]
  },
  {
   "cell_type": "code",
   "execution_count": 41,
   "id": "07b54198",
   "metadata": {},
   "outputs": [],
   "source": [
    "import sys\n",
    "\n",
    "def compare_size(list_objects):\n",
    "    for o in list_objects:\n",
    "        print(f\"Size of {type(o)}: {sys.getsizeof(o)}\")"
   ]
  },
  {
   "cell_type": "code",
   "execution_count": 42,
   "id": "e4e2160e",
   "metadata": {},
   "outputs": [
    {
     "name": "stdout",
     "output_type": "stream",
     "text": [
      "Size of <class 'list'>: 800984\n",
      "Size of <class 'tuple'>: 800040\n",
      "Size of <class 'set'>: 4194520\n",
      "Size of <class 'numpy.ndarray'>: 800104\n"
     ]
    }
   ],
   "source": [
    "compare_size([l, t, s, a])"
   ]
  },
  {
   "cell_type": "markdown",
   "id": "bc500f28",
   "metadata": {},
   "source": [
    "Size is very similar for lists, tuples and numpy arrays."
   ]
  },
  {
   "cell_type": "markdown",
   "id": "7ed972d6",
   "metadata": {},
   "source": [
    "**Speed**\n",
    "\n",
    "Which data type is faster?"
   ]
  },
  {
   "cell_type": "code",
   "execution_count": 71,
   "id": "6bad88f0",
   "metadata": {},
   "outputs": [],
   "source": [
    "import time\n",
    "\n",
    "def compare_time(list_objects):\n",
    "    for o in list_objects:\n",
    "        start = time.time()\n",
    "        [x**2 for x in o]\n",
    "        end = time.time()\n",
    "        print(f\"Time of {type(o)}: {end - start}\")"
   ]
  },
  {
   "cell_type": "code",
   "execution_count": 72,
   "id": "7260968c",
   "metadata": {},
   "outputs": [
    {
     "name": "stdout",
     "output_type": "stream",
     "text": [
      "Time of <class 'list'>: 0.0464017391204834\n",
      "Time of <class 'tuple'>: 0.03342103958129883\n",
      "Time of <class 'set'>: 0.022654056549072266\n",
      "Time of <class 'numpy.ndarray'>: 0.010206937789916992\n"
     ]
    }
   ],
   "source": [
    "compare_time([l, t, s, a])"
   ]
  },
  {
   "cell_type": "markdown",
   "id": "8c2c275e",
   "metadata": {},
   "source": [
    "Numpy arrays are faster at math operations."
   ]
  }
 ],
 "metadata": {
  "kernelspec": {
   "display_name": "Python 3 (ipykernel)",
   "language": "python",
   "name": "python3"
  },
  "language_info": {
   "codemirror_mode": {
    "name": "ipython",
    "version": 3
   },
   "file_extension": ".py",
   "mimetype": "text/x-python",
   "name": "python",
   "nbconvert_exporter": "python",
   "pygments_lexer": "ipython3",
   "version": "3.9.9"
  },
  "toc": {
   "base_numbering": 1,
   "nav_menu": {},
   "number_sections": true,
   "sideBar": true,
   "skip_h1_title": false,
   "title_cell": "Table of Contents",
   "title_sidebar": "Contents",
   "toc_cell": true,
   "toc_position": {},
   "toc_section_display": true,
   "toc_window_display": false
  }
 },
 "nbformat": 4,
 "nbformat_minor": 5
}
