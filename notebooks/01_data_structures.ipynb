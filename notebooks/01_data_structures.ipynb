{
 "cells": [
  {
   "cell_type": "markdown",
   "id": "f46318f6",
   "metadata": {},
   "source": [
    "# Data Structures"
   ]
  },
  {
   "cell_type": "code",
   "execution_count": 1,
   "id": "a0fba4c3",
   "metadata": {},
   "outputs": [],
   "source": [
    "import numpy as np\n",
    "import pandas as pd"
   ]
  },
  {
   "cell_type": "markdown",
   "id": "595b763f",
   "metadata": {},
   "source": [
    "For most of this course we are going to work with `pandas` DataFrames. However, it's important to start with an introduction to the different types of data structures available in Python, their characteristics, their differences and their comparative advantages.\n",
    "\n",
    "The most important data structures in Python are:\n",
    "\n",
    "- lists\n",
    "- tuples\n",
    "- sets\n",
    "- dictionaries\n",
    "- numpy arrays\n",
    "- pandas DataFrames\n",
    "- pyspark DataFrames"
   ]
  },
  {
   "cell_type": "markdown",
   "id": "2c5bb81f",
   "metadata": {},
   "source": [
    "## Lists: ordered mutable arrays"
   ]
  },
  {
   "cell_type": "markdown",
   "id": "6c92cd80",
   "metadata": {},
   "source": [
    "A **list** is a mutable array data structure in Python with the following characteristics:\n",
    "\n",
    "- can hold any type of data\n",
    "- can hold different types of data at the same time\n",
    "- can be modified"
   ]
  },
  {
   "cell_type": "markdown",
   "id": "4100253b",
   "metadata": {},
   "source": [
    "We can **generate** lists using square brackets."
   ]
  },
  {
   "cell_type": "code",
   "execution_count": 2,
   "id": "5188ed3f",
   "metadata": {},
   "outputs": [
    {
     "name": "stdout",
     "output_type": "stream",
     "text": [
      "[12, 'world', [3, 4, 5]]\n"
     ]
    }
   ],
   "source": [
    "l = [12, \"world\", [3,4,5]]\n",
    "print(l)"
   ]
  },
  {
   "cell_type": "markdown",
   "id": "80987570",
   "metadata": {},
   "source": [
    "Since lists are *ordered*, we can **access** their element by calling the position of the element in the list."
   ]
  },
  {
   "cell_type": "code",
   "execution_count": 3,
   "id": "ee1112f1",
   "metadata": {},
   "outputs": [
    {
     "data": {
      "text/plain": [
       "12"
      ]
     },
     "execution_count": 3,
     "metadata": {},
     "output_type": "execute_result"
    }
   ],
   "source": [
    "l[0]"
   ]
  },
  {
   "cell_type": "markdown",
   "id": "97d15091",
   "metadata": {},
   "source": [
    "Since lists are *mutable*, we can **modify** their elements."
   ]
  },
  {
   "cell_type": "code",
   "execution_count": 4,
   "id": "8883ba8a",
   "metadata": {
    "scrolled": true
   },
   "outputs": [
    {
     "name": "stdout",
     "output_type": "stream",
     "text": [
      "['hello', 'world', [3, 4, 5]]\n"
     ]
    }
   ],
   "source": [
    "l[0] = 'hello'\n",
    "print(l)"
   ]
  },
  {
   "cell_type": "markdown",
   "id": "3bf10e24",
   "metadata": {},
   "source": [
    "We can **add** elements to a list using `.append()`."
   ]
  },
  {
   "cell_type": "code",
   "execution_count": 5,
   "id": "cb149fbc",
   "metadata": {},
   "outputs": [
    {
     "data": {
      "text/plain": [
       "['hello', 'world', [3, 4, 5], 23]"
      ]
     },
     "execution_count": 5,
     "metadata": {},
     "output_type": "execute_result"
    }
   ],
   "source": [
    "l.append(23)\n",
    "l"
   ]
  },
  {
   "cell_type": "markdown",
   "id": "b5c96b05",
   "metadata": {},
   "source": [
    "We can **remove** elements by calling `del` on it."
   ]
  },
  {
   "cell_type": "code",
   "execution_count": 6,
   "id": "84f48bba",
   "metadata": {},
   "outputs": [
    {
     "name": "stdout",
     "output_type": "stream",
     "text": [
      "['world', [3, 4, 5], 23]\n"
     ]
    }
   ],
   "source": [
    "del l[0]\n",
    "print(l)"
   ]
  },
  {
   "cell_type": "markdown",
   "id": "399037c1",
   "metadata": {},
   "source": [
    "We can **combine** two lists using `+`. Note that this operation does not modify the list but generates a new one."
   ]
  },
  {
   "cell_type": "code",
   "execution_count": 7,
   "id": "075950c3",
   "metadata": {},
   "outputs": [
    {
     "data": {
      "text/plain": [
       "['world', [3, 4, 5], 23, 23]"
      ]
     },
     "execution_count": 7,
     "metadata": {},
     "output_type": "execute_result"
    }
   ],
   "source": [
    "l + [23]"
   ]
  },
  {
   "cell_type": "markdown",
   "id": "565bbbe3",
   "metadata": {},
   "source": [
    "We can also generate lists using **comprehensions**."
   ]
  },
  {
   "cell_type": "code",
   "execution_count": 8,
   "id": "baf6a839",
   "metadata": {},
   "outputs": [
    {
     "name": "stdout",
     "output_type": "stream",
     "text": [
      "[0, 1, 2]\n"
     ]
    }
   ],
   "source": [
    "l = [n for n in range(3)]\n",
    "print(l)"
   ]
  },
  {
   "cell_type": "markdown",
   "id": "8786c3ae",
   "metadata": {},
   "source": [
    "Comprehensions are a powerful tool!"
   ]
  },
  {
   "cell_type": "code",
   "execution_count": 9,
   "id": "2911130a",
   "metadata": {
    "scrolled": true
   },
   "outputs": [
    {
     "name": "stdout",
     "output_type": "stream",
     "text": [
      "[16, 18]\n"
     ]
    }
   ],
   "source": [
    "l = [n+10 for n in range(10) if (n%2==0) and (n>4)]\n",
    "print(l)"
   ]
  },
  {
   "cell_type": "markdown",
   "id": "b4845a0f",
   "metadata": {},
   "source": [
    "## Tuples: ordered unmutable arrays"
   ]
  },
  {
   "cell_type": "markdown",
   "id": "fb3346a3",
   "metadata": {},
   "source": [
    "A **tuple** is an immutable array data structure in Python with the following characteristics:\n",
    "\n",
    "- can hold any type of data\n",
    "- can hold different types of data at the same time\n",
    "- **can not be modified**"
   ]
  },
  {
   "cell_type": "markdown",
   "id": "f63d0ebe",
   "metadata": {},
   "source": [
    "We can **generate** tuples using curve brackets."
   ]
  },
  {
   "cell_type": "code",
   "execution_count": 10,
   "id": "59e49ee9",
   "metadata": {},
   "outputs": [
    {
     "name": "stdout",
     "output_type": "stream",
     "text": [
      "(12, 'world', [3, 4, 5])\n"
     ]
    }
   ],
   "source": [
    "# A list of different data types\n",
    "t = (12, \"world\", [3,4,5])\n",
    "print(t)"
   ]
  },
  {
   "cell_type": "markdown",
   "id": "2d635494",
   "metadata": {},
   "source": [
    "Since tuples are *ordered*, we can **access** their element by calling the position of the element in the list."
   ]
  },
  {
   "cell_type": "code",
   "execution_count": 11,
   "id": "8324e3ea",
   "metadata": {},
   "outputs": [
    {
     "data": {
      "text/plain": [
       "12"
      ]
     },
     "execution_count": 11,
     "metadata": {},
     "output_type": "execute_result"
    }
   ],
   "source": [
    "t[0]"
   ]
  },
  {
   "cell_type": "markdown",
   "id": "176cf73f",
   "metadata": {},
   "source": [
    "Since tuples are *unmutable*, we cannot **modify** their elements."
   ]
  },
  {
   "cell_type": "code",
   "execution_count": 12,
   "id": "c6cae7fd",
   "metadata": {
    "scrolled": true
   },
   "outputs": [
    {
     "name": "stdout",
     "output_type": "stream",
     "text": [
      "'tuple' object does not support item assignment\n"
     ]
    }
   ],
   "source": [
    "# Try to modify element\n",
    "try:\n",
    "    t[0] = 'hello'\n",
    "except Exception as e:\n",
    "    print(e)"
   ]
  },
  {
   "cell_type": "code",
   "execution_count": 13,
   "id": "b8cdd797",
   "metadata": {},
   "outputs": [
    {
     "name": "stdout",
     "output_type": "stream",
     "text": [
      "'tuple' object has no attribute 'append'\n"
     ]
    }
   ],
   "source": [
    "# Try to add element\n",
    "try:\n",
    "    t.append('hello')\n",
    "except Exception as e:\n",
    "    print(e)"
   ]
  },
  {
   "cell_type": "code",
   "execution_count": 14,
   "id": "aa05a497",
   "metadata": {},
   "outputs": [
    {
     "name": "stdout",
     "output_type": "stream",
     "text": [
      "'tuple' object doesn't support item deletion\n"
     ]
    }
   ],
   "source": [
    "# Try to remove element\n",
    "try:\n",
    "    del t[0]\n",
    "except Exception as e:\n",
    "    print(e)"
   ]
  },
  {
   "cell_type": "markdown",
   "id": "00bfe62d",
   "metadata": {},
   "source": [
    "We can **combine** two tuples using `+`. Note that this operation does not modify the tuple but generates a new one. Also note that to generate a 1-element tuple we need to insert a comma."
   ]
  },
  {
   "cell_type": "code",
   "execution_count": 15,
   "id": "d85b7b62",
   "metadata": {},
   "outputs": [
    {
     "data": {
      "text/plain": [
       "(12, 'world', [3, 4, 5], 23)"
      ]
     },
     "execution_count": 15,
     "metadata": {},
     "output_type": "execute_result"
    }
   ],
   "source": [
    "t + (23,)"
   ]
  },
  {
   "cell_type": "markdown",
   "id": "ad6eaa46",
   "metadata": {},
   "source": [
    "We can generate tuples using **comprehensions**, but we need to specify it's a `tuple`."
   ]
  },
  {
   "cell_type": "code",
   "execution_count": 16,
   "id": "e72d37fd",
   "metadata": {},
   "outputs": [
    {
     "name": "stdout",
     "output_type": "stream",
     "text": [
      "(0, 1, 2)\n"
     ]
    }
   ],
   "source": [
    "t = tuple(n for n in range(3))\n",
    "print(t)"
   ]
  },
  {
   "cell_type": "markdown",
   "id": "43bd2dd2",
   "metadata": {},
   "source": [
    "## Sets: unordered unindexed mutable arrays"
   ]
  },
  {
   "cell_type": "markdown",
   "id": "66e322f4",
   "metadata": {},
   "source": [
    "A **set** is a mutable array data structure in Python with the following characteristics:\n",
    "\n",
    "- **can only hold hashable types**\n",
    "- can hold different types of data at the same time\n",
    "- **cannot be modified**\n",
    "- **cannot contain duplicates**"
   ]
  },
  {
   "cell_type": "markdown",
   "id": "4445a2f9",
   "metadata": {},
   "source": [
    "We can **generate** using curly brackets."
   ]
  },
  {
   "cell_type": "code",
   "execution_count": 17,
   "id": "dbcafcc7",
   "metadata": {},
   "outputs": [
    {
     "name": "stdout",
     "output_type": "stream",
     "text": [
      "{(3, 4, 5), 12, 'world'}\n"
     ]
    }
   ],
   "source": [
    "s = {12, \"world\", (3,4,5)}\n",
    "print(s)"
   ]
  },
  {
   "cell_type": "markdown",
   "id": "c3fb9027",
   "metadata": {},
   "source": [
    "Since sets are *unordered* and *unindexed*, we cannot **access** speficic elements by their position."
   ]
  },
  {
   "cell_type": "code",
   "execution_count": 18,
   "id": "022ea1d3",
   "metadata": {},
   "outputs": [
    {
     "name": "stdout",
     "output_type": "stream",
     "text": [
      "'set' object is not subscriptable\n"
     ]
    }
   ],
   "source": [
    "# Try to access element by position\n",
    "try:\n",
    "    s[0]\n",
    "except Exception as e:\n",
    "    print(e)"
   ]
  },
  {
   "cell_type": "markdown",
   "id": "fd93c970",
   "metadata": {},
   "source": [
    "Since sets are *unordered*, we cannot **modify** their elements by specifying the position."
   ]
  },
  {
   "cell_type": "code",
   "execution_count": 19,
   "id": "55dfb0b3",
   "metadata": {
    "scrolled": true
   },
   "outputs": [
    {
     "name": "stdout",
     "output_type": "stream",
     "text": [
      "'set' object does not support item assignment\n"
     ]
    }
   ],
   "source": [
    "# Try to modify element\n",
    "try:\n",
    "    s[0] = 'hello'\n",
    "except Exception as e:\n",
    "    print(e)"
   ]
  },
  {
   "cell_type": "markdown",
   "id": "3a088dc5",
   "metadata": {},
   "source": [
    "However, since sets are *mutable*, we can **add** elements using `.add()`."
   ]
  },
  {
   "cell_type": "code",
   "execution_count": 20,
   "id": "622c19b9",
   "metadata": {},
   "outputs": [
    {
     "name": "stdout",
     "output_type": "stream",
     "text": [
      "{'hello', (3, 4, 5), 12, 'world'}\n"
     ]
    }
   ],
   "source": [
    "s.add('hello')\n",
    "print(s)"
   ]
  },
  {
   "cell_type": "markdown",
   "id": "3e108e7e",
   "metadata": {},
   "source": [
    "However, we cannot add **duplicates**."
   ]
  },
  {
   "cell_type": "code",
   "execution_count": 21,
   "id": "abe32054",
   "metadata": {},
   "outputs": [
    {
     "name": "stdout",
     "output_type": "stream",
     "text": [
      "{'hello', (3, 4, 5), 12, 'world'}\n"
     ]
    }
   ],
   "source": [
    "s.add('hello')\n",
    "print(s)"
   ]
  },
  {
   "cell_type": "markdown",
   "id": "69c08d1f",
   "metadata": {},
   "source": [
    "We can **delete** elements of a set using `.remove()`."
   ]
  },
  {
   "cell_type": "code",
   "execution_count": 22,
   "id": "3d2a890a",
   "metadata": {},
   "outputs": [
    {
     "name": "stdout",
     "output_type": "stream",
     "text": [
      "{(3, 4, 5), 12, 'world'}\n"
     ]
    }
   ],
   "source": [
    "s.remove('hello')\n",
    "print(s)"
   ]
  },
  {
   "cell_type": "markdown",
   "id": "72a9f573",
   "metadata": {},
   "source": [
    "We can also generate sets using **comprehensions**."
   ]
  },
  {
   "cell_type": "code",
   "execution_count": 23,
   "id": "2e5f5e45",
   "metadata": {},
   "outputs": [
    {
     "name": "stdout",
     "output_type": "stream",
     "text": [
      "{0, 1, 2}\n"
     ]
    }
   ],
   "source": [
    "s = {n for n in range(3)}\n",
    "print(s)"
   ]
  },
  {
   "cell_type": "markdown",
   "id": "8e2b3cb6",
   "metadata": {},
   "source": [
    "## Dictionaries: indexed mutable arrays"
   ]
  },
  {
   "cell_type": "markdown",
   "id": "18eb8a49",
   "metadata": {},
   "source": [
    "A **dictionary** is a mutable array data structure in Python with the following characteristics:\n",
    "\n",
    "- can hold any type\n",
    "- can hold different types at the same time\n",
    "- can be modified\n",
    "- **items are named**"
   ]
  },
  {
   "cell_type": "markdown",
   "id": "4ad3f7f2",
   "metadata": {},
   "source": [
    "We can **generate** dictionaries using curly brackets. Since elements are indexed by keys, we have to provide one for each element.\n",
    "\n",
    "Dictionary keys can be of any **hashable type**. A hashable object has a hash value that never changes during its lifetime, and it can be compared to other objects. Hashable objects that compare as equal must have the same hash value.\n",
    "\n",
    "Immutable types like strings and numbers are hashable and work well as dictionary keys. You can also use tuple objects as dictionary keys as long as they contain only hashable types themselves."
   ]
  },
  {
   "cell_type": "code",
   "execution_count": 24,
   "id": "0e4e996d",
   "metadata": {},
   "outputs": [
    {
     "name": "stdout",
     "output_type": "stream",
     "text": [
      "{'first': 12, 2: 'world', (3,): [3, 4, 5]}\n"
     ]
    }
   ],
   "source": [
    "d = {\"first\": 12, 2: \"world\", (3,): [3,4,5]}\n",
    "print(d)"
   ]
  },
  {
   "cell_type": "markdown",
   "id": "b2b5419e",
   "metadata": {},
   "source": [
    "Since dictionaries are indexed but not ordered, we can only **access** elements by the corresponding key. If the corresponding key does not exist, we do not access any element."
   ]
  },
  {
   "cell_type": "code",
   "execution_count": 25,
   "id": "92ccf2c5",
   "metadata": {
    "scrolled": true
   },
   "outputs": [
    {
     "name": "stdout",
     "output_type": "stream",
     "text": [
      "0\n"
     ]
    }
   ],
   "source": [
    "try:\n",
    "    d[0]\n",
    "except Exception as e:\n",
    "    print(e)"
   ]
  },
  {
   "cell_type": "markdown",
   "id": "19685704",
   "metadata": {},
   "source": [
    "We can **access all values** of the dictionary using `.values()`."
   ]
  },
  {
   "cell_type": "code",
   "execution_count": 26,
   "id": "9005ef9a",
   "metadata": {
    "scrolled": true
   },
   "outputs": [
    {
     "data": {
      "text/plain": [
       "dict_values([12, 'world', [3, 4, 5]])"
      ]
     },
     "execution_count": 26,
     "metadata": {},
     "output_type": "execute_result"
    }
   ],
   "source": [
    "d.values()"
   ]
  },
  {
   "cell_type": "markdown",
   "id": "8ddd7220",
   "metadata": {},
   "source": [
    "We can **access all keys** of the dictionary using `.keys()`."
   ]
  },
  {
   "cell_type": "code",
   "execution_count": 27,
   "id": "9a7ecacb",
   "metadata": {
    "scrolled": false
   },
   "outputs": [
    {
     "data": {
      "text/plain": [
       "dict_keys(['first', 2, (3,)])"
      ]
     },
     "execution_count": 27,
     "metadata": {},
     "output_type": "execute_result"
    }
   ],
   "source": [
    "d.keys()"
   ]
  },
  {
   "cell_type": "markdown",
   "id": "d859cd50",
   "metadata": {},
   "source": [
    "Since dictionaries are mutable, we can **modify** their elements."
   ]
  },
  {
   "cell_type": "code",
   "execution_count": 28,
   "id": "9a9847e5",
   "metadata": {},
   "outputs": [
    {
     "name": "stdout",
     "output_type": "stream",
     "text": [
      "{'first': 'hello', 2: 'world', (3,): [3, 4, 5]}\n"
     ]
    }
   ],
   "source": [
    "d[\"first\"] = 'hello'\n",
    "print(d)"
   ]
  },
  {
   "cell_type": "markdown",
   "id": "b82af603",
   "metadata": {},
   "source": [
    "If we try to modify an element that does not exist, the element is added to the dictionary."
   ]
  },
  {
   "cell_type": "code",
   "execution_count": 29,
   "id": "3743c4f8",
   "metadata": {
    "scrolled": true
   },
   "outputs": [
    {
     "name": "stdout",
     "output_type": "stream",
     "text": [
      "{'first': 'hello', 2: 'world', (3,): [3, 4, 5], 0: 'hello'}\n"
     ]
    }
   ],
   "source": [
    "d[0] = 'hello'\n",
    "print(d)"
   ]
  },
  {
   "cell_type": "markdown",
   "id": "bfe31eca",
   "metadata": {},
   "source": [
    "We can **remove** elements using `del`."
   ]
  },
  {
   "cell_type": "code",
   "execution_count": 30,
   "id": "b59663ba",
   "metadata": {},
   "outputs": [
    {
     "name": "stdout",
     "output_type": "stream",
     "text": [
      "{'first': 'hello', 2: 'world', (3,): [3, 4, 5]}\n"
     ]
    }
   ],
   "source": [
    "del d[0]\n",
    "print(d)"
   ]
  },
  {
   "cell_type": "markdown",
   "id": "09b01945",
   "metadata": {},
   "source": [
    "We can cannot **combine** two dictionaries using `+`. We can only add one element at the time."
   ]
  },
  {
   "cell_type": "code",
   "execution_count": 31,
   "id": "cdc3387e",
   "metadata": {},
   "outputs": [
    {
     "name": "stdout",
     "output_type": "stream",
     "text": [
      "unsupported operand type(s) for +: 'dict' and 'dict'\n"
     ]
    }
   ],
   "source": [
    "try:\n",
    "    d + {\"fourth\": (1,2)}\n",
    "except Exception as e:\n",
    "    print(e)"
   ]
  },
  {
   "cell_type": "markdown",
   "id": "30261139",
   "metadata": {},
   "source": [
    "We can also generate dictionaries using **comprehensions**."
   ]
  },
  {
   "cell_type": "code",
   "execution_count": 32,
   "id": "0de0a064",
   "metadata": {},
   "outputs": [
    {
     "name": "stdout",
     "output_type": "stream",
     "text": [
      "{'k0': 1, 'k1': 2, 'k2': 3}\n"
     ]
    }
   ],
   "source": [
    "d = {f\"k{n}\": n+1 for n in range(3)}\n",
    "print(d)"
   ]
  },
  {
   "cell_type": "markdown",
   "id": "5184bf1d",
   "metadata": {},
   "source": [
    "## Numpy Array: ordered mutable arrays for math"
   ]
  },
  {
   "cell_type": "markdown",
   "id": "330ee267",
   "metadata": {},
   "source": [
    "A **numpy array** is a mutable array data structure in Python with the following characteristics:\n",
    "\n",
    "- can hold any type of data\n",
    "- **can only hold one type at the same time**\n",
    "- can be modified\n",
    "- **can be multi-dimensional**\n",
    "- **support matrix operations**"
   ]
  },
  {
   "cell_type": "markdown",
   "id": "e74f2777",
   "metadata": {},
   "source": [
    "We can **generate** numpy arrays are generated the `np.array()` function on a list."
   ]
  },
  {
   "cell_type": "code",
   "execution_count": 33,
   "id": "b907857b",
   "metadata": {},
   "outputs": [
    {
     "name": "stdout",
     "output_type": "stream",
     "text": [
      "[1 2 3]\n"
     ]
    }
   ],
   "source": [
    "a = np.array([1,2,3])\n",
    "print(a)"
   ]
  },
  {
   "cell_type": "markdown",
   "id": "c4959c5f",
   "metadata": {},
   "source": [
    "We can make 2-dimensional arrays (a matrix) as lists of lists."
   ]
  },
  {
   "cell_type": "code",
   "execution_count": 34,
   "id": "6595f5ad",
   "metadata": {
    "scrolled": true
   },
   "outputs": [
    {
     "name": "stdout",
     "output_type": "stream",
     "text": [
      "[[1 2 3]\n",
      " [4 5 6]]\n"
     ]
    }
   ],
   "source": [
    "m = np.array([[1,2,3] , [4,5,6]])\n",
    "print(m)"
   ]
  },
  {
   "cell_type": "markdown",
   "id": "e8ab8481",
   "metadata": {},
   "source": [
    "Since numpy arrays are mutable, we can **modify** elements by calling the index of the numpy array."
   ]
  },
  {
   "cell_type": "code",
   "execution_count": 35,
   "id": "90215128",
   "metadata": {
    "scrolled": true
   },
   "outputs": [
    {
     "name": "stdout",
     "output_type": "stream",
     "text": [
      "[[89  2  3]\n",
      " [ 4  5  6]]\n"
     ]
    }
   ],
   "source": [
    "m[0,0] = 89\n",
    "print(m)"
   ]
  },
  {
   "cell_type": "markdown",
   "id": "eef1177d",
   "metadata": {},
   "source": [
    "We can check the **shape** of a numpy array using `.shape`"
   ]
  },
  {
   "cell_type": "code",
   "execution_count": 36,
   "id": "b24e2f3d",
   "metadata": {},
   "outputs": [
    {
     "data": {
      "text/plain": [
       "(2, 3)"
      ]
     },
     "execution_count": 36,
     "metadata": {},
     "output_type": "execute_result"
    }
   ],
   "source": [
    "m.shape"
   ]
  },
  {
   "cell_type": "markdown",
   "id": "2ddd8b62",
   "metadata": {},
   "source": [
    "We can **expand dimensions** of a numpy array using `.expand_dims()`."
   ]
  },
  {
   "cell_type": "code",
   "execution_count": 37,
   "id": "fe6bee0f",
   "metadata": {},
   "outputs": [
    {
     "name": "stdout",
     "output_type": "stream",
     "text": [
      "[[1]\n",
      " [2]\n",
      " [3]]\n"
     ]
    }
   ],
   "source": [
    "a = np.expand_dims(a,1)\n",
    "print(a)"
   ]
  },
  {
   "cell_type": "markdown",
   "id": "17c498f7",
   "metadata": {},
   "source": [
    "We can **transpose** matrices using `.T`."
   ]
  },
  {
   "cell_type": "code",
   "execution_count": 38,
   "id": "bb36dc95",
   "metadata": {},
   "outputs": [
    {
     "name": "stdout",
     "output_type": "stream",
     "text": [
      "[[1 2 3]]\n"
     ]
    }
   ],
   "source": [
    "a = a.T\n",
    "print(a)"
   ]
  },
  {
   "cell_type": "markdown",
   "id": "1868652c",
   "metadata": {},
   "source": [
    "We **add** elements to a numpy array using `np.concatenate()`. All elements must have the same number of dimensions and must have the same number of elements along the concatenation axis."
   ]
  },
  {
   "cell_type": "code",
   "execution_count": 39,
   "id": "167cb88e",
   "metadata": {},
   "outputs": [
    {
     "name": "stdout",
     "output_type": "stream",
     "text": [
      "[[89  2  3]\n",
      " [ 4  5  6]\n",
      " [ 1  2  3]]\n"
     ]
    }
   ],
   "source": [
    "m = np.concatenate((m, a), axis=0)\n",
    "print(m)"
   ]
  },
  {
   "cell_type": "markdown",
   "id": "40bb773b",
   "metadata": {},
   "source": [
    "We cannot **remove** elements of numpy arrays."
   ]
  },
  {
   "cell_type": "code",
   "execution_count": 40,
   "id": "229380c6",
   "metadata": {},
   "outputs": [
    {
     "name": "stdout",
     "output_type": "stream",
     "text": [
      "cannot delete array elements\n"
     ]
    }
   ],
   "source": [
    "try:\n",
    "    del a[0]\n",
    "except Exception as e:\n",
    "    print(e)"
   ]
  },
  {
   "cell_type": "markdown",
   "id": "e474a6da",
   "metadata": {},
   "source": [
    "We can do **matrix operations** between numpy arrays. For example, we can do multiplication with `@`."
   ]
  },
  {
   "cell_type": "code",
   "execution_count": 41,
   "id": "02d96ba5",
   "metadata": {},
   "outputs": [
    {
     "data": {
      "text/plain": [
       "array([[100,  18,  24]])"
      ]
     },
     "execution_count": 41,
     "metadata": {},
     "output_type": "execute_result"
    }
   ],
   "source": [
    "a @ m"
   ]
  },
  {
   "cell_type": "markdown",
   "id": "c7308847",
   "metadata": {},
   "source": [
    "If we use `*` we get dot (or element-wise) multiplication instead."
   ]
  },
  {
   "cell_type": "code",
   "execution_count": 42,
   "id": "6c1aa6e0",
   "metadata": {},
   "outputs": [
    {
     "data": {
      "text/plain": [
       "array([[89,  4,  9],\n",
       "       [ 4, 10, 18],\n",
       "       [ 1,  4,  9]])"
      ]
     },
     "execution_count": 42,
     "metadata": {},
     "output_type": "execute_result"
    }
   ],
   "source": [
    "a * m"
   ]
  },
  {
   "cell_type": "markdown",
   "id": "1a7817b9",
   "metadata": {},
   "source": [
    "There is a wide array of functions available in numpy. For example `np.invert()` inverts a squared matrix."
   ]
  },
  {
   "cell_type": "code",
   "execution_count": 43,
   "id": "b9292a2a",
   "metadata": {},
   "outputs": [
    {
     "data": {
      "text/plain": [
       "array([[-90,  -3,  -4],\n",
       "       [ -5,  -6,  -7],\n",
       "       [ -2,  -3,  -4]])"
      ]
     },
     "execution_count": 43,
     "metadata": {},
     "output_type": "execute_result"
    }
   ],
   "source": [
    "np.invert(m)"
   ]
  },
  {
   "cell_type": "markdown",
   "id": "37e455e1",
   "metadata": {},
   "source": [
    "## Comparison"
   ]
  },
  {
   "cell_type": "markdown",
   "id": "25dd5f28",
   "metadata": {},
   "source": [
    "Which data structure should you use and why? Let's compare different data types"
   ]
  },
  {
   "cell_type": "code",
   "execution_count": 44,
   "id": "f88feec2",
   "metadata": {},
   "outputs": [],
   "source": [
    "K = 100_000\n",
    "l = [n for n in range(K)]\n",
    "t = tuple(n for n in range(K))\n",
    "s = {n for n in range(K)}\n",
    "a = np.array([n for n in range(K)])"
   ]
  },
  {
   "cell_type": "markdown",
   "id": "1145f08a",
   "metadata": {},
   "source": [
    "**Size**\n",
    "\n",
    "Which data type is more efficient?"
   ]
  },
  {
   "cell_type": "code",
   "execution_count": 45,
   "id": "cf3f5d5f",
   "metadata": {},
   "outputs": [],
   "source": [
    "import sys\n",
    "\n",
    "def compare_size(list_objects):\n",
    "    for o in list_objects:\n",
    "        print(f\"Size of {type(o)}: {sys.getsizeof(o)}\")"
   ]
  },
  {
   "cell_type": "code",
   "execution_count": 46,
   "id": "7bd3e2fb",
   "metadata": {},
   "outputs": [
    {
     "name": "stdout",
     "output_type": "stream",
     "text": [
      "Size of <class 'list'>: 800984\n",
      "Size of <class 'tuple'>: 800040\n",
      "Size of <class 'set'>: 4194520\n",
      "Size of <class 'numpy.ndarray'>: 800104\n"
     ]
    }
   ],
   "source": [
    "compare_size([l, t, s, a])"
   ]
  },
  {
   "cell_type": "markdown",
   "id": "255cc4b4",
   "metadata": {},
   "source": [
    "Size is very similar for lists, tuples and numpy arrays."
   ]
  },
  {
   "cell_type": "markdown",
   "id": "16e53c17",
   "metadata": {},
   "source": [
    "**Speed**\n",
    "\n",
    "Which data type is faster?"
   ]
  },
  {
   "cell_type": "code",
   "execution_count": 47,
   "id": "9e2a3924",
   "metadata": {},
   "outputs": [],
   "source": [
    "import time\n",
    "\n",
    "def compare_time(list_objects):\n",
    "    for o in list_objects:\n",
    "        start = time.time()\n",
    "        [x**2 for x in o]\n",
    "        end = time.time()\n",
    "        print(f\"Time of {type(o)}: {end - start}\")"
   ]
  },
  {
   "cell_type": "code",
   "execution_count": 48,
   "id": "b49256f4",
   "metadata": {},
   "outputs": [
    {
     "name": "stdout",
     "output_type": "stream",
     "text": [
      "Time of <class 'list'>: 0.021067142486572266\n",
      "Time of <class 'tuple'>: 0.02071404457092285\n",
      "Time of <class 'set'>: 0.021012067794799805\n",
      "Time of <class 'numpy.ndarray'>: 0.010493993759155273\n"
     ]
    }
   ],
   "source": [
    "compare_time([l, t, s, a])"
   ]
  },
  {
   "cell_type": "markdown",
   "id": "9e63ecec",
   "metadata": {},
   "source": [
    "Numpy arrays are faster at math operations."
   ]
  }
 ],
 "metadata": {
  "kernelspec": {
   "display_name": "Python 3 (ipykernel)",
   "language": "python",
   "name": "python3"
  },
  "language_info": {
   "codemirror_mode": {
    "name": "ipython",
    "version": 3
   },
   "file_extension": ".py",
   "mimetype": "text/x-python",
   "name": "python",
   "nbconvert_exporter": "python",
   "pygments_lexer": "ipython3",
   "version": "3.9.9"
  },
  "toc": {
   "base_numbering": 1,
   "nav_menu": {},
   "number_sections": true,
   "sideBar": true,
   "skip_h1_title": false,
   "title_cell": "Table of Contents",
   "title_sidebar": "Contents",
   "toc_cell": true,
   "toc_position": {},
   "toc_section_display": true,
   "toc_window_display": false
  }
 },
 "nbformat": 4,
 "nbformat_minor": 5
}
