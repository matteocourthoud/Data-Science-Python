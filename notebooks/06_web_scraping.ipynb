{
 "cells": [
  {
   "cell_type": "markdown",
   "id": "7918ffcd",
   "metadata": {},
   "source": [
    "# Web Scraping"
   ]
  },
  {
   "cell_type": "code",
   "execution_count": 1,
   "id": "5238a79f",
   "metadata": {},
   "outputs": [],
   "source": [
    "import os\n",
    "import re\n",
    "import time\n",
    "import requests\n",
    "import pandas as pd\n",
    "\n",
    "from bs4 import BeautifulSoup\n",
    "from pprint import pprint\n",
    "from selenium import webdriver"
   ]
  },
  {
   "cell_type": "markdown",
   "id": "cabe3e40",
   "metadata": {},
   "source": [
    "There is no silver bullet to getting info from the internet.\n",
    "The coding requirements in these notes start easy and will gradually become more demanding. We will cover the following web scraping techniques:\n",
    "\n",
    "1. Pandas\n",
    "2. APIs\n",
    "3. Scraping static webpages with BeautifulSoup\n",
    "4. Scraping dynamic wepages with Selenium"
   ]
  },
  {
   "cell_type": "markdown",
   "id": "4723009e",
   "metadata": {},
   "source": [
    "## Pandas"
   ]
  },
  {
   "cell_type": "markdown",
   "id": "3092c415",
   "metadata": {},
   "source": [
    "The Pandas library has a very useful webscraping command: `read_html`. The `read_html` command works for webpages that contain tables that are particularly well behaved. Let's see an example: https://en.wikipedia.org/wiki/List_of_countries_by_GDP_(nominal)\n",
    "\n",
    "At first glance, it seems that there are three tables in this Wikipedia page:\n",
    "1. data from the IMF\n",
    "2. data from the World Bank\n",
    "3. data from the UN\n",
    "\n",
    "Let's see which tables pandas recognizes."
   ]
  },
  {
   "cell_type": "code",
   "execution_count": 2,
   "id": "5b3e45dc",
   "metadata": {},
   "outputs": [
    {
     "name": "stdout",
     "output_type": "stream",
     "text": [
      "7\n"
     ]
    }
   ],
   "source": [
    "# Scrape all tables from Wikipedia page\n",
    "url = 'https://en.wikipedia.org/wiki/List_of_countries_by_GDP_(nominal)'\n",
    "df_list = pd.read_html(url)\n",
    "\n",
    "# Check number of tables on the page\n",
    "print(len(df_list))"
   ]
  },
  {
   "cell_type": "markdown",
   "id": "dbf36578",
   "metadata": {},
   "source": [
    "Apparently Pandas has found 10 tables in this webpage. Let's see what is their content."
   ]
  },
  {
   "cell_type": "code",
   "execution_count": 3,
   "id": "045af04e",
   "metadata": {},
   "outputs": [
    {
     "name": "stdout",
     "output_type": "stream",
     "text": [
      "(1, 1)\n",
      "(1, 3)\n",
      "(216, 9)\n",
      "(9, 2)\n",
      "(7, 2)\n",
      "(13, 2)\n",
      "(2, 2)\n"
     ]
    }
   ],
   "source": [
    "# Check headers of each table\n",
    "for df in df_list: print(df.shape)"
   ]
  },
  {
   "cell_type": "markdown",
   "id": "24d6c664",
   "metadata": {},
   "source": [
    "It seems that pandas has found many more tables that we could see. The ones that are of interest to us are probably the 3rd, 4th and 5th. But that are the others? Let's look at the them."
   ]
  },
  {
   "cell_type": "code",
   "execution_count": 4,
   "id": "7b5f5e59",
   "metadata": {},
   "outputs": [
    {
     "data": {
      "text/html": [
       "<div>\n",
       "<style scoped>\n",
       "    .dataframe tbody tr th:only-of-type {\n",
       "        vertical-align: middle;\n",
       "    }\n",
       "\n",
       "    .dataframe tbody tr th {\n",
       "        vertical-align: top;\n",
       "    }\n",
       "\n",
       "    .dataframe thead th {\n",
       "        text-align: right;\n",
       "    }\n",
       "</style>\n",
       "<table border=\"1\" class=\"dataframe\">\n",
       "  <thead>\n",
       "    <tr style=\"text-align: right;\">\n",
       "      <th></th>\n",
       "      <th>0</th>\n",
       "    </tr>\n",
       "  </thead>\n",
       "  <tbody>\n",
       "    <tr>\n",
       "      <th>0</th>\n",
       "      <td>Largest economies by nominal GDP in 2021[1]</td>\n",
       "    </tr>\n",
       "  </tbody>\n",
       "</table>\n",
       "</div>"
      ],
      "text/plain": [
       "                                             0\n",
       "0  Largest economies by nominal GDP in 2021[1]"
      ]
     },
     "execution_count": 4,
     "metadata": {},
     "output_type": "execute_result"
    }
   ],
   "source": [
    "# Check first\n",
    "df_list[0].head()"
   ]
  },
  {
   "cell_type": "code",
   "execution_count": 5,
   "id": "2804bf3e",
   "metadata": {},
   "outputs": [
    {
     "data": {
      "text/html": [
       "<div>\n",
       "<style scoped>\n",
       "    .dataframe tbody tr th:only-of-type {\n",
       "        vertical-align: middle;\n",
       "    }\n",
       "\n",
       "    .dataframe tbody tr th {\n",
       "        vertical-align: top;\n",
       "    }\n",
       "\n",
       "    .dataframe thead th {\n",
       "        text-align: right;\n",
       "    }\n",
       "</style>\n",
       "<table border=\"1\" class=\"dataframe\">\n",
       "  <thead>\n",
       "    <tr style=\"text-align: right;\">\n",
       "      <th></th>\n",
       "      <th>0</th>\n",
       "      <th>1</th>\n",
       "      <th>2</th>\n",
       "    </tr>\n",
       "  </thead>\n",
       "  <tbody>\n",
       "    <tr>\n",
       "      <th>0</th>\n",
       "      <td>.mw-parser-output .legend{page-break-inside:av...</td>\n",
       "      <td>$750 billion – $1 trillion $500–50 billion $25...</td>\n",
       "      <td>$50–100 billion $25–50 billion $5–25 billion &lt;...</td>\n",
       "    </tr>\n",
       "  </tbody>\n",
       "</table>\n",
       "</div>"
      ],
      "text/plain": [
       "                                                   0  \\\n",
       "0  .mw-parser-output .legend{page-break-inside:av...   \n",
       "\n",
       "                                                   1  \\\n",
       "0  $750 billion – $1 trillion $500–50 billion $25...   \n",
       "\n",
       "                                                   2  \n",
       "0  $50–100 billion $25–50 billion $5–25 billion <...  "
      ]
     },
     "execution_count": 5,
     "metadata": {},
     "output_type": "execute_result"
    }
   ],
   "source": [
    "# Check second\n",
    "df_list[1].head()"
   ]
  },
  {
   "cell_type": "markdown",
   "id": "6c45fac3",
   "metadata": {},
   "source": [
    "Apparently, the first two are simply picture captions."
   ]
  },
  {
   "cell_type": "code",
   "execution_count": 6,
   "id": "78c70367",
   "metadata": {},
   "outputs": [
    {
     "data": {
      "text/html": [
       "<div>\n",
       "<style scoped>\n",
       "    .dataframe tbody tr th:only-of-type {\n",
       "        vertical-align: middle;\n",
       "    }\n",
       "\n",
       "    .dataframe tbody tr th {\n",
       "        vertical-align: top;\n",
       "    }\n",
       "\n",
       "    .dataframe thead tr th {\n",
       "        text-align: left;\n",
       "    }\n",
       "</style>\n",
       "<table border=\"1\" class=\"dataframe\">\n",
       "  <thead>\n",
       "    <tr>\n",
       "      <th></th>\n",
       "      <th>Country/Territory</th>\n",
       "      <th>Subregion</th>\n",
       "      <th>Region</th>\n",
       "      <th colspan=\"2\" halign=\"left\">IMF[1]</th>\n",
       "      <th colspan=\"2\" halign=\"left\">United Nations[12]</th>\n",
       "      <th colspan=\"2\" halign=\"left\">World Bank[13][14]</th>\n",
       "    </tr>\n",
       "    <tr>\n",
       "      <th></th>\n",
       "      <th>Country/Territory</th>\n",
       "      <th>Subregion</th>\n",
       "      <th>Region</th>\n",
       "      <th>Estimate</th>\n",
       "      <th>Year</th>\n",
       "      <th>Estimate</th>\n",
       "      <th>Year</th>\n",
       "      <th>Estimate</th>\n",
       "      <th>Year</th>\n",
       "    </tr>\n",
       "  </thead>\n",
       "  <tbody>\n",
       "    <tr>\n",
       "      <th>0</th>\n",
       "      <td>United States</td>\n",
       "      <td>Northern America</td>\n",
       "      <td>Americas</td>\n",
       "      <td>22939580.0</td>\n",
       "      <td>2021</td>\n",
       "      <td>20893746.0</td>\n",
       "      <td>2020</td>\n",
       "      <td>20936600.0</td>\n",
       "      <td>2020</td>\n",
       "    </tr>\n",
       "    <tr>\n",
       "      <th>1</th>\n",
       "      <td>China</td>\n",
       "      <td>Eastern Asia</td>\n",
       "      <td>Asia</td>\n",
       "      <td>16862979.0</td>\n",
       "      <td>[n 2]2021</td>\n",
       "      <td>14722801.0</td>\n",
       "      <td>[n 3]2020</td>\n",
       "      <td>14722731.0</td>\n",
       "      <td>2020</td>\n",
       "    </tr>\n",
       "    <tr>\n",
       "      <th>2</th>\n",
       "      <td>Japan</td>\n",
       "      <td>Eastern Asia</td>\n",
       "      <td>Asia</td>\n",
       "      <td>5103110.0</td>\n",
       "      <td>2021</td>\n",
       "      <td>5057759.0</td>\n",
       "      <td>2020</td>\n",
       "      <td>4975415.0</td>\n",
       "      <td>2020</td>\n",
       "    </tr>\n",
       "    <tr>\n",
       "      <th>3</th>\n",
       "      <td>Germany</td>\n",
       "      <td>Western Europe</td>\n",
       "      <td>Europe</td>\n",
       "      <td>4230172.0</td>\n",
       "      <td>2021</td>\n",
       "      <td>3846414.0</td>\n",
       "      <td>2020</td>\n",
       "      <td>3806060.0</td>\n",
       "      <td>2020</td>\n",
       "    </tr>\n",
       "    <tr>\n",
       "      <th>4</th>\n",
       "      <td>United Kingdom</td>\n",
       "      <td>Western Europe</td>\n",
       "      <td>Europe</td>\n",
       "      <td>3108416.0</td>\n",
       "      <td>2021</td>\n",
       "      <td>2764198.0</td>\n",
       "      <td>2020</td>\n",
       "      <td>2707744.0</td>\n",
       "      <td>2020</td>\n",
       "    </tr>\n",
       "  </tbody>\n",
       "</table>\n",
       "</div>"
      ],
      "text/plain": [
       "  Country/Territory         Subregion    Region      IMF[1]             \\\n",
       "  Country/Territory         Subregion    Region    Estimate       Year   \n",
       "0     United States  Northern America  Americas  22939580.0       2021   \n",
       "1             China      Eastern Asia      Asia  16862979.0  [n 2]2021   \n",
       "2             Japan      Eastern Asia      Asia   5103110.0       2021   \n",
       "3           Germany    Western Europe    Europe   4230172.0       2021   \n",
       "4    United Kingdom    Western Europe    Europe   3108416.0       2021   \n",
       "\n",
       "  United Nations[12]            World Bank[13][14]        \n",
       "            Estimate       Year           Estimate  Year  \n",
       "0         20893746.0       2020         20936600.0  2020  \n",
       "1         14722801.0  [n 3]2020         14722731.0  2020  \n",
       "2          5057759.0       2020          4975415.0  2020  \n",
       "3          3846414.0       2020          3806060.0  2020  \n",
       "4          2764198.0       2020          2707744.0  2020  "
      ]
     },
     "execution_count": 6,
     "metadata": {},
     "output_type": "execute_result"
    }
   ],
   "source": [
    "# Check third\n",
    "df_list[2].head()"
   ]
  },
  {
   "cell_type": "markdown",
   "id": "7c151ba8",
   "metadata": {},
   "source": [
    "This is clearly what we were looking for. A part from the footnotes, the table is already clean and organized.\n",
    "\n",
    "If we knew the name of the table, we could directly retrieve it. However, we will see more about it in the next lecture."
   ]
  },
  {
   "cell_type": "markdown",
   "id": "576914e3",
   "metadata": {},
   "source": [
    "## Specific Libraries"
   ]
  },
  {
   "cell_type": "markdown",
   "id": "0d5bd8f1",
   "metadata": {},
   "source": [
    "Sometimes, there are libraries that are already written down to do the scraping for you. Each one is tailored for a specific website and they are usually userwritten and prone to bugs and errors. However, they are often efficient and save you the time to worry about getting around some website-specific issues.\n",
    "\n",
    "One example is the `pytrends` library for scraping Google Trends. Let's first install it\n",
    "\n",
    "```python\n",
    "pip3 install pytrends\n",
    "```\n",
    "\n",
    "Let's see how it works. Imagine we want to do the following search:\n",
    "- words \"python\", \"matlab\", \"stata\"\n",
    "- the the second half of in 2019\n",
    "- daily\n",
    "- in the US\n",
    "\n",
    "We can get more details on how pytrends works [here](https://github.com/GeneralMills/pytrends#historical-hourly-interest). The important thing to know is that if you query a time period of more than 200 days, Google will give you weekly results, instead of daily."
   ]
  },
  {
   "cell_type": "code",
   "execution_count": 7,
   "id": "88f4f30d",
   "metadata": {},
   "outputs": [
    {
     "data": {
      "image/png": "[encoded data removed]",
      "text/plain": [
       "<Figure size 432x288 with 1 Axes>"
      ]
     },
     "metadata": {
      "needs_background": "light"
     },
     "output_type": "display_data"
    }
   ],
   "source": [
    "# Pytrends search\n",
    "from pytrends.request import TrendReq\n",
    "\n",
    "# Set parameters\n",
    "words = ['python', 'matlab', 'stata']\n",
    "timeframe = '2019-07-01 2019-12-31'\n",
    "country = 'US'\n",
    "\n",
    "# Get data\n",
    "pytrend = TrendReq()\n",
    "pytrend.build_payload(kw_list=words, timeframe=timeframe, geo=country)\n",
    "df_trends = pytrend.interest_over_time()\n",
    "\n",
    "# Plot\n",
    "trends_plot = df_trends.plot.line()"
   ]
  },
  {
   "cell_type": "markdown",
   "id": "1ddba98d",
   "metadata": {},
   "source": [
    "Apparently people don't code during the weekend...."
   ]
  },
  {
   "cell_type": "markdown",
   "id": "c6f1c3af",
   "metadata": {},
   "source": [
    "## APIs"
   ]
  },
  {
   "cell_type": "markdown",
   "id": "a3cf083a",
   "metadata": {},
   "source": [
    "From Wikipedia \n",
    "\n",
    "> An application programming interface (API) is an interface or communication protocol between different parts of a computer program intended to simplify the implementation and maintenance of software.\n",
    "\n",
    "In practice, it means that the are some webpages that are structured not to be user-readable but to be computer-readable. Let's see one example.\n",
    "\n",
    "Google provides many APIs for its services. However, they now all need identification, which means that you have to log in into your Google account and request an API key from there. This allows Google to monitor your behavior since the number of API requests is limited and beyond a certain treshold, one need to pay (a lot).\n",
    "\n",
    "There are however some free APIs. One \n",
    "\n",
    "Let's have a look at one of these: zippopotam. Zippopotam lets you retrieve location information from a zip code in the US. Other countries are supported as well. "
   ]
  },
  {
   "cell_type": "code",
   "execution_count": 8,
   "id": "c60c0a90",
   "metadata": {},
   "outputs": [
    {
     "data": {
      "text/plain": [
       "{'post code': '90210',\n",
       " 'country': 'United States',\n",
       " 'country abbreviation': 'US',\n",
       " 'places': [{'place name': 'Beverly Hills',\n",
       "   'longitude': '-118.4065',\n",
       "   'state': 'California',\n",
       "   'state abbreviation': 'CA',\n",
       "   'latitude': '34.0901'}]}"
      ]
     },
     "execution_count": 8,
     "metadata": {},
     "output_type": "execute_result"
    }
   ],
   "source": [
    "# Let's search the department locatiton\n",
    "import requests\n",
    "\n",
    "zipcode = '90210'\n",
    "url = 'https://api.zippopotam.us/us/'+zipcode\n",
    "\n",
    "response = requests.get(url)\n",
    "data = response.json()\n",
    "data"
   ]
  },
  {
   "cell_type": "markdown",
   "id": "171a09b5",
   "metadata": {},
   "source": [
    "Data is in JSON (JavaScript Object Notation) format which is basically a nested dictionary-list format. Indeed, we see that in our case, data is a dictionary where the last elements is a list with one element - another dictionary."
   ]
  },
  {
   "cell_type": "code",
   "execution_count": 9,
   "id": "b5247fb6",
   "metadata": {},
   "outputs": [
    {
     "name": "stdout",
     "output_type": "stream",
     "text": [
      "<class 'str'>\n",
      "<class 'str'>\n",
      "<class 'str'>\n",
      "<class 'list'>\n",
      "1\n",
      "<class 'dict'>\n"
     ]
    }
   ],
   "source": [
    "# Check type of value\n",
    "for d in data.values():\n",
    "    print(type(d))\n",
    "    \n",
    "# Check list length\n",
    "print(len(data['places']))\n",
    "\n",
    "# Check type of content of list\n",
    "print(type(data['places'][0]))"
   ]
  },
  {
   "cell_type": "markdown",
   "id": "d6227240",
   "metadata": {},
   "source": [
    "The part that could be interesting to us is contained in the `places` category. We can easily extract it and transform it into a dataframe."
   ]
  },
  {
   "cell_type": "code",
   "execution_count": 10,
   "id": "181e819d",
   "metadata": {},
   "outputs": [
    {
     "data": {
      "text/html": [
       "<div>\n",
       "<style scoped>\n",
       "    .dataframe tbody tr th:only-of-type {\n",
       "        vertical-align: middle;\n",
       "    }\n",
       "\n",
       "    .dataframe tbody tr th {\n",
       "        vertical-align: top;\n",
       "    }\n",
       "\n",
       "    .dataframe thead th {\n",
       "        text-align: right;\n",
       "    }\n",
       "</style>\n",
       "<table border=\"1\" class=\"dataframe\">\n",
       "  <thead>\n",
       "    <tr style=\"text-align: right;\">\n",
       "      <th></th>\n",
       "      <th>place name</th>\n",
       "      <th>longitude</th>\n",
       "      <th>state</th>\n",
       "      <th>state abbreviation</th>\n",
       "      <th>latitude</th>\n",
       "      <th>zipcode</th>\n",
       "    </tr>\n",
       "  </thead>\n",
       "  <tbody>\n",
       "    <tr>\n",
       "      <th>0</th>\n",
       "      <td>Beverly Hills</td>\n",
       "      <td>-118.4065</td>\n",
       "      <td>California</td>\n",
       "      <td>CA</td>\n",
       "      <td>34.0901</td>\n",
       "      <td>90210</td>\n",
       "    </tr>\n",
       "  </tbody>\n",
       "</table>\n",
       "</div>"
      ],
      "text/plain": [
       "      place name  longitude       state state abbreviation latitude zipcode\n",
       "0  Beverly Hills  -118.4065  California                 CA  34.0901   90210"
      ]
     },
     "execution_count": 10,
     "metadata": {},
     "output_type": "execute_result"
    }
   ],
   "source": [
    "# Add zipcode to data\n",
    "data['places'][0]['zipcode'] = zipcode\n",
    "\n",
    "# Export data\n",
    "df = pd.DataFrame(data['places'])\n",
    "df"
   ]
  },
  {
   "cell_type": "markdown",
   "id": "96776c3e",
   "metadata": {},
   "source": [
    "## Static Webscraping"
   ]
  },
  {
   "cell_type": "markdown",
   "id": "f0ce150f",
   "metadata": {},
   "source": [
    "We have so far used pre-made tools in order to do web-scraping. When the website contains the data in a nice table or an API is available, we do not need to worry much and we can directly retrieve the data. However, most of web scraping is much more complicated. Data is often the product of webscraping and is not readily available. Moreover, sometimes webscraping knowledge can supplement the need to pay for an API. "
   ]
  },
  {
   "cell_type": "markdown",
   "id": "5066ea4b",
   "metadata": {},
   "source": [
    "### HTTP"
   ]
  },
  {
   "cell_type": "markdown",
   "id": "c7747297",
   "metadata": {},
   "source": [
    "What happens when you open a page on the internet? In short, your web browser is sending a request to the website that, in turn, sends back a reply/response. The exchange of messages is complex but its core involves a HyperText Transfer Protocol (HTTP) request message to a web server, followed by a HTTP response (or reply). All static webscraping is build on HTTP so let's have a closer look."
   ]
  },
  {
   "cell_type": "markdown",
   "id": "a2c4795e",
   "metadata": {},
   "source": [
    "An HTTP message essentially has 4 components:\n",
    "1. A request line\n",
    "2. A number of request headers\n",
    "3. An empty line\n",
    "4. An optional message\n",
    "\n",
    "*Example*\n",
    "\n",
    "A request message could be \n",
    "```\n",
    "GET /hello.htm HTTP/1.1\n",
    "```\n",
    "\n",
    "The response would be\n",
    "```\n",
    "HTTP/1.1 200 OK\n",
    "Date: Sun, 10 Oct 2010 23:26:07 GMT\n",
    "Server: Apache/2.2.8 (Ubuntu) mod_ssl/2.2.8 OpenSSL/0.9.8g\n",
    "Last-Modified: Sun, 26 Sep 2010 22:04:35 GMT\n",
    "ETag: \"45b6-834-49130cc1182c0\"\n",
    "Accept-Ranges: bytes\n",
    "Content-Length: 12\n",
    "Connection: close\n",
    "Content-Type: text/html\n",
    "\n",
    "<html>\n",
    "   <body>\n",
    "   \n",
    "      <h1>Hello, World!</h1>\n",
    "   \n",
    "   </body>\n",
    "</html>\n",
    "```\n",
    "So, in this case the parts are:\n",
    "1. The **request line**\n",
    "```\n",
    "HTTP/1.1 200 OK\n",
    "```\n",
    "2. The **request headers**\n",
    "```\n",
    "Date: Sun, 10 Oct 2010 23:26:07 GMT\n",
    "Server: Apache/2.2.8 (Ubuntu) mod_ssl/2.2.8 OpenSSL/0.9.8g\n",
    "Last-Modified: Sun, 26 Sep 2010 22:04:35 GMT\n",
    "ETag: \"45b6-834-49130cc1182c0\"\n",
    "Accept-Ranges: bytes\n",
    "Content-Length: 12\n",
    "Connection: close\n",
    "Content-Type: text/html\n",
    "```\n",
    "3. The **empty line**\n",
    "4. The **optional message**\n",
    "```\n",
    "<html>\n",
    "   <body>\n",
    "   \n",
    "      <h1>Hello, World!</h1>\n",
    "   \n",
    "   </body>\n",
    "</html>\n",
    "```\n",
    "\n",
    "We are interested in the optional message, which is essentially the content of the page we want to scrape. The content is usually written in HTML which is not a proper programming language but rather a *typesetting language* since it is the language underlying web pages and is usually generated from other programming languages. "
   ]
  },
  {
   "cell_type": "markdown",
   "id": "6cf4f501",
   "metadata": {},
   "source": [
    "### Requests"
   ]
  },
  {
   "cell_type": "markdown",
   "id": "026e7c9f",
   "metadata": {},
   "source": [
    "There are many different packages in python to send requests to a web page and read its response. The most user-friendly is the `requests` package. You can find plenty of useful information on the `requests` library on its website: https://requests.readthedocs.io/en/master/.\n",
    "\n",
    "We are now going to have a look at a simple example: http://pythonscraping.com/pages/page1.html."
   ]
  },
  {
   "cell_type": "code",
   "execution_count": 11,
   "id": "a28ede03",
   "metadata": {},
   "outputs": [
    {
     "name": "stdout",
     "output_type": "stream",
     "text": [
      "<Response [200]>\n"
     ]
    }
   ],
   "source": [
    "# Request a simple web page\n",
    "url1 = 'http://pythonscraping.com/pages/page1.html'\n",
    "response = requests.get(url1)\n",
    "print(response)"
   ]
  },
  {
   "cell_type": "markdown",
   "id": "8e3bebc9",
   "metadata": {},
   "source": [
    "We are (hopefully) getting a `<Response [200]>` message. In short, what we got is the status code of the request we sent to the website. The status code is a 3-digit code and essentially there are two broad categories of status codes:\n",
    "- 2XX: success\n",
    "- 4XX, 5XX: failure\n",
    "\n",
    "It can be useful to know this codes as they are a fast way to check whether your request has failed or not. When webscraping the most common reasons you get an error are\n",
    "1. The link does not exist: wither the link is old/expired or you misspelled it and hence there is no page to request\n",
    "2. You have been \"caught\". This is pretty common when webscraping and happens every time you are too aggressive with your scraping. How much \"aggressive\" is \"too agrressive\" depends on the website. Usually big tech websites are particularly hard to scrape and anything that is \"faster than human\" gets blocked. Sometimes also slow but persistent requests get blocked as well.\n",
    "\n",
    "We have now analyzed the response status but, what is actually the response content? Let's inspect the response object more in detail."
   ]
  },
  {
   "cell_type": "code",
   "execution_count": 12,
   "id": "a05fa56c",
   "metadata": {},
   "outputs": [
    {
     "data": {
      "text/plain": [
       "['__attrs__',\n",
       " '__bool__',\n",
       " '__class__',\n",
       " '__delattr__',\n",
       " '__dict__',\n",
       " '__dir__',\n",
       " '__doc__',\n",
       " '__enter__',\n",
       " '__eq__',\n",
       " '__exit__',\n",
       " '__format__',\n",
       " '__ge__',\n",
       " '__getattribute__',\n",
       " '__getstate__',\n",
       " '__gt__',\n",
       " '__hash__',\n",
       " '__init__',\n",
       " '__init_subclass__',\n",
       " '__iter__',\n",
       " '__le__',\n",
       " '__lt__',\n",
       " '__module__',\n",
       " '__ne__',\n",
       " '__new__',\n",
       " '__nonzero__',\n",
       " '__reduce__',\n",
       " '__reduce_ex__',\n",
       " '__repr__',\n",
       " '__setattr__',\n",
       " '__setstate__',\n",
       " '__sizeof__',\n",
       " '__str__',\n",
       " '__subclasshook__',\n",
       " '__weakref__',\n",
       " '_content',\n",
       " '_content_consumed',\n",
       " '_next',\n",
       " 'apparent_encoding',\n",
       " 'close',\n",
       " 'connection',\n",
       " 'content',\n",
       " 'cookies',\n",
       " 'elapsed',\n",
       " 'encoding',\n",
       " 'headers',\n",
       " 'history',\n",
       " 'is_permanent_redirect',\n",
       " 'is_redirect',\n",
       " 'iter_content',\n",
       " 'iter_lines',\n",
       " 'json',\n",
       " 'links',\n",
       " 'next',\n",
       " 'ok',\n",
       " 'raise_for_status',\n",
       " 'raw',\n",
       " 'reason',\n",
       " 'request',\n",
       " 'status_code',\n",
       " 'text',\n",
       " 'url']"
      ]
     },
     "execution_count": 12,
     "metadata": {},
     "output_type": "execute_result"
    }
   ],
   "source": [
    "# Print response attributes\n",
    "dir(response)"
   ]
  },
  {
   "cell_type": "markdown",
   "id": "8011124b",
   "metadata": {},
   "source": [
    "We are actually interested in the text of the response."
   ]
  },
  {
   "cell_type": "code",
   "execution_count": 13,
   "id": "3bd9e72b",
   "metadata": {},
   "outputs": [
    {
     "data": {
      "text/plain": [
       "'<html>\\n<head>\\n<title>A Useful Page</title>\\n</head>\\n<body>\\n<h1>An Interesting Title</h1>\\n<div>\\nLorem ipsum dolor sit amet, consectetur adipisicing elit, sed do eiusmod tempor incididunt ut labore et dolore magna aliqua. Ut enim ad minim veniam, quis nostrud exercitation ullamco laboris nisi ut aliquip ex ea commodo consequat. Duis aute irure dolor in reprehenderit in voluptate velit esse cillum dolore eu fugiat nulla pariatur. Excepteur sint occaecat cupidatat non proident, sunt in culpa qui officia deserunt mollit anim id est laborum.\\n</div>\\n</body>\\n</html>\\n'"
      ]
     },
     "execution_count": 13,
     "metadata": {},
     "output_type": "execute_result"
    }
   ],
   "source": [
    "# Print response content\n",
    "response.text"
   ]
  },
  {
   "cell_type": "markdown",
   "id": "51fe6b52",
   "metadata": {},
   "source": [
    "This is the whole content of the table. There is a large chunk of text and other parts which look more obscure. In order to understand the structure of the page, we need to have a closer look at the language in which the webpage is written: HTML. We will do it in the next section. \n",
    "\n",
    "However, let's first analyze the other relevant components of the response. We have already had a look at the status. Let's inspect the headers."
   ]
  },
  {
   "cell_type": "code",
   "execution_count": 14,
   "id": "c00397c5",
   "metadata": {},
   "outputs": [
    {
     "data": {
      "text/plain": [
       "{'Server': 'nginx', 'Date': 'Thu, 10 Feb 2022 11:11:41 GMT', 'Content-Type': 'text/html', 'Content-Length': '361', 'Connection': 'keep-alive', 'X-Accel-Version': '0.01', 'Last-Modified': 'Sat, 09 Jun 2018 19:15:58 GMT', 'ETag': '\"234-56e3a58a63780-gzip\"', 'Accept-Ranges': 'bytes', 'Vary': 'Accept-Encoding', 'Content-Encoding': 'gzip', 'X-Powered-By': 'PleskLin'}"
      ]
     },
     "execution_count": 14,
     "metadata": {},
     "output_type": "execute_result"
    }
   ],
   "source": [
    "# Print response headers\n",
    "response.headers"
   ]
  },
  {
   "cell_type": "markdown",
   "id": "cae07f50",
   "metadata": {},
   "source": [
    "From the headers we can see\n",
    "- the present date\n",
    "- the name of the server hosting the page\n",
    "- the last time the page was modified\n",
    "- other stuff\n",
    "\n",
    "Let's now look at the headers of our request."
   ]
  },
  {
   "cell_type": "code",
   "execution_count": 15,
   "id": "235de8c1",
   "metadata": {},
   "outputs": [
    {
     "name": "stdout",
     "output_type": "stream",
     "text": [
      "{'Accept': '*/*',\n",
      " 'Accept-Encoding': 'gzip, deflate, br',\n",
      " 'Connection': 'keep-alive',\n",
      " 'User-Agent': 'python-requests/2.27.1'}\n"
     ]
    }
   ],
   "source": [
    "# Request headers\n",
    "def check_headers(r):\n",
    "    test_headers = dict(zip(r.request.headers.keys(), r.request.headers.values()))\n",
    "    pprint(test_headers)\n",
    "    \n",
    "check_headers(response)"
   ]
  },
  {
   "cell_type": "markdown",
   "id": "ba275687",
   "metadata": {},
   "source": [
    "The headers of our request are pretty minimal. In order to see what normal headers look like, go to https://www.whatismybrowser.com/developers/what-http-headers-is-my-browser-sending\n",
    "\n",
    "Normal headers look something like:\n",
    "```\n",
    "{'Accept': 'text/html,application/xhtml+xml,application/xml;q = 0.9, image / '\n",
    "           'webp, * / *;q = 0.8',\n",
    " 'Accept-Encoding': 'gzip, deflate, br',\n",
    " 'Accept-Language': 'en-US,en;q=0.9,it-IT;q=0.8,it;q=0.7,de-DE;q=0.6,de;q=0.5',\n",
    " 'Connection': 'keep-alive',\n",
    " 'Host': 'www.whatismybrowser.com',\n",
    " 'Referer': 'http://localhost:8888/',\n",
    " 'User-Agent': 'Mozilla/5.0 (Macintosh; Intel Mac OS X 10_14_6) '\n",
    "               'AppleWebKit/537.36 (KHTML, like Gecko) Chrome/79.0.3945.88 '\n",
    "               'Safari/537.36'}\n",
    "```   \n",
    "\n",
    "The most important difference is that the `requests` model default *User-Agent* is `python-requests/2.22.0` which means that we are walking around the web with a big **WARNING: web scrapers** sign. This is the simplest way to get caught and blocked by a website. Luckily, we can easily change our headers in order to be more subtle."
   ]
  },
  {
   "cell_type": "code",
   "execution_count": 16,
   "id": "f7fe3fae",
   "metadata": {},
   "outputs": [
    {
     "name": "stdout",
     "output_type": "stream",
     "text": [
      "{'Accept': 'webp, * / *;q = 0.8',\n",
      " 'Accept-Encoding': 'br, gzip, deflate',\n",
      " 'Accept-Language': 'en-US,en;q=0.9',\n",
      " 'Connection': 'keep-alive',\n",
      " 'Referer': 'https://www.google.ch/',\n",
      " 'User-Agent': 'Mozilla/5.0'}\n"
     ]
    }
   ],
   "source": [
    "# Change headers\n",
    "headers = {\"User-Agent\": \"Mozilla/5.0\",\n",
    "               \"Accept\": \"webp, * / *;q = 0.8\",\n",
    "               \"Accept-Language\": \"en-US,en;q=0.9\",\n",
    "               \"Accept-Encoding\": \"br, gzip, deflate\",\n",
    "               \"Referer\": \"https://www.google.ch/\"}\n",
    "\n",
    "# Test if change worked\n",
    "response = requests.get(url1, headers=headers)\n",
    "check_headers(response)"
   ]
  },
  {
   "cell_type": "markdown",
   "id": "b0e84660",
   "metadata": {},
   "source": [
    "Nice! Now we are a little more stealthy.\n",
    "\n",
    "You might now be asking yourself what are the ethical limits of webscraping. Information on the internet is public but scraping a website imposes a workload on the website's server. If the website is not protected against aggressive scrapers (most websites are), your activity could significantly slower the website or even crash it.\n",
    "\n",
    "Usually websites include their policies for scraping in a text file named `robots.txt`.\n",
    "\n",
    "Let's have a look at the `robots.txt` file of http://pythonscraping.com/. "
   ]
  },
  {
   "cell_type": "code",
   "execution_count": 17,
   "id": "2be3acef",
   "metadata": {},
   "outputs": [
    {
     "name": "stdout",
     "output_type": "stream",
     "text": [
      "#\n",
      "# robots.txt\n",
      "#\n",
      "# This file is to prevent the crawling and indexing of certain parts\n",
      "# of your site by web crawlers and spiders run by sites like Yahoo!\n",
      "# and Google. By telling these \"robots\" where not to go on your site,\n",
      "# you save bandwidth and server resources.\n",
      "#\n",
      "# This file will be ignored unless it is at the root of your host:\n",
      "# Used:    http://example.com/robots.txt\n",
      "# Ignored: http://example.com/site/robots.txt\n",
      "#\n",
      "# For more information about the robots.txt standard, see:\n",
      "# http://www.robotstxt.org/robotstxt.html\n",
      "#\n",
      "# For syntax checking, see:\n",
      "# http://www.frobee.com/robots-txt-check\n",
      "\n",
      "User-agent: *\n",
      "Crawl-delay: 10\n",
      "# Directories\n",
      "Disallow: /includes/\n",
      "Disallow: /misc/\n",
      "Disallow: /modules/\n",
      "Disallow: /profiles/\n",
      "Disallow: /scripts/\n",
      "Disallow: /themes/\n",
      "# Files\n",
      "Disallow: /CHANGELOG.txt\n",
      "Disallow: /cron.php\n",
      "Disallow: /INSTALL.mysql.txt\n",
      "Disallow: /INSTALL.pgsql.txt\n",
      "Disallow: /INSTALL.sqlite.txt\n",
      "Disallow: /install.php\n",
      "Disallow: /INSTALL.txt\n",
      "Disallow: /LICENSE.txt\n",
      "Disallow: /MAINTAINERS.txt\n",
      "Disallow: /update.php\n",
      "Disallow: /UPGRADE.txt\n",
      "Disallow: /xmlrpc.php\n",
      "# Paths (clean URLs)\n",
      "Disallow: /admin/\n",
      "Disallow: /comment/reply/\n",
      "Disallow: /filter/tips/\n",
      "Disallow: /node/add/\n",
      "Disallow: /search/\n",
      "Disallow: /user/register/\n",
      "Disallow: /user/password/\n",
      "Disallow: /user/login/\n",
      "Disallow: /user/logout/\n",
      "# Paths (no clean URLs)\n",
      "Disallow: /?q=admin/\n",
      "Disallow: /?q=comment/reply/\n",
      "Disallow: /?q=filter/tips/\n",
      "Disallow: /?q=node/add/\n",
      "Disallow: /?q=search/\n",
      "Disallow: /?q=user/password/\n",
      "Disallow: /?q=user/register/\n",
      "Disallow: /?q=user/login/\n",
      "Disallow: /?q=user/logout/\n",
      "\n"
     ]
    }
   ],
   "source": [
    "# Read robots.txt\n",
    "response = requests.get('http://pythonscraping.com/robots.txt')\n",
    "print(response.text)"
   ]
  },
  {
   "cell_type": "markdown",
   "id": "b3e2c1fc",
   "metadata": {},
   "source": [
    "As we can see, this `robots.txt` file mostly deals with crawlers, i.e. scripts that are designed to recover the structure of a website by exploring it. Crawlers are mostly used by browsers that want to index websites.\n",
    "\n",
    "Now we have explored most of the issues around HTTP requests. We can now proceed to what we are interested in: the content of the web page. In order to do that, we need to know the language in which wabpages are written: HTML."
   ]
  },
  {
   "cell_type": "markdown",
   "id": "c12551b9",
   "metadata": {},
   "source": [
    "###  HTML"
   ]
  },
  {
   "cell_type": "markdown",
   "id": "ff2dd765",
   "metadata": {},
   "source": [
    "Hypertext Markup Language (HTML) is the standard markup language for documents designed to be displayed in a web browser. Web browsers receive HTML documents from a web server or from local storage and render the documents into multimedia web pages. HTML describes the structure of a web page semantically and originally included cues for the appearance of the document.\n",
    "\n",
    "HTML elements are delineated by tags, written using angle brackets. "
   ]
  },
  {
   "cell_type": "markdown",
   "id": "7eb0f499",
   "metadata": {},
   "source": [
    "#### Tags"
   ]
  },
  {
   "cell_type": "markdown",
   "id": "b5c1b1b5",
   "metadata": {},
   "source": [
    "Tags are the cues that HTML uses to surround content and provide information about its nature. There is a very large amount of tags but some of the most common are:\n",
    "- `<head>` and `<body>` for head and body of the page\n",
    "- `<p>` for paragraphs\n",
    "- `<br>` for line breaks\n",
    "- `<table>` for tables. These are the ones that `pandas` reads. However, we have seen that not all elements that look like tables are actually `<table>` and viceversa. Table elements are tagged as `<th>` (table header), `<tr>` (table row) and `<td>` (table data: a cell)\n",
    "- `<img>` for images\n",
    "- `<h1>` to `<h6>` for headers (titles and subtitles)\n",
    "- `<div>` dor divisions, i.e. for grouping elements\n",
    "- `<a>` for hyperlinks\n",
    "- `<ul>` and `<ol>` for unordered and ordered lists where list elements are tagged as `<li>`\n",
    "\n",
    "Let's have a look at the previous page"
   ]
  },
  {
   "cell_type": "code",
   "execution_count": 18,
   "id": "56adf6d6",
   "metadata": {},
   "outputs": [
    {
     "data": {
      "text/plain": [
       "'#\\n# robots.txt\\n#\\n# This file is to prevent the crawling and indexing of certain parts\\n# of your site by web crawlers and spiders run by sites like Yahoo!\\n# and Google. By telling these \"robots\" where not to go on your site,\\n# you save bandwidth and server resources.\\n#\\n# This file will be ignored unless it is at the root of your host:\\n# Used:    http://example.com/robots.txt\\n# Ignored: http://example.com/site/robots.txt\\n#\\n# For more information about the robots.txt standard, see:\\n# http://www.robotstxt.org/robotstxt.html\\n#\\n# For syntax checking, see:\\n# http://www.frobee.com/robots-txt-check\\n\\nUser-agent: *\\nCrawl-delay: 10\\n# Directories\\nDisallow: /includes/\\nDisallow: /misc/\\nDisallow: /modules/\\nDisallow: /profiles/\\nDisallow: /scripts/\\nDisallow: /themes/\\n# Files\\nDisallow: /CHANGELOG.txt\\nDisallow: /cron.php\\nDisallow: /INSTALL.mysql.txt\\nDisallow: /INSTALL.pgsql.txt\\nDisallow: /INSTALL.sqlite.txt\\nDisallow: /install.php\\nDisallow: /INSTALL.txt\\nDisallow: /LICENSE.txt\\nDisallow: /MAINTAINERS.txt\\nDisallow: /update.php\\nDisallow: /UPGRADE.txt\\nDisallow: /xmlrpc.php\\n# Paths (clean URLs)\\nDisallow: /admin/\\nDisallow: /comment/reply/\\nDisallow: /filter/tips/\\nDisallow: /node/add/\\nDisallow: /search/\\nDisallow: /user/register/\\nDisallow: /user/password/\\nDisallow: /user/login/\\nDisallow: /user/logout/\\n# Paths (no clean URLs)\\nDisallow: /?q=admin/\\nDisallow: /?q=comment/reply/\\nDisallow: /?q=filter/tips/\\nDisallow: /?q=node/add/\\nDisallow: /?q=search/\\nDisallow: /?q=user/password/\\nDisallow: /?q=user/register/\\nDisallow: /?q=user/login/\\nDisallow: /?q=user/logout/\\n'"
      ]
     },
     "execution_count": 18,
     "metadata": {},
     "output_type": "execute_result"
    }
   ],
   "source": [
    "# Inspect HTML\n",
    "response.text"
   ]
  },
  {
   "cell_type": "markdown",
   "id": "4432ed93",
   "metadata": {},
   "source": [
    "The response looks a little bit messy and not really readable. \n",
    "\n",
    "`BeautifulSoup` is a python library that renders http responses in a user friendly format and helps recovering elements from tags and attributes.\n",
    "\n",
    "```\n",
    "pip3 install bs4\n",
    "```\n",
    "\n",
    "Let's have a look."
   ]
  },
  {
   "cell_type": "code",
   "execution_count": 19,
   "id": "0800f0f8",
   "metadata": {},
   "outputs": [
    {
     "name": "stdout",
     "output_type": "stream",
     "text": [
      "<html><body><p>#\n",
      "# robots.txt\n",
      "#\n",
      "# This file is to prevent the crawling and indexing of certain parts\n",
      "# of your site by web crawlers and spiders run by sites like Yahoo!\n",
      "# and Google. By telling these \"robots\" where not to go on your site,\n",
      "# you save bandwidth and server resources.\n",
      "#\n",
      "# This file will be ignored unless it is at the root of your host:\n",
      "# Used:    http://example.com/robots.txt\n",
      "# Ignored: http://example.com/site/robots.txt\n",
      "#\n",
      "# For more information about the robots.txt standard, see:\n",
      "# http://www.robotstxt.org/robotstxt.html\n",
      "#\n",
      "# For syntax checking, see:\n",
      "# http://www.frobee.com/robots-txt-check\n",
      "\n",
      "User-agent: *\n",
      "Crawl-delay: 10\n",
      "# Directories\n",
      "Disallow: /includes/\n",
      "Disallow: /misc/\n",
      "Disallow: /modules/\n",
      "Disallow: /profiles/\n",
      "Disallow: /scripts/\n",
      "Disallow: /themes/\n",
      "# Files\n",
      "Disallow: /CHANGELOG.txt\n",
      "Disallow: /cron.php\n",
      "Disallow: /INSTALL.mysql.txt\n",
      "Disallow: /INSTALL.pgsql.txt\n",
      "Disallow: /INSTALL.sqlite.txt\n",
      "Disallow: /install.php\n",
      "Disallow: /INSTALL.txt\n",
      "Disallow: /LICENSE.txt\n",
      "Disallow: /MAINTAINERS.txt\n",
      "Disallow: /update.php\n",
      "Disallow: /UPGRADE.txt\n",
      "Disallow: /xmlrpc.php\n",
      "# Paths (clean URLs)\n",
      "Disallow: /admin/\n",
      "Disallow: /comment/reply/\n",
      "Disallow: /filter/tips/\n",
      "Disallow: /node/add/\n",
      "Disallow: /search/\n",
      "Disallow: /user/register/\n",
      "Disallow: /user/password/\n",
      "Disallow: /user/login/\n",
      "Disallow: /user/logout/\n",
      "# Paths (no clean URLs)\n",
      "Disallow: /?q=admin/\n",
      "Disallow: /?q=comment/reply/\n",
      "Disallow: /?q=filter/tips/\n",
      "Disallow: /?q=node/add/\n",
      "Disallow: /?q=search/\n",
      "Disallow: /?q=user/password/\n",
      "Disallow: /?q=user/register/\n",
      "Disallow: /?q=user/login/\n",
      "Disallow: /?q=user/logout/\n",
      "</p></body></html>\n"
     ]
    }
   ],
   "source": [
    "# Make response readable\n",
    "soup = BeautifulSoup(response.text, 'lxml')\n",
    "print(soup)"
   ]
  },
  {
   "cell_type": "markdown",
   "id": "9378569a",
   "metadata": {},
   "source": [
    "First of all, what is the `html5lib` option? It's the parser. In short, there are often small mistakes/variations in HTML and each parser interprets it differently. In principles, the latest HTML standard is HTML5, therefore the `html5lib` parser should be the most \"correct\" parser. It might happen that the same code does not work for another person if you use a different parser.\n",
    "\n",
    "This is much better but it can be improved. "
   ]
  },
  {
   "cell_type": "code",
   "execution_count": 20,
   "id": "b21094ce",
   "metadata": {},
   "outputs": [
    {
     "name": "stdout",
     "output_type": "stream",
     "text": [
      "<html>\n",
      " <body>\n",
      "  <p>\n",
      "   #\n",
      "# robots.txt\n",
      "#\n",
      "# This file is to prevent the crawling and indexing of certain parts\n",
      "# of your site by web crawlers and spiders run by sites like Yahoo!\n",
      "# and Google. By telling these \"robots\" where not to go on your site,\n",
      "# you save bandwidth and server resources.\n",
      "#\n",
      "# This file will be ignored unless it is at the root of your host:\n",
      "# Used:    http://example.com/robots.txt\n",
      "# Ignored: http://example.com/site/robots.txt\n",
      "#\n",
      "# For more information about the robots.txt standard, see:\n",
      "# http://www.robotstxt.org/robotstxt.html\n",
      "#\n",
      "# For syntax checking, see:\n",
      "# http://www.frobee.com/robots-txt-check\n",
      "\n",
      "User-agent: *\n",
      "Crawl-delay: 10\n",
      "# Directories\n",
      "Disallow: /includes/\n",
      "Disallow: /misc/\n",
      "Disallow: /modules/\n",
      "Disallow: /profiles/\n",
      "Disallow: /scripts/\n",
      "Disallow: /themes/\n",
      "# Files\n",
      "Disallow: /CHANGELOG.txt\n",
      "Disallow: /cron.php\n",
      "Disallow: /INSTALL.mysql.txt\n",
      "Disallow: /INSTALL.pgsql.txt\n",
      "Disallow: /INSTALL.sqlite.txt\n",
      "Disallow: /install.php\n",
      "Disallow: /INSTALL.txt\n",
      "Disallow: /LICENSE.txt\n",
      "Disallow: /MAINTAINERS.txt\n",
      "Disallow: /update.php\n",
      "Disallow: /UPGRADE.txt\n",
      "Disallow: /xmlrpc.php\n",
      "# Paths (clean URLs)\n",
      "Disallow: /admin/\n",
      "Disallow: /comment/reply/\n",
      "Disallow: /filter/tips/\n",
      "Disallow: /node/add/\n",
      "Disallow: /search/\n",
      "Disallow: /user/register/\n",
      "Disallow: /user/password/\n",
      "Disallow: /user/login/\n",
      "Disallow: /user/logout/\n",
      "# Paths (no clean URLs)\n",
      "Disallow: /?q=admin/\n",
      "Disallow: /?q=comment/reply/\n",
      "Disallow: /?q=filter/tips/\n",
      "Disallow: /?q=node/add/\n",
      "Disallow: /?q=search/\n",
      "Disallow: /?q=user/password/\n",
      "Disallow: /?q=user/register/\n",
      "Disallow: /?q=user/login/\n",
      "Disallow: /?q=user/logout/\n",
      "  </p>\n",
      " </body>\n",
      "</html>\n"
     ]
    }
   ],
   "source": [
    "# Prettify response\n",
    "print(soup.prettify())"
   ]
  },
  {
   "cell_type": "markdown",
   "id": "5483fcfe",
   "metadata": {},
   "source": [
    "This is much better. Now the tree structure of the HTML page is clearly visible and we can visually separate the different elements.\n",
    "\n",
    "In particular, the structure of the page is:\n",
    "- page head\n",
    "    - with ttle: \"A Useful Page\"\n",
    "- page body\n",
    "    - with level 1 header \"An Interesting Title\"\n",
    "    - a division with text \"Lorem ipsum...\""
   ]
  },
  {
   "cell_type": "markdown",
   "id": "33d28517",
   "metadata": {},
   "source": [
    "How do we work with these elements? Suppose we want to recover the title and the text. The requests library has some useful functions."
   ]
  },
  {
   "cell_type": "code",
   "execution_count": 21,
   "id": "714b0b43",
   "metadata": {},
   "outputs": [
    {
     "data": {
      "text/plain": [
       "<title>A Useful Page</title>"
      ]
     },
     "execution_count": 21,
     "metadata": {},
     "output_type": "execute_result"
    }
   ],
   "source": [
    "# Find the title\n",
    "url = 'http://pythonscraping.com/pages/page1.html'\n",
    "response = requests.get(url)\n",
    "soup = BeautifulSoup(response.text, 'lxml')\n",
    "soup.find('title')"
   ]
  },
  {
   "cell_type": "code",
   "execution_count": 22,
   "id": "529579c2",
   "metadata": {},
   "outputs": [
    {
     "data": {
      "text/plain": [
       "'A Useful Page'"
      ]
     },
     "execution_count": 22,
     "metadata": {},
     "output_type": "execute_result"
    }
   ],
   "source": [
    "# Extract text\n",
    "soup.find('title').text"
   ]
  },
  {
   "cell_type": "code",
   "execution_count": 23,
   "id": "fb3c8371",
   "metadata": {},
   "outputs": [
    {
     "data": {
      "text/plain": [
       "[<h1>An Interesting Title</h1>]"
      ]
     },
     "execution_count": 23,
     "metadata": {},
     "output_type": "execute_result"
    }
   ],
   "source": [
    "# Find all h1 elements\n",
    "soup.find_all('h1')"
   ]
  },
  {
   "cell_type": "code",
   "execution_count": 24,
   "id": "cbaece18",
   "metadata": {},
   "outputs": [
    {
     "data": {
      "text/plain": [
       "[<title>A Useful Page</title>, <h1>An Interesting Title</h1>]"
      ]
     },
     "execution_count": 24,
     "metadata": {},
     "output_type": "execute_result"
    }
   ],
   "source": [
    "# Find all title or h1 elements\n",
    "soup.find_all(['title','h1'])"
   ]
  },
  {
   "cell_type": "markdown",
   "id": "9ec0fb17",
   "metadata": {},
   "source": [
    "### Regular Expressions"
   ]
  },
  {
   "cell_type": "markdown",
   "id": "f56051b8",
   "metadata": {},
   "source": [
    "Note that there is always a more direct alternative: using regular expressions directly on the response!"
   ]
  },
  {
   "cell_type": "code",
   "execution_count": 25,
   "id": "4b5d4792",
   "metadata": {},
   "outputs": [
    {
     "data": {
      "text/plain": [
       "'A Useful Page'"
      ]
     },
     "execution_count": 25,
     "metadata": {},
     "output_type": "execute_result"
    }
   ],
   "source": [
    "# Find the title\n",
    "re.findall('<title>(.*)</title>', response.text)[0]"
   ]
  },
  {
   "cell_type": "code",
   "execution_count": 26,
   "id": "0862b2eb",
   "metadata": {},
   "outputs": [
    {
     "data": {
      "text/plain": [
       "['An Interesting Title']"
      ]
     },
     "execution_count": 26,
     "metadata": {},
     "output_type": "execute_result"
    }
   ],
   "source": [
    "# Find all h1 elements\n",
    "re.findall('<h1>(.*)</h1>', response.text)"
   ]
  },
  {
   "cell_type": "code",
   "execution_count": 27,
   "id": "84c93494",
   "metadata": {},
   "outputs": [
    {
     "data": {
      "text/plain": [
       "['A Useful Page', 'An Interesting Title']"
      ]
     },
     "execution_count": 27,
     "metadata": {},
     "output_type": "execute_result"
    }
   ],
   "source": [
    "# Find all title or h1 elements\n",
    "[x[1] for x in re.findall('<(title|h1)>(.*)<', response.text)]"
   ]
  },
  {
   "cell_type": "markdown",
   "id": "6a730280",
   "metadata": {},
   "source": [
    "This was a very simple page and there was not so much to look for. Let's now look at a more realistic example."
   ]
  },
  {
   "cell_type": "markdown",
   "id": "fe1a202b",
   "metadata": {},
   "source": [
    "### Attributes"
   ]
  },
  {
   "cell_type": "markdown",
   "id": "f76f06cc",
   "metadata": {},
   "source": [
    "Let's inspect a slightly more complicated page: http://pythonscraping.com/pages/page3.html.\n",
    "\n",
    "In this page, there is much more content than in the previous one. There seems to be a table, there are images, hyperlinks, etc... It's the perfect playground. Let's have a look at what does the HTML code look like."
   ]
  },
  {
   "cell_type": "code",
   "execution_count": 28,
   "id": "9a102475",
   "metadata": {
    "scrolled": false
   },
   "outputs": [
    {
     "name": "stdout",
     "output_type": "stream",
     "text": [
      "<html>\n",
      " <head>\n",
      "  <style>\n",
      "   img{\n",
      "\twidth:75px;\n",
      "}\n",
      "table{\n",
      "\twidth:50%;\n",
      "}\n",
      "td{\n",
      "\tmargin:10px;\n",
      "\tpadding:10px;\n",
      "}\n",
      ".wrapper{\n",
      "\twidth:800px;\n",
      "}\n",
      ".excitingNote{\n",
      "\tfont-style:italic;\n",
      "\tfont-weight:bold;\n",
      "}\n",
      "  </style>\n",
      " </head>\n",
      " <body>\n",
      "  <div id=\"wrapper\">\n",
      "   <img src=\"../img/gifts/logo.jpg\" style=\"float:left;\"/>\n",
      "   <h1>\n",
      "    Totally Normal Gifts\n",
      "   </h1>\n",
      "   <div id=\"content\">\n",
      "    Here is a collection of totally normal, totally reasonable gifts that your friends are sure to love! Our collection is\n",
      "hand-curated by well-paid, free-range Tibetan monks.\n",
      "    <p>\n",
      "     We haven't figured out how to make online shopping carts yet, but you can send us a check to:\n",
      "     <br/>\n",
      "     123 Main St.\n",
      "     <br/>\n",
      "     Abuja, Nigeria\n",
      "We will then send your totally amazing gift, pronto! Please include an extra $5.00 for gift wrapping.\n",
      "    </p>\n",
      "   </div>\n",
      "   <table id=\"giftList\">\n",
      "    <tr>\n",
      "     <th>\n",
      "      Item Title\n",
      "     </th>\n",
      "     <th>\n",
      "      Description\n",
      "     </th>\n",
      "     <th>\n",
      "      Cost\n",
      "     </th>\n",
      "     <th>\n",
      "      Image\n",
      "     </th>\n",
      "    </tr>\n",
      "    <tr class=\"gift\" id=\"gift1\">\n",
      "     <td>\n",
      "      Vegetable Basket\n",
      "     </td>\n",
      "     <td>\n",
      "      This vegetable basket is the perfect gift for your health conscious (or overweight) friends!\n",
      "      <span class=\"excitingNote\">\n",
      "       Now with super-colorful bell peppers!\n",
      "      </span>\n",
      "     </td>\n",
      "     <td>\n",
      "      $15.00\n",
      "     </td>\n",
      "     <td>\n",
      "      <img src=\"../img/gifts/img1.jpg\"/>\n",
      "     </td>\n",
      "    </tr>\n",
      "    <tr class=\"gift\" id=\"gift2\">\n",
      "     <td>\n",
      "      Russian Nesting Dolls\n",
      "     </td>\n",
      "     <td>\n",
      "      Hand-painted by trained monkeys, these exquisite dolls are priceless! And by \"priceless,\" we mean \"extremely expensive\"!\n",
      "      <span class=\"excitingNote\">\n",
      "       8 entire dolls per set! Octuple the presents!\n",
      "      </span>\n",
      "     </td>\n",
      "     <td>\n",
      "      $10,000.52\n",
      "     </td>\n",
      "     <td>\n",
      "      <img src=\"../img/gifts/img2.jpg\"/>\n",
      "     </td>\n",
      "    </tr>\n",
      "    <tr class=\"gift\" id=\"gift3\">\n",
      "     <td>\n",
      "      Fish Painting\n",
      "     </td>\n",
      "     <td>\n",
      "      If something seems fishy about this painting, it's because it's a fish!\n",
      "      <span class=\"excitingNote\">\n",
      "       Also hand-painted by trained monkeys!\n",
      "      </span>\n",
      "     </td>\n",
      "     <td>\n",
      "      $10,005.00\n",
      "     </td>\n",
      "     <td>\n",
      "      <img src=\"../img/gifts/img3.jpg\"/>\n",
      "     </td>\n",
      "    </tr>\n",
      "    <tr class=\"gift\" id=\"gift4\">\n",
      "     <td>\n",
      "      Dead Parrot\n",
      "     </td>\n",
      "     <td>\n",
      "      This is an ex-parrot!\n",
      "      <span class=\"excitingNote\">\n",
      "       Or maybe he's only resting?\n",
      "      </span>\n",
      "     </td>\n",
      "     <td>\n",
      "      $0.50\n",
      "     </td>\n",
      "     <td>\n",
      "      <img src=\"../img/gifts/img4.jpg\"/>\n",
      "     </td>\n",
      "    </tr>\n",
      "    <tr class=\"gift\" id=\"gift5\">\n",
      "     <td>\n",
      "      Mystery Box\n",
      "     </td>\n",
      "     <td>\n",
      "      If you love suprises, this mystery box is for you! Do not place on light-colored surfaces. May cause oil staining.\n",
      "      <span class=\"excitingNote\">\n",
      "       Keep your friends guessing!\n",
      "      </span>\n",
      "     </td>\n",
      "     <td>\n",
      "      $1.50\n",
      "     </td>\n",
      "     <td>\n",
      "      <img src=\"../img/gifts/img6.jpg\"/>\n",
      "     </td>\n",
      "    </tr>\n",
      "   </table>\n",
      "   <div id=\"footer\">\n",
      "    © Totally Normal Gifts, Inc.\n",
      "    <br/>\n",
      "    +234 (617) 863-0736\n",
      "   </div>\n",
      "  </div>\n",
      " </body>\n",
      "</html>\n",
      "\n"
     ]
    }
   ],
   "source": [
    "# Inspect HTML code\n",
    "url2 = 'http://pythonscraping.com/pages/page3.html'\n",
    "response = requests.get(url2)\n",
    "soup = BeautifulSoup(response.text,'lxml')\n",
    "print(soup.prettify())"
   ]
  },
  {
   "cell_type": "markdown",
   "id": "56ce9d42",
   "metadata": {},
   "source": [
    "As we can see, now the page is much more complicated than before. An important distintion is that now some tags have classes. For example, the first `<img>` tag now has a class `src` and a class `style`.\n",
    "\n",
    "```\n",
    "<img src=\"../img/gifts/logo.jpg\" style=\"float:left;\">\n",
    "```\n",
    "\n",
    "Moreover, even though `BeautifulSoup` is formatting the page in a nicer way, it's still pretty hard to go through it. How can one locate one specific element? And, most importantly, if you know the element only graphically, how do you recover the equivalent in the HTML code?\n",
    "\n",
    "The best way is to use the `inspect` function from Chrome. Firefox has an equivalent function. Let's inspect the original page.\n",
    "\n",
    "---\n",
    "\n",
    "Suppose now you want to recover all item names. Let's inspect the first. The corresponding line looks like this:\n",
    "```\n",
    "    <tr class=\"gift\" id=\"gift1\">\n",
    "     <td>\n",
    "      Vegetable Basket\n",
    "     </td>\n",
    "     <td>\n",
    "      This vegetable basket is the perfect gift for your health conscious (or overweight) friends!\n",
    "      <span class=\"excitingNote\">\n",
    "       Now with super-colorful bell peppers!\n",
    "      </span>\n",
    "     </td>\n",
    "     <td>\n",
    "      $15.00\n",
    "     </td>\n",
    "     <td>\n",
    "```\n",
    "\n",
    "Let's see some alternative ways."
   ]
  },
  {
   "cell_type": "code",
   "execution_count": 29,
   "id": "97e5dd29",
   "metadata": {},
   "outputs": [
    {
     "data": {
      "text/plain": [
       "<td>\n",
       "Vegetable Basket\n",
       "</td>"
      ]
     },
     "execution_count": 29,
     "metadata": {},
     "output_type": "execute_result"
    }
   ],
   "source": [
    "# Select the first td element\n",
    "soup.find('td')"
   ]
  },
  {
   "cell_type": "code",
   "execution_count": 30,
   "id": "7e278806",
   "metadata": {},
   "outputs": [
    {
     "data": {
      "text/plain": [
       "<td>\n",
       "Vegetable Basket\n",
       "</td>"
      ]
     },
     "execution_count": 30,
     "metadata": {},
     "output_type": "execute_result"
    }
   ],
   "source": [
    "# Select the first td element of the second tr element (row)\n",
    "second_row = soup.find_all('tr')[1]\n",
    "second_row.find('td')"
   ]
  },
  {
   "cell_type": "code",
   "execution_count": 31,
   "id": "8324d3df",
   "metadata": {},
   "outputs": [
    {
     "data": {
      "text/plain": [
       "<td>\n",
       "Vegetable Basket\n",
       "</td>"
      ]
     },
     "execution_count": 31,
     "metadata": {},
     "output_type": "execute_result"
    }
   ],
   "source": [
    "# Select the first element of the table with id=\"giftList\"\n",
    "table = soup.find('table', {\"id\":\"giftList\"})\n",
    "table.find('td')"
   ]
  },
  {
   "cell_type": "markdown",
   "id": "3a345feb",
   "metadata": {},
   "source": [
    "The last is the most robust way to scrape. In fact, the first two methods are likely to fail if the page gets modified. If another `td` element gets added on top of the table, the code will recover something else entirely. In general it's a good practice, to look if the element we want to scrape can be identified by some attribute that is likely to be invariant to changes to other parts of the web page. In this case, the table with `id=\"giftList\"` is likely to be our object of interest even if another table id added, for example."
   ]
  },
  {
   "cell_type": "markdown",
   "id": "aef66c10",
   "metadata": {},
   "source": [
    "Let's say no we want to recover the whole table. What would you do?"
   ]
  },
  {
   "cell_type": "code",
   "execution_count": 32,
   "id": "644f3976",
   "metadata": {},
   "outputs": [
    {
     "data": {
      "text/html": [
       "<div>\n",
       "<style scoped>\n",
       "    .dataframe tbody tr th:only-of-type {\n",
       "        vertical-align: middle;\n",
       "    }\n",
       "\n",
       "    .dataframe tbody tr th {\n",
       "        vertical-align: top;\n",
       "    }\n",
       "\n",
       "    .dataframe thead th {\n",
       "        text-align: right;\n",
       "    }\n",
       "</style>\n",
       "<table border=\"1\" class=\"dataframe\">\n",
       "  <thead>\n",
       "    <tr style=\"text-align: right;\">\n",
       "      <th></th>\n",
       "      <th>Item Title</th>\n",
       "      <th>Description</th>\n",
       "      <th>Cost</th>\n",
       "      <th>Image</th>\n",
       "    </tr>\n",
       "  </thead>\n",
       "  <tbody>\n",
       "    <tr>\n",
       "      <th>0</th>\n",
       "      <td>Vegetable Basket</td>\n",
       "      <td>This vegetable basket is the perfect gift for ...</td>\n",
       "      <td>$15.00</td>\n",
       "      <td>NaN</td>\n",
       "    </tr>\n",
       "    <tr>\n",
       "      <th>1</th>\n",
       "      <td>Russian Nesting Dolls</td>\n",
       "      <td>Hand-painted by trained monkeys, these exquisi...</td>\n",
       "      <td>$10,000.52</td>\n",
       "      <td>NaN</td>\n",
       "    </tr>\n",
       "    <tr>\n",
       "      <th>2</th>\n",
       "      <td>Fish Painting</td>\n",
       "      <td>If something seems fishy about this painting, ...</td>\n",
       "      <td>$10,005.00</td>\n",
       "      <td>NaN</td>\n",
       "    </tr>\n",
       "    <tr>\n",
       "      <th>3</th>\n",
       "      <td>Dead Parrot</td>\n",
       "      <td>This is an ex-parrot! Or maybe he's only resting?</td>\n",
       "      <td>$0.50</td>\n",
       "      <td>NaN</td>\n",
       "    </tr>\n",
       "    <tr>\n",
       "      <th>4</th>\n",
       "      <td>Mystery Box</td>\n",
       "      <td>If you love suprises, this mystery box is for ...</td>\n",
       "      <td>$1.50</td>\n",
       "      <td>NaN</td>\n",
       "    </tr>\n",
       "  </tbody>\n",
       "</table>\n",
       "</div>"
      ],
      "text/plain": [
       "              Item Title                                        Description  \\\n",
       "0       Vegetable Basket  This vegetable basket is the perfect gift for ...   \n",
       "1  Russian Nesting Dolls  Hand-painted by trained monkeys, these exquisi...   \n",
       "2          Fish Painting  If something seems fishy about this painting, ...   \n",
       "3            Dead Parrot  This is an ex-parrot! Or maybe he's only resting?   \n",
       "4            Mystery Box  If you love suprises, this mystery box is for ...   \n",
       "\n",
       "         Cost  Image  \n",
       "0      $15.00    NaN  \n",
       "1  $10,000.52    NaN  \n",
       "2  $10,005.00    NaN  \n",
       "3       $0.50    NaN  \n",
       "4       $1.50    NaN  "
      ]
     },
     "execution_count": 32,
     "metadata": {},
     "output_type": "execute_result"
    }
   ],
   "source": [
    "import pandas as pd\n",
    "\n",
    "# Shortcut\n",
    "df = pd.read_html(url2)[0]\n",
    "df"
   ]
  },
  {
   "cell_type": "code",
   "execution_count": 33,
   "id": "057a421c",
   "metadata": {},
   "outputs": [
    {
     "name": "stderr",
     "output_type": "stream",
     "text": [
      "/var/folders/xy/szm3b7211cj16ldwcywbvfzdqv7yhd/T/ipykernel_92159/3999490009.py:12: FutureWarning: The frame.append method is deprecated and will be removed from pandas in a future version. Use pandas.concat instead.\n",
      "  df = df.append(df_row, ignore_index=True)\n",
      "/var/folders/xy/szm3b7211cj16ldwcywbvfzdqv7yhd/T/ipykernel_92159/3999490009.py:12: FutureWarning: The frame.append method is deprecated and will be removed from pandas in a future version. Use pandas.concat instead.\n",
      "  df = df.append(df_row, ignore_index=True)\n",
      "/var/folders/xy/szm3b7211cj16ldwcywbvfzdqv7yhd/T/ipykernel_92159/3999490009.py:12: FutureWarning: The frame.append method is deprecated and will be removed from pandas in a future version. Use pandas.concat instead.\n",
      "  df = df.append(df_row, ignore_index=True)\n",
      "/var/folders/xy/szm3b7211cj16ldwcywbvfzdqv7yhd/T/ipykernel_92159/3999490009.py:12: FutureWarning: The frame.append method is deprecated and will be removed from pandas in a future version. Use pandas.concat instead.\n",
      "  df = df.append(df_row, ignore_index=True)\n",
      "/var/folders/xy/szm3b7211cj16ldwcywbvfzdqv7yhd/T/ipykernel_92159/3999490009.py:12: FutureWarning: The frame.append method is deprecated and will be removed from pandas in a future version. Use pandas.concat instead.\n",
      "  df = df.append(df_row, ignore_index=True)\n"
     ]
    },
    {
     "data": {
      "text/html": [
       "<div>\n",
       "<style scoped>\n",
       "    .dataframe tbody tr th:only-of-type {\n",
       "        vertical-align: middle;\n",
       "    }\n",
       "\n",
       "    .dataframe tbody tr th {\n",
       "        vertical-align: top;\n",
       "    }\n",
       "\n",
       "    .dataframe thead th {\n",
       "        text-align: right;\n",
       "    }\n",
       "</style>\n",
       "<table border=\"1\" class=\"dataframe\">\n",
       "  <thead>\n",
       "    <tr style=\"text-align: right;\">\n",
       "      <th></th>\n",
       "      <th>Item Title</th>\n",
       "      <th>Description</th>\n",
       "      <th>Cost</th>\n",
       "      <th>Image</th>\n",
       "    </tr>\n",
       "  </thead>\n",
       "  <tbody>\n",
       "    <tr>\n",
       "      <th>0</th>\n",
       "      <td>Vegetable Basket</td>\n",
       "      <td>This vegetable basket is the perfect gift for ...</td>\n",
       "      <td>$15.00</td>\n",
       "      <td></td>\n",
       "    </tr>\n",
       "    <tr>\n",
       "      <th>1</th>\n",
       "      <td>Russian Nesting Dolls</td>\n",
       "      <td>Hand-painted by trained monkeys, these exquisi...</td>\n",
       "      <td>$10,000.52</td>\n",
       "      <td></td>\n",
       "    </tr>\n",
       "    <tr>\n",
       "      <th>2</th>\n",
       "      <td>Fish Painting</td>\n",
       "      <td>If something seems fishy about this painting, ...</td>\n",
       "      <td>$10,005.00</td>\n",
       "      <td></td>\n",
       "    </tr>\n",
       "    <tr>\n",
       "      <th>3</th>\n",
       "      <td>Dead Parrot</td>\n",
       "      <td>This is an ex-parrot! Or maybe he's only resting?</td>\n",
       "      <td>$0.50</td>\n",
       "      <td></td>\n",
       "    </tr>\n",
       "    <tr>\n",
       "      <th>4</th>\n",
       "      <td>Mystery Box</td>\n",
       "      <td>If you love suprises, this mystery box is for ...</td>\n",
       "      <td>$1.50</td>\n",
       "      <td></td>\n",
       "    </tr>\n",
       "  </tbody>\n",
       "</table>\n",
       "</div>"
      ],
      "text/plain": [
       "              Item Title                                        Description  \\\n",
       "0       Vegetable Basket  This vegetable basket is the perfect gift for ...   \n",
       "1  Russian Nesting Dolls  Hand-painted by trained monkeys, these exquisi...   \n",
       "2          Fish Painting  If something seems fishy about this painting, ...   \n",
       "3            Dead Parrot  This is an ex-parrot! Or maybe he's only resting?   \n",
       "4            Mystery Box  If you love suprises, this mystery box is for ...   \n",
       "\n",
       "         Cost Image  \n",
       "0      $15.00        \n",
       "1  $10,000.52        \n",
       "2  $10,005.00        \n",
       "3       $0.50        \n",
       "4       $1.50        "
      ]
     },
     "execution_count": 33,
     "metadata": {},
     "output_type": "execute_result"
    }
   ],
   "source": [
    "# Scraping with response\n",
    "table = soup.find('table', {\"id\":\"giftList\"})\n",
    "\n",
    "# Create empty dataframe\n",
    "col_names = [x.text.strip() for x in table.find_all('th')]\n",
    "df = pd.DataFrame(columns=col_names)\n",
    "\n",
    "# Loop over rows and append them to dataframe\n",
    "for row in table.find_all('tr')[1:]:\n",
    "    columns = [x.text.strip() for x in row.find_all('td')]\n",
    "    df_row = dict(zip(col_names, columns))\n",
    "    df = df.append(df_row, ignore_index=True)\n",
    "\n",
    "df"
   ]
  },
  {
   "cell_type": "code",
   "execution_count": 34,
   "id": "fcb10957",
   "metadata": {},
   "outputs": [
    {
     "data": {
      "text/html": [
       "<div>\n",
       "<style scoped>\n",
       "    .dataframe tbody tr th:only-of-type {\n",
       "        vertical-align: middle;\n",
       "    }\n",
       "\n",
       "    .dataframe tbody tr th {\n",
       "        vertical-align: top;\n",
       "    }\n",
       "\n",
       "    .dataframe thead th {\n",
       "        text-align: right;\n",
       "    }\n",
       "</style>\n",
       "<table border=\"1\" class=\"dataframe\">\n",
       "  <thead>\n",
       "    <tr style=\"text-align: right;\">\n",
       "      <th></th>\n",
       "      <th>Item Title</th>\n",
       "      <th>Description</th>\n",
       "      <th>Cost</th>\n",
       "      <th>Image</th>\n",
       "    </tr>\n",
       "  </thead>\n",
       "  <tbody>\n",
       "    <tr>\n",
       "      <th>0</th>\n",
       "      <td>Vegetable Basket</td>\n",
       "      <td>This vegetable basket is the perfect gift for ...</td>\n",
       "      <td>$15.00</td>\n",
       "      <td></td>\n",
       "    </tr>\n",
       "    <tr>\n",
       "      <th>1</th>\n",
       "      <td>Russian Nesting Dolls</td>\n",
       "      <td>Hand-painted by trained monkeys, these exquisi...</td>\n",
       "      <td>$10,000.52</td>\n",
       "      <td></td>\n",
       "    </tr>\n",
       "    <tr>\n",
       "      <th>2</th>\n",
       "      <td>Fish Painting</td>\n",
       "      <td>If something seems fishy about this painting, ...</td>\n",
       "      <td>$10,005.00</td>\n",
       "      <td></td>\n",
       "    </tr>\n",
       "    <tr>\n",
       "      <th>3</th>\n",
       "      <td>Dead Parrot</td>\n",
       "      <td>This is an ex-parrot! Or maybe he's only resting?</td>\n",
       "      <td>$0.50</td>\n",
       "      <td></td>\n",
       "    </tr>\n",
       "    <tr>\n",
       "      <th>4</th>\n",
       "      <td>Mystery Box</td>\n",
       "      <td>If you love suprises, this mystery box is for ...</td>\n",
       "      <td>$1.50</td>\n",
       "      <td></td>\n",
       "    </tr>\n",
       "  </tbody>\n",
       "</table>\n",
       "</div>"
      ],
      "text/plain": [
       "              Item Title                                        Description  \\\n",
       "0       Vegetable Basket  This vegetable basket is the perfect gift for ...   \n",
       "1  Russian Nesting Dolls  Hand-painted by trained monkeys, these exquisi...   \n",
       "2          Fish Painting  If something seems fishy about this painting, ...   \n",
       "3            Dead Parrot  This is an ex-parrot! Or maybe he's only resting?   \n",
       "4            Mystery Box  If you love suprises, this mystery box is for ...   \n",
       "\n",
       "         Cost Image  \n",
       "0      $15.00        \n",
       "1  $10,000.52        \n",
       "2  $10,005.00        \n",
       "3       $0.50        \n",
       "4       $1.50        "
      ]
     },
     "execution_count": 34,
     "metadata": {},
     "output_type": "execute_result"
    }
   ],
   "source": [
    "# Compact alternative\n",
    "table = soup.find('table', {\"id\":\"giftList\"})\n",
    "content = [[x.text.strip() for x in row.find_all(['th','td'])] for row in table.find_all('tr')]\n",
    "df = pd.DataFrame(content[1:], columns=content[0])\n",
    "\n",
    "df"
   ]
  },
  {
   "cell_type": "markdown",
   "id": "bb8f0857",
   "metadata": {},
   "source": [
    "We have now seen how to scrape a simple but realistic webpage. Let's proceed with a practical example."
   ]
  },
  {
   "cell_type": "markdown",
   "id": "150861a0",
   "metadata": {},
   "source": [
    "### CSS Selectors"
   ]
  },
  {
   "cell_type": "markdown",
   "id": "ec5324c6",
   "metadata": {},
   "source": [
    "One alternative way of doing exactly the same thing is to use `select`. The `select` function is very similar to `find_all` but has a different syntax. In particular, to search an element with a certain `tag` and ` attribute`, we have to pass the following input:\n",
    "```\n",
    "soup.select(tag[attribute=\"attribute_name\"])\n",
    "```"
   ]
  },
  {
   "cell_type": "code",
   "execution_count": 35,
   "id": "7f7df3e0",
   "metadata": {},
   "outputs": [
    {
     "data": {
      "text/plain": [
       "<td>\n",
       "Vegetable Basket\n",
       "</td>"
      ]
     },
     "execution_count": 35,
     "metadata": {},
     "output_type": "execute_result"
    }
   ],
   "source": [
    "# Select the first element of the table whose id contains \"List\"\n",
    "table = soup.select('table[id*=\"List\"]')[0]\n",
    "table.find('td')"
   ]
  },
  {
   "cell_type": "markdown",
   "id": "62abcaae",
   "metadata": {},
   "source": [
    "### Forms and post requests\n",
    "\n",
    "When you are scraping, you sometimes have to fill-in forms, either to log-in into an account, or to input the arguments for a search query. Often forms are dynamic objects, but not always. Sometimes we can fill in forms also using the `requests` library. In whis section we see a simple example."
   ]
  },
  {
   "cell_type": "markdown",
   "id": "9456cf12",
   "metadata": {},
   "source": [
    "#### Shortcut\n",
    "\n",
    "Often we can bypass forms, if the form redirects us to another page whose URL contains the parameters of the form. These are \"well-behaved\" forms and are actually quite frequent.\n",
    "\n",
    "We can find a simple example at: http://www.webscrapingfordatascience.com/basicform/. This form takes as input a bunch of information and when we click on \"*Submit my information*\", we get exactly the same page but with a different URL that contains the information we have inserted.\n",
    "\n",
    "Suppose I insert the following information:\n",
    "- Your gender: \"Male\"\n",
    "- Food you like: \"Pizza!\" and \"Fries please\"\n",
    "\n",
    "We should get the following url: http://www.webscrapingfordatascience.com/basicform/?name=&gender=M&pizza=like&fries=like&haircolor=black&comments=\n",
    "\n",
    "We can decompose the url in various components, separated by one \"?\" and multiple \"&\":\n",
    "- http://www.webscrapingfordatascience.com/basicform/\n",
    "- name=\n",
    "- gender=M\n",
    "- pizza=like\n",
    "- fries=like\n",
    "- haircolor=black\n",
    "- comments=\n",
    "\n",
    "We can clearly see a pattern: the first component is the cose of the url and the other components are the form options. The ones we didn't fill have the form `option=` while the ones we did fill are `option=value`. Knowing the syntax of a particular form we could fill it ourselves.\n",
    "\n",
    "For example, we could remove the fries and change the hair color to *brown*: http://www.webscrapingfordatascience.com/basicform/?name=&gender=M&pizza=like&fries=&haircolor=brown&comments=\n",
    "\n",
    "Moreover, most forms work even if you remove the empty options. For example, the url above is equivalent to:http://www.webscrapingfordatascience.com/basicform/?gender=M&pizza=like&haircolor=brown&comments=\n",
    "\n",
    "One way to scrape websites with such forms is to create a string with the url with all the empty options and fill them using string formatting functions."
   ]
  },
  {
   "cell_type": "code",
   "execution_count": 36,
   "id": "bc76d66c",
   "metadata": {},
   "outputs": [
    {
     "name": "stdout",
     "output_type": "stream",
     "text": [
      "http://www.webscrapingfordatascience.com/basicform/?name=&gender=M&pizza=like&fries=&haircolor=brown&comments=\n"
     ]
    }
   ],
   "source": [
    "# Building form url\n",
    "url_core = 'http://www.webscrapingfordatascience.com/basicform/?'\n",
    "url_options = 'name=%s&gender=%s&pizza=%s&fries=%s&haircolor=%s&comments=%s'\n",
    "options = ('','M','like','','brown','')\n",
    "url = url_core + url_options % options\n",
    "\n",
    "print(url)"
   ]
  },
  {
   "cell_type": "markdown",
   "id": "3f9d5a3f",
   "metadata": {},
   "source": [
    "An alternative way is to name the options. This alternative is more verbose but more precise and does not require you to provide always all the options, even if empty."
   ]
  },
  {
   "cell_type": "code",
   "execution_count": 37,
   "id": "887b73db",
   "metadata": {},
   "outputs": [
    {
     "name": "stdout",
     "output_type": "stream",
     "text": [
      "http://www.webscrapingfordatascience.com/basicform/?name=&gender=M&pizza=like&fries=&haircolor=brown&comments=\n"
     ]
    }
   ],
   "source": [
    "# Alternative 1\n",
    "url_core = 'http://www.webscrapingfordatascience.com/basicform/?'\n",
    "url_options = 'name={name}&gender={gender}&pizza={pizza}&fries={fries}&haircolor={haircolor}&comments={comments}'\n",
    "options = {\n",
    "    'name': '',\n",
    "    'gender': 'M',\n",
    "    'pizza': 'like',\n",
    "    'fries': '',\n",
    "    'haircolor': 'brown',\n",
    "    'comments': ''\n",
    "    }\n",
    "url = url_core + url_options.format(**options)\n",
    "\n",
    "print(url)"
   ]
  },
  {
   "cell_type": "markdown",
   "id": "ca9bf6d7",
   "metadata": {},
   "source": [
    "Lastly, one could build the url on the go."
   ]
  },
  {
   "cell_type": "code",
   "execution_count": 38,
   "id": "a5196213",
   "metadata": {},
   "outputs": [
    {
     "name": "stdout",
     "output_type": "stream",
     "text": [
      "http://www.webscrapingfordatascience.com/basicform/?gender=M&pizza=like&haircolor=brown&\n"
     ]
    }
   ],
   "source": [
    "# Alternative 2\n",
    "url = 'http://www.webscrapingfordatascience.com/basicform/?'\n",
    "options = {\n",
    "    'gender': 'M',\n",
    "    'pizza': 'like',\n",
    "    'haircolor': 'brown',\n",
    "    }\n",
    "for key, value in options.items():\n",
    "    url += key + '=' + value + '&'\n",
    "\n",
    "print(url)"
   ]
  },
  {
   "cell_type": "markdown",
   "id": "92e5a602",
   "metadata": {},
   "source": [
    "#### Post forms\n",
    "\n",
    "Sometimes however, forms do not provide nice URLs as output. This is particularly true for login forms. There is however still a method, for some of them, to deal with them. \n",
    "\n",
    "For this section, we will use the same form example as before: http://www.webscrapingfordatascience.com/postform2/.\n",
    "\n",
    "This looks like the same form but now when the user clicks on \"*Submit my information*\", we get a page with a summary of the information. The biggest difference however, is that the output URL is exactly the same. Hence, we cannot rely on the same URL-bulding strategy as before.\n",
    "\n",
    "If we inspect the page, we observe the following line at the very beginning\n",
    "```\n",
    "<form method=\"POST\">\n",
    "[...]\n",
    "</form>\n",
    "```\n",
    "\n",
    "And inside there are various input fields:\n",
    "- `<input type=\"text\">` for name\n",
    "- `<input type=\"radio\">` for gender\n",
    "- `<input type=\"checkbox\">` for food\n",
    "- `<select>...</select>` for the hair color\n",
    "- `<textarea>...</textarea>` for comments\n",
    "\n",
    "These are all fields with which we can interact using the `response` package. The main difference is that we won't use the `get` method to get the response from the URL but we will use the `post` method to post our form parameters and get a response.\n",
    "\n",
    "If we input the following options:\n",
    "- *gender*: male\n",
    "- *pizza*: yes\n",
    "- *hair color*: brown hair\n",
    "\n",
    "and we click \"*Submit my information*\" we get to a page with the following text:\n",
    "```\n",
    "Thanks for submitting your information\n",
    "Here's a dump of the form data that was submitted:\n",
    "\n",
    "array(5) {\n",
    "  [\"name\"]=>\n",
    "  string(0) \"\"\n",
    "  [\"gender\"]=>\n",
    "  string(1) \"M\"\n",
    "  [\"pizza\"]=>\n",
    "  string(4) \"like\"\n",
    "  [\"haircolor\"]=>\n",
    "  string(5) \"brown\"\n",
    "  [\"comments\"]=>\n",
    "  string(0) \"\"\n",
    "}\n",
    "```\n",
    "\n",
    "We will not try to get to the same page using the `requests` package."
   ]
  },
  {
   "cell_type": "code",
   "execution_count": 39,
   "id": "371f56a7",
   "metadata": {},
   "outputs": [
    {
     "name": "stdout",
     "output_type": "stream",
     "text": [
      "<html>\r\n",
      "\t<body>\r\n",
      "\r\n",
      "\r\n",
      "<h2>Thanks for submitting your information</h2>\r\n",
      "\r\n",
      "<p>Here's a dump of the form data that was submitted:</p>\r\n",
      "\r\n",
      "<pre>array(3) {\n",
      "  [\"gender\"]=>\n",
      "  string(1) \"M\"\n",
      "  [\"pizza\"]=>\n",
      "  string(4) \"like\"\n",
      "  [\"haircolor\"]=>\n",
      "  string(5) \"brown\"\n",
      "}\n",
      "</pre>\r\n",
      "\r\n",
      "\r\n",
      "\t</body>\r\n",
      "</html>\r\n",
      "\n"
     ]
    }
   ],
   "source": [
    "# URL\n",
    "url = 'http://www.webscrapingfordatascience.com/postform2/'\n",
    "\n",
    "# Options\n",
    "options = {\n",
    "    'gender': 'M',\n",
    "    'pizza': 'like',\n",
    "    'haircolor': 'brown',\n",
    "    }\n",
    "\n",
    "# Post request\n",
    "response = requests.post(url, data=options)\n",
    "print(response.text)"
   ]
  },
  {
   "cell_type": "markdown",
   "id": "735c9097",
   "metadata": {},
   "source": [
    "We have obtained exactly what we wanted! However, sometimes, websites block direct `post` requests.\n",
    "\n",
    "One simple example is: http://www.webscrapingfordatascience.com/postform3/."
   ]
  },
  {
   "cell_type": "code",
   "execution_count": 40,
   "id": "8c9e64cf",
   "metadata": {},
   "outputs": [
    {
     "name": "stdout",
     "output_type": "stream",
     "text": [
      "<html>\r\n",
      "\t<body>\r\n",
      "\r\n",
      "\r\n",
      "Are you trying to submit information from somewhere else?\r\n",
      "\r\n",
      "\t</body>\r\n",
      "</html>\r\n",
      "\n"
     ]
    }
   ],
   "source": [
    "# Post request\n",
    "url = 'http://www.webscrapingfordatascience.com/postform3/'\n",
    "response = requests.post(url, data=options)\n",
    "print(response.text)"
   ]
  },
  {
   "cell_type": "markdown",
   "id": "1dbc43da",
   "metadata": {},
   "source": [
    "What happened? If we inspect the page, we can see that there is a new line at the beginning:\n",
    "```\n",
    "<input type=\"hidden\" name=\"protection\" value=\"2c17abf5d5b4e326bea802600ff88405\">\n",
    "```\n",
    "\n",
    "Now the form contains one more value - *protection* which is conventiently hidden. In order to bypass the protection, we need to provide the correct *protection* value to the form."
   ]
  },
  {
   "cell_type": "code",
   "execution_count": 41,
   "id": "19fc1f26",
   "metadata": {},
   "outputs": [
    {
     "name": "stdout",
     "output_type": "stream",
     "text": [
      "<html>\r\n",
      "\t<body>\r\n",
      "\r\n",
      "\r\n",
      "\r\n",
      "<h2>Thanks for submitting your information</h2>\r\n",
      "\r\n",
      "<p>Here's a dump of the form data that was submitted:</p>\r\n",
      "\r\n",
      "<pre>array(4) {\n",
      "  [\"gender\"]=>\n",
      "  string(1) \"M\"\n",
      "  [\"pizza\"]=>\n",
      "  string(4) \"like\"\n",
      "  [\"haircolor\"]=>\n",
      "  string(5) \"brown\"\n",
      "  [\"protection\"]=>\n",
      "  string(32) \"16c87fc858e4d9fcb8d9c920b699388d\"\n",
      "}\n",
      "</pre>\r\n",
      "\r\n",
      "\r\n",
      "\r\n",
      "\t</body>\r\n",
      "</html>\r\n",
      "\n"
     ]
    }
   ],
   "source": [
    "# Post request\n",
    "url = 'http://www.webscrapingfordatascience.com/postform3/'\n",
    "response = requests.get(url)\n",
    "\n",
    "# Get out the value for protection\n",
    "soup = BeautifulSoup(response.text, 'lxml')\n",
    "options['protection'] = soup.find('input', attrs={'name': 'protection'}).get('value')\n",
    "\n",
    "# Post request\n",
    "response = requests.post(url, data=options)\n",
    "print(response.text)"
   ]
  },
  {
   "cell_type": "markdown",
   "id": "ae7a58fc",
   "metadata": {},
   "source": [
    "Indeed, now the post request was successful. "
   ]
  },
  {
   "cell_type": "markdown",
   "id": "f17219bb",
   "metadata": {},
   "source": [
    "### Proxies\n",
    "\n",
    "We have discussed at the beginning how to be more subtle while scraping, by changing headers. In this section we will explore one step forward in anonimity: proxies. \n",
    "\n",
    "When we send an HTTP request, first the request is sent to a proxy server. The important thing is that the destination web server will which is the origin proxy server. Therefore, when one destination web server sees too many requests coming from one machine, it will block the proxy server. \n",
    "\n",
    "How can we change proxy? There are many websites that offer proxies for money but there are also some that offer proxies for free. The problem with free proxies (but often also with premium ones) is that there are many users using the same proxy, hence they are\n",
    "- slow\n",
    "- blocked fast by many websites\n",
    "\n",
    "Nevertheless, it might be still useful to know how to change proxies."
   ]
  },
  {
   "cell_type": "markdown",
   "id": "eb276eae",
   "metadata": {},
   "source": [
    "#### Get proxy list\n",
    "\n",
    "One website where we can get some free proxies to use for scraping is https://free-proxy-list.net/.\n",
    "\n",
    "If we open the page, we see that there is a long list of proxies, from different countries and with different characteristics. Importantly, we are mostly interested in *https* proxies. We are now going to retrieve a list of them. Note that the proxy list of this website is updated quite often. However, free proxies usually \"expire\" even faster. "
   ]
  },
  {
   "cell_type": "code",
   "execution_count": 42,
   "id": "f6dc3114",
   "metadata": {},
   "outputs": [
    {
     "data": {
      "text/plain": [
       "176"
      ]
     },
     "execution_count": 42,
     "metadata": {},
     "output_type": "execute_result"
    }
   ],
   "source": [
    "# Retrieve proxy list\n",
    "def get_proxies():\n",
    "    response = requests.get('https://free-proxy-list.net/')\n",
    "    soup = BeautifulSoup(response.text, 'lxml')\n",
    "    table = soup.find('table', {'class':'table'})\n",
    "    proxies = []\n",
    "    rows = table.find_all('tr')\n",
    "    for row in rows:\n",
    "        cols = row.find_all('td')\n",
    "        if len(cols)>0:\n",
    "            line = [col.text for col in cols]\n",
    "            if line[6]=='yes':\n",
    "                proxies += [line[0]+':'+line[1]]\n",
    "    return proxies\n",
    "            \n",
    "len(get_proxies())"
   ]
  },
  {
   "cell_type": "markdown",
   "id": "a5d289de",
   "metadata": {},
   "source": [
    "We have found many proxies. How do we use them? We have to provide them as an argment to a `requests` session."
   ]
  },
  {
   "cell_type": "code",
   "execution_count": 43,
   "id": "5cb7c191",
   "metadata": {
    "scrolled": true
   },
   "outputs": [
    {
     "name": "stdout",
     "output_type": "stream",
     "text": [
      "<class 'NameError'>\n",
      "<class 'NameError'>\n",
      "<class 'NameError'>\n",
      "<class 'NameError'>\n",
      "<class 'NameError'>\n",
      "<class 'NameError'>\n",
      "<class 'NameError'>\n",
      "<class 'NameError'>\n",
      "<class 'NameError'>\n",
      "<class 'NameError'>\n"
     ]
    }
   ],
   "source": [
    "# Test proxies\n",
    "url = 'https://www.google.com'\n",
    "proxies = get_proxies()\n",
    "\n",
    "for proxy in proxies[:10]:\n",
    "    try:\n",
    "        response = session.get(url, proxies={\"https\": proxy}, timeout=5)\n",
    "        print(response)\n",
    "    except Exception as e:\n",
    "        print(type(e))"
   ]
  },
  {
   "cell_type": "markdown",
   "id": "d085b5eb",
   "metadata": {},
   "source": [
    "Yes, most proxies were extremely slow (and consider we are opening *Google*...) and we got a `ConnetTimeout` error. Other proxies worked and for one or two of the others we might have got  a `ProxyError`."
   ]
  },
  {
   "cell_type": "markdown",
   "id": "3419fed8",
   "metadata": {},
   "source": [
    "## Dynamic Webscraping"
   ]
  },
  {
   "cell_type": "markdown",
   "id": "b837a0c3",
   "metadata": {},
   "source": [
    "Let's try to scrape the quotes from this link: http://www.webscrapingfordatascience.com/simplejavascript/. It seems like a straightforward job."
   ]
  },
  {
   "cell_type": "code",
   "execution_count": 44,
   "id": "50a70d85",
   "metadata": {},
   "outputs": [
    {
     "name": "stdout",
     "output_type": "stream",
     "text": [
      "<html>\r\n",
      "\r\n",
      "<head>\r\n",
      "\t<script src=\"https://code.jquery.com/jquery-3.2.1.min.js\"></script>\r\n",
      "\t<script>\r\n",
      "\t$(function() {\r\n",
      "\tdocument.cookie = \"jsenabled=1\";\r\n",
      "\t$.getJSON(\"quotes.php\", function(data) {\r\n",
      "\t\tvar items = [];\r\n",
      "\t\t$.each(data, function(key, val) {\r\n",
      "\t\t\titems.push(\"<li id='\" + key + \"'>\" + val + \"</li>\");\r\n",
      "\t\t});\r\n",
      "\t\t$(\"<ul/>\", {\r\n",
      "\t\t\thtml: items.join(\"\")\r\n",
      "\t\t\t}).appendTo(\"body\");\r\n",
      "\t\t});\r\n",
      "\t});\r\n",
      "\t</script>\r\n",
      "</head>\r\n",
      "\r\n",
      "<body>\r\n",
      "\r\n",
      "<h1>Here are some quotes</h1>\r\n",
      "\r\n",
      "</body>\r\n",
      "\r\n",
      "</html>\r\n",
      "\n"
     ]
    }
   ],
   "source": [
    "# Scrape javascript page\n",
    "url = 'http://www.webscrapingfordatascience.com/simplejavascript/'\n",
    "response = requests.get(url)\n",
    "print(response.text)"
   ]
  },
  {
   "cell_type": "markdown",
   "id": "10bbeced",
   "metadata": {},
   "source": [
    "Weird. Our response does not contain the quotes on the page, even though they are clearly visible when we open it in our browser."
   ]
  },
  {
   "cell_type": "markdown",
   "id": "30d80998",
   "metadata": {},
   "source": [
    "### Selenium"
   ]
  },
  {
   "cell_type": "markdown",
   "id": "ce7ce855",
   "metadata": {},
   "source": [
    "Selenium is a python library that emulates a browser and lets us see pages exactly as with a normal browser. This is the most user-friendly way to do web scraping, however it has a huge cost: speed. This is by far the slowest way to do web scraping. \n",
    "\n",
    "After installing `selenium`, we need to download a browser to simulate. We will use Google's chromedriver. You can download it from here: https://sites.google.com/a/chromium.org/chromedriver/. Make sure to select \"**latest stable release**\" and not \"latest beta release\".\n",
    "\n",
    "Move the downloaded `chromedriver` in the current directory (\"*/11-python-webscraping*\" for me). We will now try open the url above with selenium and see if we can scrape the quotes in it."
   ]
  },
  {
   "cell_type": "code",
   "execution_count": 45,
   "id": "3f619c69",
   "metadata": {},
   "outputs": [],
   "source": [
    "# Set your chromedriver name\n",
    "chromedriver_name = '/chromedriver_mac'"
   ]
  },
  {
   "cell_type": "code",
   "execution_count": 46,
   "id": "c03fff80",
   "metadata": {
    "scrolled": false
   },
   "outputs": [
    {
     "name": "stdout",
     "output_type": "stream",
     "text": [
      "/Users/mcourt/Dropbox/Projects/Data-Science-Python/notebooks\n"
     ]
    },
    {
     "name": "stderr",
     "output_type": "stream",
     "text": [
      "/var/folders/xy/szm3b7211cj16ldwcywbvfzdqv7yhd/T/ipykernel_92159/2846782857.py:4: DeprecationWarning: executable_path has been deprecated, please pass in a Service object\n",
      "  driver = webdriver.Chrome(path+chromedriver_name)\n"
     ]
    }
   ],
   "source": [
    "# Open url\n",
    "path = os.getcwd()\n",
    "print(path)\n",
    "driver = webdriver.Chrome(path+chromedriver_name)"
   ]
  },
  {
   "cell_type": "markdown",
   "id": "2a05b561",
   "metadata": {},
   "source": [
    "Awesome! Now, if everything went smooth, you should have a new Chrome window with a banner that says \"*Chrome is being controlled by automated test software*\". We can now open the web page and check that the list appears."
   ]
  },
  {
   "cell_type": "code",
   "execution_count": 47,
   "id": "c45988b6",
   "metadata": {},
   "outputs": [],
   "source": [
    "# Open url\n",
    "url = 'http://www.webscrapingfordatascience.com/simplejavascript/'\n",
    "driver.get(url)"
   ]
  },
  {
   "cell_type": "markdown",
   "id": "56042aa4",
   "metadata": {},
   "source": [
    "Again, if averything went well, we are now abl to see our page with all the quotes in it. How do we scrape them?\n",
    "\n",
    "If we inspect the elements of the list with the right-click `inspect` option, we should see something like:\n",
    "```\n",
    "<html><head>\n",
    "\t<script src=\"https://code.jquery.com/jquery-3.2.1.min.js\"></script>\n",
    "\t<script>\n",
    "\t$(function() {\n",
    "\tdocument.cookie = \"jsenabled=1\";\n",
    "\t$.getJSON(\"quotes.php\", function(data) {\n",
    "\t\tvar items = [];\n",
    "\t\t$.each(data, function(key, val) {\n",
    "\t\t\titems.push(\"<li id='\" + key + \"'>\" + val + \"</li>\");\n",
    "\t\t});\n",
    "\t\t$(\"<ul/>\", {\n",
    "\t\t\thtml: items.join(\"\")\n",
    "\t\t\t}).appendTo(\"body\");\n",
    "\t\t});\n",
    "\t});\n",
    "\t</script>\n",
    "</head>\n",
    "\n",
    "<body>\n",
    "\n",
    "<h1>Here are some quotes</h1>\n",
    "\n",
    "\n",
    "\n",
    "\n",
    "<ul><li id=\"0\">Every strike brings me closer to the next home run. –Babe Ruth</li><li id=\"1\">The two most important days in your life are the day you are born and the day you find out why. –Mark Twain</li><li id=\"2\">Whatever you can do, or dream you can, begin it.  Boldness has genius, power and magic in it. –Johann Wolfgang von Goethe</li></ul></body></html>\n",
    "```\n",
    "\n",
    "Now we can see the content! Can we actually retrieve it? Let's try.\n",
    "\n",
    "The most common selenium functions to get elements of a page, have a very intuitive syntax and are:\n",
    "find_element_by_id\n",
    "- find_element_by_name\n",
    "- find_element_by_xpath\n",
    "- find_element_by_link_text\n",
    "- find_element_by_partial_link_text\n",
    "- find_element_by_tag_name\n",
    "- find_element_by_class_name\n",
    "- find_element_by_css_selector\n",
    "\n",
    "We will not try to recover all elements with tag `<li>` (element of list `<ul>`)."
   ]
  },
  {
   "cell_type": "code",
   "execution_count": 48,
   "id": "5473cff8",
   "metadata": {},
   "outputs": [
    {
     "name": "stderr",
     "output_type": "stream",
     "text": [
      "/var/folders/xy/szm3b7211cj16ldwcywbvfzdqv7yhd/T/ipykernel_92159/157107938.py:2: DeprecationWarning: find_elements_by_* commands are deprecated. Please use find_elements() instead\n",
      "  quotes = [li.text for li in driver.find_elements_by_tag_name('li')]\n"
     ]
    },
    {
     "data": {
      "text/plain": [
       "[]"
      ]
     },
     "execution_count": 48,
     "metadata": {},
     "output_type": "execute_result"
    }
   ],
   "source": [
    "# Scrape content\n",
    "quotes = [li.text for li in driver.find_elements_by_tag_name('li')]\n",
    "quotes"
   ]
  },
  {
   "cell_type": "markdown",
   "id": "dc9a2a73",
   "metadata": {},
   "source": [
    "Yes! It worked! But why?\n",
    "\n"
   ]
  },
  {
   "cell_type": "code",
   "execution_count": 49,
   "id": "05ddde9f",
   "metadata": {},
   "outputs": [
    {
     "name": "stderr",
     "output_type": "stream",
     "text": [
      "/var/folders/xy/szm3b7211cj16ldwcywbvfzdqv7yhd/T/ipykernel_92159/2173692453.py:6: DeprecationWarning: executable_path has been deprecated, please pass in a Service object\n",
      "  driver = webdriver.Chrome(path+chromedriver_name, options=headless_option)\n",
      "/var/folders/xy/szm3b7211cj16ldwcywbvfzdqv7yhd/T/ipykernel_92159/2173692453.py:8: DeprecationWarning: find_elements_by_* commands are deprecated. Please use find_elements() instead\n",
      "  quotes = [li.text for li in driver.find_elements_by_tag_name('li')]\n"
     ]
    },
    {
     "data": {
      "text/plain": [
       "[]"
      ]
     },
     "execution_count": 49,
     "metadata": {},
     "output_type": "execute_result"
    }
   ],
   "source": [
    "# Headless option\n",
    "headless_option = webdriver.ChromeOptions()\n",
    "headless_option.add_argument('--headless')\n",
    "\n",
    "# Scraping\n",
    "driver = webdriver.Chrome(path+chromedriver_name, options=headless_option)\n",
    "driver.get(url)\n",
    "quotes = [li.text for li in driver.find_elements_by_tag_name('li')]\n",
    "quotes"
   ]
  },
  {
   "cell_type": "markdown",
   "id": "2a066c45",
   "metadata": {},
   "source": [
    "Mmm, it (probably) didn't work. Why?\n",
    "\n",
    "The problem is that we are trying to retrieve the content of the page too fast. The page hasn't loaded yet. This is a common issue with `selenium`. Where are two ways to solve it:\n",
    "- waiting\n",
    "- waiting for the element to load\n",
    "\n",
    "The second way is the best way but we will first try the first and simpler one: we will just ask the browser to wait for 1 second before searching for `<li>` tags"
   ]
  },
  {
   "cell_type": "code",
   "execution_count": 50,
   "id": "03047a6d",
   "metadata": {},
   "outputs": [
    {
     "name": "stderr",
     "output_type": "stream",
     "text": [
      "/var/folders/xy/szm3b7211cj16ldwcywbvfzdqv7yhd/T/ipykernel_92159/2964398594.py:2: DeprecationWarning: executable_path has been deprecated, please pass in a Service object\n",
      "  driver = webdriver.Chrome(path+chromedriver_name, options=headless_option)\n",
      "/var/folders/xy/szm3b7211cj16ldwcywbvfzdqv7yhd/T/ipykernel_92159/2964398594.py:5: DeprecationWarning: find_elements_by_* commands are deprecated. Please use find_elements() instead\n",
      "  quotes = [li.text for li in driver.find_elements_by_tag_name('li')]\n"
     ]
    },
    {
     "data": {
      "text/plain": [
       "['The best time to plant a tree was 20 years ago. The second best time is now. –Chinese Proverb',\n",
       " 'The most common way people give up their power is by thinking they don’t have any. –Alice Walker',\n",
       " 'I am not a product of my circumstances. I am a product of my decisions. –Stephen Covey']"
      ]
     },
     "execution_count": 50,
     "metadata": {},
     "output_type": "execute_result"
    }
   ],
   "source": [
    "# Scraping\n",
    "driver = webdriver.Chrome(path+chromedriver_name, options=headless_option)\n",
    "driver.get(url)\n",
    "time.sleep(1)\n",
    "quotes = [li.text for li in driver.find_elements_by_tag_name('li')]\n",
    "quotes"
   ]
  },
  {
   "cell_type": "markdown",
   "id": "15ed3abf",
   "metadata": {},
   "source": [
    "Nice! Now you should have obtained the list that we could not scrape with `requests`. If it didn't work, just increase the waiting time and it should work.\n",
    "\n",
    "We can now have a look at the \"better\" way to use a series of built-in functions:\n",
    "- `WebDriverWait`: the waiting function. We will call the `until` method\n",
    "- `expected_conditions`: the condition function. We will call the `visibility_of_all_elements_located` method\n",
    "- `By`: the selector function. Some of the options are:\n",
    "    - By.ID\n",
    "    - By.XPATH\n",
    "    - By.NAME\n",
    "    - By.TAG_NAME\n",
    "    - By.CLASS_NAME\n",
    "    - By.CSS_SELECTOR\n",
    "    - By.LINK_TEXT\n",
    "    - By.PARTIAL_LINK_TEXT"
   ]
  },
  {
   "cell_type": "code",
   "execution_count": 51,
   "id": "68835f61",
   "metadata": {},
   "outputs": [
    {
     "name": "stderr",
     "output_type": "stream",
     "text": [
      "/var/folders/xy/szm3b7211cj16ldwcywbvfzdqv7yhd/T/ipykernel_92159/152412441.py:6: DeprecationWarning: executable_path has been deprecated, please pass in a Service object\n",
      "  driver = webdriver.Chrome(path+chromedriver_name, options=headless_option)\n"
     ]
    },
    {
     "data": {
      "text/plain": [
       "['The most common way people give up their power is by thinking they don’t have any. –Alice Walker',\n",
       " 'The best time to plant a tree was 20 years ago. The second best time is now. –Chinese Proverb',\n",
       " 'An unexamined life is not worth living. –Socrates']"
      ]
     },
     "execution_count": 51,
     "metadata": {},
     "output_type": "execute_result"
    }
   ],
   "source": [
    "from selenium.webdriver.common.by import By\n",
    "from selenium.webdriver.support.ui import WebDriverWait\n",
    "from selenium.webdriver.support import expected_conditions as EC\n",
    "\n",
    "# Scraping\n",
    "driver = webdriver.Chrome(path+chromedriver_name, options=headless_option)\n",
    "driver.get(url)\n",
    "quotes = WebDriverWait(driver, 10).until(EC.visibility_of_all_elements_located((By.TAG_NAME, 'li')))\n",
    "quotes = [quote.text for quote in quotes]\n",
    "quotes"
   ]
  },
  {
   "cell_type": "markdown",
   "id": "447e1d90",
   "metadata": {},
   "source": [
    "In this case, we have told the browser to wait until either all elements with tag `<li>` are visible or 10 seconds have passed. After one condition is realized, the `WebDriverWait` function also automatically retrieves all the elements which the `expected_condition` function is conditioning on. There are many different conditions we can use. A list can be found here: https://selenium-python.readthedocs.io/waits.html.\n",
    "\n",
    "We can easily generalize the function above as follows."
   ]
  },
  {
   "cell_type": "code",
   "execution_count": 52,
   "id": "2ea03613",
   "metadata": {},
   "outputs": [
    {
     "data": {
      "text/plain": [
       "['The most common way people give up their power is by thinking they don’t have any. –Alice Walker',\n",
       " 'The best time to plant a tree was 20 years ago. The second best time is now. –Chinese Proverb',\n",
       " 'An unexamined life is not worth living. –Socrates']"
      ]
     },
     "execution_count": 52,
     "metadata": {},
     "output_type": "execute_result"
    }
   ],
   "source": [
    "# Find element function\n",
    "def find_elements(driver, function, identifier):\n",
    "    element = WebDriverWait(driver, 10).until(EC.visibility_of_all_elements_located((function, identifier)))\n",
    "    return element\n",
    "\n",
    "quotes = [quote.text for quote in find_elements(driver, By.TAG_NAME, 'li')]\n",
    "quotes"
   ]
  }
 ],
 "metadata": {
  "kernelspec": {
   "display_name": "Python (conda)",
   "language": "python",
   "name": "base"
  },
  "language_info": {
   "codemirror_mode": {
    "name": "ipython",
    "version": 3
   },
   "file_extension": ".py",
   "mimetype": "text/x-python",
   "name": "python",
   "nbconvert_exporter": "python",
   "pygments_lexer": "ipython3",
   "version": "3.9.7"
  }
 },
 "nbformat": 4,
 "nbformat_minor": 5
}
