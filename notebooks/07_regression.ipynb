{
 "cells": [
  {
   "cell_type": "markdown",
   "id": "22572d02",
   "metadata": {},
   "source": [
    "# Regression"
   ]
  },
  {
   "cell_type": "code",
   "execution_count": 10,
   "id": "fb2b9a5e",
   "metadata": {},
   "outputs": [],
   "source": [
    "import pandas as pd\n",
    "import statsmodels.api as sm\n",
    "\n",
    "from src.import_data import import_data"
   ]
  },
  {
   "cell_type": "markdown",
   "id": "cddd0b4b",
   "metadata": {},
   "source": [
    "For the scope of this tutorial we are going to use AirBnb Scraped data for the city of Bologna. The data is freely available at **Inside AirBnb**: http://insideairbnb.com/get-the-data.html.\n",
    "\n",
    "A description of all variables in all datasets is avaliable [here](https://docs.google.com/spreadsheets/d/1iWCNJcSutYqpULSQHlNyGInUvHg2BoUGoNRIGa6Szc4/edit#gid=982310896).\n",
    "\n",
    "We are going to use 2 datasets:\n",
    "\n",
    "- listing dataset: contains listing-level information\n",
    "- pricing dataset: contains pricing data, over time"
   ]
  },
  {
   "cell_type": "code",
   "execution_count": 11,
   "id": "e50befa6",
   "metadata": {},
   "outputs": [],
   "source": [
    "df_listings, df_prices, df = import_data()"
   ]
  },
  {
   "cell_type": "markdown",
   "id": "1bc3eacf",
   "metadata": {},
   "source": [
    "## OLS Regression"
   ]
  },
  {
   "cell_type": "markdown",
   "id": "2c38da00",
   "metadata": {},
   "source": [
    "We can use the `statsmodels` package (`sm` in short) to estimate a linear regression, with the OLS package."
   ]
  },
  {
   "cell_type": "code",
   "execution_count": 22,
   "id": "421a103b",
   "metadata": {},
   "outputs": [],
   "source": [
    "est = sm.OLS.from_formula('price ~ review_scores_rating', df).fit()"
   ]
  },
  {
   "cell_type": "markdown",
   "id": "02479799",
   "metadata": {},
   "source": [
    "The first table contains the estimation results."
   ]
  },
  {
   "cell_type": "code",
   "execution_count": 23,
   "id": "5b260caa",
   "metadata": {},
   "outputs": [
    {
     "data": {
      "text/html": [
       "<table class=\"simpletable\">\n",
       "<tr>\n",
       "            <td></td>              <th>coef</th>     <th>std err</th>      <th>t</th>      <th>P>|t|</th>  <th>[0.025</th>    <th>0.975]</th>  \n",
       "</tr>\n",
       "<tr>\n",
       "  <th>Intercept</th>            <td>  468.6306</td> <td>    4.374</td> <td>  107.133</td> <td> 0.000</td> <td>  460.057</td> <td>  477.204</td>\n",
       "</tr>\n",
       "<tr>\n",
       "  <th>review_scores_rating</th> <td>  -68.3729</td> <td>    0.922</td> <td>  -74.157</td> <td> 0.000</td> <td>  -70.180</td> <td>  -66.566</td>\n",
       "</tr>\n",
       "</table>"
      ],
      "text/plain": [
       "<class 'statsmodels.iolib.table.SimpleTable'>"
      ]
     },
     "execution_count": 23,
     "metadata": {},
     "output_type": "execute_result"
    }
   ],
   "source": [
    "est.summary().tables[1]"
   ]
  },
  {
   "cell_type": "markdown",
   "id": "f3c49e6a",
   "metadata": {},
   "source": [
    "We can add fixed effects as in R"
   ]
  },
  {
   "cell_type": "code",
   "execution_count": 46,
   "id": "005bc2ca",
   "metadata": {},
   "outputs": [
    {
     "data": {
      "text/html": [
       "<table class=\"simpletable\">\n",
       "<tr>\n",
       "                       <td></td>                         <th>coef</th>     <th>std err</th>      <th>t</th>      <th>P>|t|</th>  <th>[0.025</th>    <th>0.975]</th>  \n",
       "</tr>\n",
       "<tr>\n",
       "  <th>Intercept</th>                                  <td>  139.4103</td> <td>    2.136</td> <td>   65.267</td> <td> 0.000</td> <td>  135.224</td> <td>  143.597</td>\n",
       "</tr>\n",
       "<tr>\n",
       "  <th>C(neighborhood)[T.Navile]</th>                  <td>   24.2554</td> <td>    2.493</td> <td>    9.729</td> <td> 0.000</td> <td>   19.369</td> <td>   29.142</td>\n",
       "</tr>\n",
       "<tr>\n",
       "  <th>C(neighborhood)[T.Porto - Saragozza]</th>       <td>   47.6853</td> <td>    2.266</td> <td>   21.047</td> <td> 0.000</td> <td>   43.245</td> <td>   52.126</td>\n",
       "</tr>\n",
       "<tr>\n",
       "  <th>C(neighborhood)[T.San Donato - San Vitale]</th> <td>  -10.0544</td> <td>    2.480</td> <td>   -4.054</td> <td> 0.000</td> <td>  -14.916</td> <td>   -5.193</td>\n",
       "</tr>\n",
       "<tr>\n",
       "  <th>C(neighborhood)[T.Santo Stefano]</th>           <td>   -0.9616</td> <td>    2.263</td> <td>   -0.425</td> <td> 0.671</td> <td>   -5.396</td> <td>    3.473</td>\n",
       "</tr>\n",
       "<tr>\n",
       "  <th>C(neighborhood)[T.Savena]</th>                  <td>  -64.0289</td> <td>    3.159</td> <td>  -20.270</td> <td> 0.000</td> <td>  -70.220</td> <td>  -57.838</td>\n",
       "</tr>\n",
       "</table>"
      ],
      "text/plain": [
       "<class 'statsmodels.iolib.table.SimpleTable'>"
      ]
     },
     "execution_count": 46,
     "metadata": {},
     "output_type": "execute_result"
    }
   ],
   "source": [
    "est = sm.OLS.from_formula('price ~ C(neighborhood)', df).fit()\n",
    "est.summary().tables[1]"
   ]
  },
  {
   "cell_type": "markdown",
   "id": "bba6b32d",
   "metadata": {},
   "source": [
    "To display the coefficients, we have to go through an intermediate step"
   ]
  },
  {
   "cell_type": "code",
   "execution_count": 47,
   "id": "d38dbff0",
   "metadata": {},
   "outputs": [
    {
     "data": {
      "text/html": [
       "<div>\n",
       "<style scoped>\n",
       "    .dataframe tbody tr th:only-of-type {\n",
       "        vertical-align: middle;\n",
       "    }\n",
       "\n",
       "    .dataframe tbody tr th {\n",
       "        vertical-align: top;\n",
       "    }\n",
       "\n",
       "    .dataframe thead th {\n",
       "        text-align: right;\n",
       "    }\n",
       "</style>\n",
       "<table border=\"1\" class=\"dataframe\">\n",
       "  <thead>\n",
       "    <tr style=\"text-align: right;\">\n",
       "      <th></th>\n",
       "      <th>coef</th>\n",
       "      <th>err</th>\n",
       "      <th>varname</th>\n",
       "    </tr>\n",
       "  </thead>\n",
       "  <tbody>\n",
       "    <tr>\n",
       "      <th>Intercept</th>\n",
       "      <td>139.410265</td>\n",
       "      <td>4.186482</td>\n",
       "      <td>Intercept</td>\n",
       "    </tr>\n",
       "    <tr>\n",
       "      <th>C(neighborhood)[T.Navile]</th>\n",
       "      <td>24.255373</td>\n",
       "      <td>4.886331</td>\n",
       "      <td>C(neighborhood)[T.Navile]</td>\n",
       "    </tr>\n",
       "    <tr>\n",
       "      <th>C(neighborhood)[T.Porto - Saragozza]</th>\n",
       "      <td>47.685297</td>\n",
       "      <td>4.440646</td>\n",
       "      <td>C(neighborhood)[T.Porto - Saragozza]</td>\n",
       "    </tr>\n",
       "    <tr>\n",
       "      <th>C(neighborhood)[T.San Donato - San Vitale]</th>\n",
       "      <td>-10.054401</td>\n",
       "      <td>4.861457</td>\n",
       "      <td>C(neighborhood)[T.San Donato - San Vitale]</td>\n",
       "    </tr>\n",
       "    <tr>\n",
       "      <th>C(neighborhood)[T.Santo Stefano]</th>\n",
       "      <td>-0.961594</td>\n",
       "      <td>4.434857</td>\n",
       "      <td>C(neighborhood)[T.Santo Stefano]</td>\n",
       "    </tr>\n",
       "    <tr>\n",
       "      <th>C(neighborhood)[T.Savena]</th>\n",
       "      <td>-64.028886</td>\n",
       "      <td>6.191171</td>\n",
       "      <td>C(neighborhood)[T.Savena]</td>\n",
       "    </tr>\n",
       "  </tbody>\n",
       "</table>\n",
       "</div>"
      ],
      "text/plain": [
       "                                                  coef       err  \\\n",
       "Intercept                                   139.410265  4.186482   \n",
       "C(neighborhood)[T.Navile]                    24.255373  4.886331   \n",
       "C(neighborhood)[T.Porto - Saragozza]         47.685297  4.440646   \n",
       "C(neighborhood)[T.San Donato - San Vitale]  -10.054401  4.861457   \n",
       "C(neighborhood)[T.Santo Stefano]             -0.961594  4.434857   \n",
       "C(neighborhood)[T.Savena]                   -64.028886  6.191171   \n",
       "\n",
       "                                                                               varname  \n",
       "Intercept                                                                    Intercept  \n",
       "C(neighborhood)[T.Navile]                                    C(neighborhood)[T.Navile]  \n",
       "C(neighborhood)[T.Porto - Saragozza]              C(neighborhood)[T.Porto - Saragozza]  \n",
       "C(neighborhood)[T.San Donato - San Vitale]  C(neighborhood)[T.San Donato - San Vitale]  \n",
       "C(neighborhood)[T.Santo Stefano]                      C(neighborhood)[T.Santo Stefano]  \n",
       "C(neighborhood)[T.Savena]                                    C(neighborhood)[T.Savena]  "
      ]
     },
     "execution_count": 47,
     "metadata": {},
     "output_type": "execute_result"
    }
   ],
   "source": [
    "coef_df = pd.DataFrame({'coef': est.params.values,\n",
    "                        'err': est.params - est.conf_int()[0],\n",
    "                        'varname': est.params.index\n",
    "                       })\n",
    "coef_df"
   ]
  },
  {
   "cell_type": "markdown",
   "id": "0fa99bae",
   "metadata": {},
   "source": [
    "Now we can plot the coefficients with the confidence intervals."
   ]
  },
  {
   "cell_type": "code",
   "execution_count": 48,
   "id": "d857018a",
   "metadata": {},
   "outputs": [
    {
     "data": {
      "text/plain": [
       "<AxesSubplot:xlabel='coef', ylabel='varname'>"
      ]
     },
     "execution_count": 48,
     "metadata": {},
     "output_type": "execute_result"
    },
    {
     "data": {
      "image/png": "[encoded data removed]",
      "text/plain": [
       "<Figure size 432x288 with 1 Axes>"
      ]
     },
     "metadata": {
      "needs_background": "light"
     },
     "output_type": "display_data"
    }
   ],
   "source": [
    "coef_df.plot(x='coef', y='varname', kind='scatter', \n",
    "             xerr='err', legend=False)"
   ]
  },
  {
   "cell_type": "code",
   "execution_count": null,
   "id": "e6a5c964",
   "metadata": {},
   "outputs": [],
   "source": []
  }
 ],
 "metadata": {
  "kernelspec": {
   "display_name": "Python (conda)",
   "language": "python",
   "name": "base"
  },
  "language_info": {
   "codemirror_mode": {
    "name": "ipython",
    "version": 3
   },
   "file_extension": ".py",
   "mimetype": "text/x-python",
   "name": "python",
   "nbconvert_exporter": "python",
   "pygments_lexer": "ipython3",
   "version": "3.9.7"
  }
 },
 "nbformat": 4,
 "nbformat_minor": 5
}
