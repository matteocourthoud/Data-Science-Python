{
 "cells": [
  {
   "cell_type": "markdown",
   "id": "f46318f6",
   "metadata": {},
   "source": [
    "# Data Types"
   ]
  },
  {
   "cell_type": "code",
   "execution_count": 1,
   "id": "a0fba4c3",
   "metadata": {},
   "outputs": [],
   "source": [
    "import numpy as np\n",
    "import pandas as pd"
   ]
  },
  {
   "cell_type": "markdown",
   "id": "ffaa84cb",
   "metadata": {},
   "source": [
    "## Setup"
   ]
  },
  {
   "cell_type": "markdown",
   "id": "33573683",
   "metadata": {},
   "source": [
    "For the scope of this tutorial we are going to use AirBnb Scraped data for the city of Bologna. The data is freely available at **Inside AirBnb**: http://insideairbnb.com/get-the-data.html.\n",
    "\n",
    "A description of all variables in all datasets is avaliable [here](https://docs.google.com/spreadsheets/d/1iWCNJcSutYqpULSQHlNyGInUvHg2BoUGoNRIGa6Szc4/edit#gid=982310896).\n",
    "\n",
    "We are going to use 2 datasets:\n",
    "\n",
    "- listing dataset: contains listing-level information\n",
    "- pricing dataset: contains pricing data, over time"
   ]
  },
  {
   "cell_type": "code",
   "execution_count": 2,
   "id": "57a3394d",
   "metadata": {},
   "outputs": [],
   "source": [
    "# Import listings data\n",
    "url_listings = \"http://data.insideairbnb.com/italy/emilia-romagna/bologna/2021-12-17/visualisations/listings.csv\"\n",
    "df_listings = pd.read_csv(url_listings)\n",
    "\n",
    "# Import pricing data\n",
    "url_prices = \"http://data.insideairbnb.com/italy/emilia-romagna/bologna/2021-12-17/data/calendar.csv.gz\"\n",
    "df_prices = pd.read_csv(url_prices, compression=\"gzip\")"
   ]
  },
  {
   "cell_type": "markdown",
   "id": "d4954e5e",
   "metadata": {},
   "source": [
    "## Numerical Data"
   ]
  },
  {
   "cell_type": "markdown",
   "id": "a68b21e0",
   "metadata": {},
   "source": [
    "> Methods\n",
    ">\n",
    ">- `pd.cut()`"
   ]
  },
  {
   "cell_type": "markdown",
   "id": "a471d85d",
   "metadata": {},
   "source": [
    "Standard mathematical operations between columns are done row-wise."
   ]
  },
  {
   "cell_type": "code",
   "execution_count": 3,
   "id": "70387b22",
   "metadata": {},
   "outputs": [
    {
     "data": {
      "text/plain": [
       "0           148\n",
       "1           357\n",
       "2           357\n",
       "3           357\n",
       "4           357\n",
       "           ... \n",
       "1260340    1124\n",
       "1260341    1124\n",
       "1260342    1124\n",
       "1260343    1124\n",
       "1260344    1124\n",
       "Length: 1260345, dtype: int64"
      ]
     },
     "execution_count": 3,
     "metadata": {},
     "output_type": "execute_result"
    }
   ],
   "source": [
    "df_prices['maximum_nights'] - df_prices['minimum_nights']"
   ]
  },
  {
   "cell_type": "markdown",
   "id": "219c42a2",
   "metadata": {},
   "source": [
    "We can use most `numpy` operations element-wise on a single column."
   ]
  },
  {
   "cell_type": "code",
   "execution_count": 4,
   "id": "a3bd998d",
   "metadata": {},
   "outputs": [
    {
     "data": {
      "text/plain": [
       "0       4.219508\n",
       "1       3.367296\n",
       "2       3.912023\n",
       "3       4.836282\n",
       "4       3.912023\n",
       "          ...   \n",
       "3448    3.465736\n",
       "3449    3.806662\n",
       "3450    3.912023\n",
       "3451    4.897840\n",
       "3452    4.744932\n",
       "Name: price, Length: 3453, dtype: float64"
      ]
     },
     "execution_count": 4,
     "metadata": {},
     "output_type": "execute_result"
    }
   ],
   "source": [
    "np.log(df_listings['price'])"
   ]
  },
  {
   "cell_type": "markdown",
   "id": "1a266071",
   "metadata": {},
   "source": [
    "We can create a categorical variables from a numerical one using the `pd.cut()` function."
   ]
  },
  {
   "cell_type": "code",
   "execution_count": 5,
   "id": "34d31ab3",
   "metadata": {},
   "outputs": [
    {
     "data": {
      "text/plain": [
       "0              ok\n",
       "1           cheap\n",
       "2           cheap\n",
       "3       expensive\n",
       "4           cheap\n",
       "          ...    \n",
       "3448        cheap\n",
       "3449        cheap\n",
       "3450        cheap\n",
       "3451    expensive\n",
       "3452    expensive\n",
       "Name: price, Length: 3453, dtype: category\n",
       "Categories (3, object): ['cheap' < 'ok' < 'expensive']"
      ]
     },
     "execution_count": 5,
     "metadata": {},
     "output_type": "execute_result"
    }
   ],
   "source": [
    "pd.cut(df_listings['price'], \n",
    "       bins = [0, 50, 100, np.inf], \n",
    "       labels=['cheap', 'ok', 'expensive'])"
   ]
  },
  {
   "cell_type": "markdown",
   "id": "2b96aec7",
   "metadata": {},
   "source": [
    "## String Data"
   ]
  },
  {
   "cell_type": "markdown",
   "id": "ffc18877",
   "metadata": {},
   "source": [
    "> Methods\n",
    ">\n",
    ">- `.str()`"
   ]
  },
  {
   "cell_type": "markdown",
   "id": "b57dcbf3",
   "metadata": {},
   "source": [
    "We can use the `+` operator between columns, to do pairwise append.\n",
    "\n",
    "**Note**: we cannot do it with strings."
   ]
  },
  {
   "cell_type": "code",
   "execution_count": 6,
   "id": "ae02a154",
   "metadata": {},
   "outputs": [
    {
     "data": {
      "text/plain": [
       "0                     CarloSanto Stefano\n",
       "1              EleonoraPorto - Saragozza\n",
       "2                     PaoloSanto Stefano\n",
       "3                Anna MariaSanto Stefano\n",
       "4               ValerioPorto - Saragozza\n",
       "                      ...               \n",
       "3448                        IleanaNavile\n",
       "3449           FernandaPorto - Saragozza\n",
       "3450                        IleanaNavile\n",
       "3451        Wonderful ItalySanto Stefano\n",
       "3452    Wonderful ItalyPorto - Saragozza\n",
       "Length: 3453, dtype: object"
      ]
     },
     "execution_count": 6,
     "metadata": {},
     "output_type": "execute_result"
    }
   ],
   "source": [
    "df_listings['host_name'] + df_listings['neighbourhood']"
   ]
  },
  {
   "cell_type": "markdown",
   "id": "69abdbe4",
   "metadata": {},
   "source": [
    "Pandas Series have a lot of vectorized string functions you can call on them."
   ]
  },
  {
   "cell_type": "code",
   "execution_count": 7,
   "id": "864a0b6b",
   "metadata": {},
   "outputs": [
    {
     "data": {
      "text/plain": [
       "['capitalize',\n",
       " 'casefold',\n",
       " 'cat',\n",
       " 'center',\n",
       " 'contains',\n",
       " 'count',\n",
       " 'decode',\n",
       " 'encode',\n",
       " 'endswith',\n",
       " 'extract',\n",
       " 'extractall',\n",
       " 'find',\n",
       " 'findall',\n",
       " 'fullmatch',\n",
       " 'get',\n",
       " 'index',\n",
       " 'isalnum',\n",
       " 'isalpha',\n",
       " 'isdecimal',\n",
       " 'isdigit',\n",
       " 'islower',\n",
       " 'isnumeric',\n",
       " 'isspace',\n",
       " 'istitle',\n",
       " 'isupper',\n",
       " 'join',\n",
       " 'len',\n",
       " 'ljust',\n",
       " 'lower',\n",
       " 'lstrip',\n",
       " 'match',\n",
       " 'normalize',\n",
       " 'pad',\n",
       " 'partition',\n",
       " 'repeat',\n",
       " 'replace',\n",
       " 'rfind',\n",
       " 'rindex',\n",
       " 'rjust',\n",
       " 'rpartition',\n",
       " 'rsplit',\n",
       " 'rstrip',\n",
       " 'slice',\n",
       " 'split',\n",
       " 'startswith',\n",
       " 'strip',\n",
       " 'swapcase',\n",
       " 'title',\n",
       " 'translate',\n",
       " 'upper',\n",
       " 'wrap',\n",
       " 'zfill']"
      ]
     },
     "execution_count": 7,
     "metadata": {},
     "output_type": "execute_result"
    }
   ],
   "source": [
    "[i for i in dir(pd.Series.str) if '_' not in i]"
   ]
  },
  {
   "cell_type": "markdown",
   "id": "5c6f8ca6",
   "metadata": {},
   "source": [
    "For example, we want to remove the dollar symbol from the `price` variable in the `df_prices` dataset."
   ]
  },
  {
   "cell_type": "code",
   "execution_count": 8,
   "id": "b8fc9a14",
   "metadata": {},
   "outputs": [
    {
     "name": "stderr",
     "output_type": "stream",
     "text": [
      "/var/folders/xy/szm3b7211cj16ldwcywbvfzdqv7yhd/T/ipykernel_74833/117745113.py:1: FutureWarning: The default value of regex will change from True to False in a future version. In addition, single character regular expressions will*not* be treated as literal strings when regex=True.\n",
      "  df_prices['price'].str.replace('$', '')\n"
     ]
    },
    {
     "data": {
      "text/plain": [
       "0           70.00\n",
       "1           68.00\n",
       "2           68.00\n",
       "3           68.00\n",
       "4           68.00\n",
       "            ...  \n",
       "1260340    115.00\n",
       "1260341    115.00\n",
       "1260342    115.00\n",
       "1260343    115.00\n",
       "1260344    115.00\n",
       "Name: price, Length: 1260345, dtype: object"
      ]
     },
     "execution_count": 8,
     "metadata": {},
     "output_type": "execute_result"
    }
   ],
   "source": [
    "df_prices['price'].str.replace('$', '')"
   ]
  },
  {
   "cell_type": "markdown",
   "id": "2cfc0528",
   "metadata": {},
   "source": [
    "Some of these functions use regular expressions.\n",
    "\n",
    "- `match()`: Call re.match() on each element, returning a boolean.\n",
    "- `extract()`: Call re.match() on each element, returning matched groups as strings.\n",
    "- `findall()`: Call re.findall() on each element\n",
    "- `replace()`: Replace occurrences of pattern with some other string\n",
    "- `contains()`: Call re.search() on each element, returning a boolean\n",
    "- `count()`: Count occurrences of pattern\n",
    "- `split()`: Equivalent to str.split(), but accepts regexps\n",
    "rsplit()\n",
    "\n",
    "For example, the next code checks whether in the word `centre` or `center` are contained in the text description."
   ]
  },
  {
   "cell_type": "code",
   "execution_count": 9,
   "id": "4a384197",
   "metadata": {
    "scrolled": true
   },
   "outputs": [
    {
     "data": {
      "text/plain": [
       "0        True\n",
       "1       False\n",
       "2        True\n",
       "3       False\n",
       "4       False\n",
       "        ...  \n",
       "3448    False\n",
       "3449    False\n",
       "3450    False\n",
       "3451    False\n",
       "3452    False\n",
       "Name: name, Length: 3453, dtype: bool"
      ]
     },
     "execution_count": 9,
     "metadata": {},
     "output_type": "execute_result"
    }
   ],
   "source": [
    "df_listings['name'].str.contains('centre|center')"
   ]
  },
  {
   "cell_type": "markdown",
   "id": "0d4ea724",
   "metadata": {},
   "source": [
    "Lastly, we can (try to) convert string variables to numeric using `astype(float)`."
   ]
  },
  {
   "cell_type": "code",
   "execution_count": 10,
   "id": "47f0f54f",
   "metadata": {},
   "outputs": [
    {
     "data": {
      "text/plain": [
       "0           70.0\n",
       "1           68.0\n",
       "2           68.0\n",
       "3           68.0\n",
       "4           68.0\n",
       "           ...  \n",
       "1260340    115.0\n",
       "1260341    115.0\n",
       "1260342    115.0\n",
       "1260343    115.0\n",
       "1260344    115.0\n",
       "Name: price, Length: 1260345, dtype: float64"
      ]
     },
     "execution_count": 10,
     "metadata": {},
     "output_type": "execute_result"
    }
   ],
   "source": [
    "df_prices['price'].str.replace('[$|,]', '', regex=True).astype(float)"
   ]
  },
  {
   "cell_type": "markdown",
   "id": "73563d49",
   "metadata": {},
   "source": [
    "We can also use it to convert numerics to strings using `astype(str)`."
   ]
  },
  {
   "cell_type": "code",
   "execution_count": 11,
   "id": "0a1a848f",
   "metadata": {},
   "outputs": [
    {
     "data": {
      "text/plain": [
       "0          42196\n",
       "1          46352\n",
       "2          59697\n",
       "3          85368\n",
       "4         145779\n",
       "          ...   \n",
       "3448    53810648\n",
       "3449    53820830\n",
       "3450    53837098\n",
       "3451    53837654\n",
       "3452    53854962\n",
       "Name: id, Length: 3453, dtype: object"
      ]
     },
     "execution_count": 11,
     "metadata": {},
     "output_type": "execute_result"
    }
   ],
   "source": [
    "df_listings['id'].astype(str)"
   ]
  },
  {
   "cell_type": "markdown",
   "id": "ccc15e12",
   "metadata": {},
   "source": [
    "## Time Data"
   ]
  },
  {
   "cell_type": "markdown",
   "id": "e5fef72c",
   "metadata": {},
   "source": [
    "> Methods\n",
    ">\n",
    ">- `pd.to_datetime()`\n",
    ">- `.dt.year()`\n",
    ">- `pd.to_timedelta()`"
   ]
  },
  {
   "cell_type": "markdown",
   "id": "efaca716",
   "metadata": {},
   "source": [
    "In the `df_prices` we have a date variable, `date`. Which format is it in? We can check it with the `.dtypes` attribute."
   ]
  },
  {
   "cell_type": "code",
   "execution_count": 16,
   "id": "fb054bfd",
   "metadata": {},
   "outputs": [
    {
     "data": {
      "text/plain": [
       "dtype('O')"
      ]
     },
     "execution_count": 16,
     "metadata": {},
     "output_type": "execute_result"
    }
   ],
   "source": [
    "df_prices['date'].dtypes"
   ]
  },
  {
   "cell_type": "markdown",
   "id": "cc04dfdb",
   "metadata": {},
   "source": [
    "We can convert a variable into a date using the "
   ]
  },
  {
   "cell_type": "code",
   "execution_count": 18,
   "id": "943365f7",
   "metadata": {},
   "outputs": [],
   "source": [
    "df_prices['datetime'] = pd.to_datetime(df_prices['date'])"
   ]
  },
  {
   "cell_type": "markdown",
   "id": "f758d41a",
   "metadata": {},
   "source": [
    "Indeed, if we now check the format of the `datetime` variable, it's `datetime`."
   ]
  },
  {
   "cell_type": "code",
   "execution_count": 19,
   "id": "f549dc69",
   "metadata": {},
   "outputs": [
    {
     "data": {
      "text/plain": [
       "dtype('<M8[ns]')"
      ]
     },
     "execution_count": 19,
     "metadata": {},
     "output_type": "execute_result"
    }
   ],
   "source": [
    "df_prices['datetime'].dtypes"
   ]
  },
  {
   "cell_type": "markdown",
   "id": "15a4775c",
   "metadata": {},
   "source": [
    "Once we have a variable in `datetime` format, we gain plenty of datetime operations through the `dt` library. For example, we can extract the year using `.dt.year`."
   ]
  },
  {
   "cell_type": "code",
   "execution_count": 25,
   "id": "24b26fd9",
   "metadata": {},
   "outputs": [
    {
     "data": {
      "text/plain": [
       "0          2021\n",
       "1          2021\n",
       "2          2021\n",
       "3          2021\n",
       "4          2021\n",
       "           ... \n",
       "1260340    2022\n",
       "1260341    2022\n",
       "1260342    2022\n",
       "1260343    2022\n",
       "1260344    2022\n",
       "Name: datetime, Length: 1260345, dtype: int64"
      ]
     },
     "execution_count": 25,
     "metadata": {},
     "output_type": "execute_result"
    }
   ],
   "source": [
    "df_prices['datetime'].dt.year"
   ]
  },
  {
   "cell_type": "markdown",
   "id": "86efac9e",
   "metadata": {},
   "source": [
    "We can add or subtract time periods from a date using the `pd.to_timedelta()` function. We need to specify the unit of measurement with the `unit` option."
   ]
  },
  {
   "cell_type": "code",
   "execution_count": 27,
   "id": "b247165b",
   "metadata": {},
   "outputs": [
    {
     "data": {
      "text/plain": [
       "0         2021-12-14\n",
       "1         2021-12-14\n",
       "2         2021-12-15\n",
       "3         2021-12-16\n",
       "4         2021-12-17\n",
       "             ...    \n",
       "1260340   2022-12-09\n",
       "1260341   2022-12-10\n",
       "1260342   2022-12-11\n",
       "1260343   2022-12-12\n",
       "1260344   2022-12-13\n",
       "Name: datetime, Length: 1260345, dtype: datetime64[ns]"
      ]
     },
     "execution_count": 27,
     "metadata": {},
     "output_type": "execute_result"
    }
   ],
   "source": [
    "df_prices['datetime'] -  pd.to_timedelta(3, unit='d')"
   ]
  },
  {
   "cell_type": "markdown",
   "id": "82ef0f68",
   "metadata": {},
   "source": [
    "## Missing Data"
   ]
  },
  {
   "cell_type": "markdown",
   "id": "8dc1aacc",
   "metadata": {},
   "source": [
    "> Methods\n",
    ">\n",
    ">- `.isna()`\n",
    ">- `.dropna()`\n",
    ">- `.fillna()`"
   ]
  },
  {
   "cell_type": "markdown",
   "id": "b7c1bc4c",
   "metadata": {},
   "source": [
    "The function `isna()` reports missing values."
   ]
  },
  {
   "cell_type": "code",
   "execution_count": 12,
   "id": "ba703400",
   "metadata": {},
   "outputs": [
    {
     "data": {
      "text/html": [
       "<div>\n",
       "<style scoped>\n",
       "    .dataframe tbody tr th:only-of-type {\n",
       "        vertical-align: middle;\n",
       "    }\n",
       "\n",
       "    .dataframe tbody tr th {\n",
       "        vertical-align: top;\n",
       "    }\n",
       "\n",
       "    .dataframe thead th {\n",
       "        text-align: right;\n",
       "    }\n",
       "</style>\n",
       "<table border=\"1\" class=\"dataframe\">\n",
       "  <thead>\n",
       "    <tr style=\"text-align: right;\">\n",
       "      <th></th>\n",
       "      <th>id</th>\n",
       "      <th>name</th>\n",
       "      <th>host_id</th>\n",
       "      <th>host_name</th>\n",
       "      <th>neighbourhood_group</th>\n",
       "      <th>neighbourhood</th>\n",
       "      <th>latitude</th>\n",
       "      <th>longitude</th>\n",
       "      <th>room_type</th>\n",
       "      <th>price</th>\n",
       "      <th>minimum_nights</th>\n",
       "      <th>number_of_reviews</th>\n",
       "      <th>last_review</th>\n",
       "      <th>reviews_per_month</th>\n",
       "      <th>calculated_host_listings_count</th>\n",
       "      <th>availability_365</th>\n",
       "      <th>number_of_reviews_ltm</th>\n",
       "      <th>license</th>\n",
       "    </tr>\n",
       "  </thead>\n",
       "  <tbody>\n",
       "    <tr>\n",
       "      <th>0</th>\n",
       "      <td>False</td>\n",
       "      <td>False</td>\n",
       "      <td>False</td>\n",
       "      <td>False</td>\n",
       "      <td>True</td>\n",
       "      <td>False</td>\n",
       "      <td>False</td>\n",
       "      <td>False</td>\n",
       "      <td>False</td>\n",
       "      <td>False</td>\n",
       "      <td>False</td>\n",
       "      <td>False</td>\n",
       "      <td>False</td>\n",
       "      <td>False</td>\n",
       "      <td>False</td>\n",
       "      <td>False</td>\n",
       "      <td>False</td>\n",
       "      <td>True</td>\n",
       "    </tr>\n",
       "    <tr>\n",
       "      <th>1</th>\n",
       "      <td>False</td>\n",
       "      <td>False</td>\n",
       "      <td>False</td>\n",
       "      <td>False</td>\n",
       "      <td>True</td>\n",
       "      <td>False</td>\n",
       "      <td>False</td>\n",
       "      <td>False</td>\n",
       "      <td>False</td>\n",
       "      <td>False</td>\n",
       "      <td>False</td>\n",
       "      <td>False</td>\n",
       "      <td>False</td>\n",
       "      <td>False</td>\n",
       "      <td>False</td>\n",
       "      <td>False</td>\n",
       "      <td>False</td>\n",
       "      <td>True</td>\n",
       "    </tr>\n",
       "    <tr>\n",
       "      <th>2</th>\n",
       "      <td>False</td>\n",
       "      <td>False</td>\n",
       "      <td>False</td>\n",
       "      <td>False</td>\n",
       "      <td>True</td>\n",
       "      <td>False</td>\n",
       "      <td>False</td>\n",
       "      <td>False</td>\n",
       "      <td>False</td>\n",
       "      <td>False</td>\n",
       "      <td>False</td>\n",
       "      <td>False</td>\n",
       "      <td>False</td>\n",
       "      <td>False</td>\n",
       "      <td>False</td>\n",
       "      <td>False</td>\n",
       "      <td>False</td>\n",
       "      <td>True</td>\n",
       "    </tr>\n",
       "    <tr>\n",
       "      <th>3</th>\n",
       "      <td>False</td>\n",
       "      <td>False</td>\n",
       "      <td>False</td>\n",
       "      <td>False</td>\n",
       "      <td>True</td>\n",
       "      <td>False</td>\n",
       "      <td>False</td>\n",
       "      <td>False</td>\n",
       "      <td>False</td>\n",
       "      <td>False</td>\n",
       "      <td>False</td>\n",
       "      <td>False</td>\n",
       "      <td>False</td>\n",
       "      <td>False</td>\n",
       "      <td>False</td>\n",
       "      <td>False</td>\n",
       "      <td>False</td>\n",
       "      <td>True</td>\n",
       "    </tr>\n",
       "    <tr>\n",
       "      <th>4</th>\n",
       "      <td>False</td>\n",
       "      <td>False</td>\n",
       "      <td>False</td>\n",
       "      <td>False</td>\n",
       "      <td>True</td>\n",
       "      <td>False</td>\n",
       "      <td>False</td>\n",
       "      <td>False</td>\n",
       "      <td>False</td>\n",
       "      <td>False</td>\n",
       "      <td>False</td>\n",
       "      <td>False</td>\n",
       "      <td>False</td>\n",
       "      <td>False</td>\n",
       "      <td>False</td>\n",
       "      <td>False</td>\n",
       "      <td>False</td>\n",
       "      <td>True</td>\n",
       "    </tr>\n",
       "  </tbody>\n",
       "</table>\n",
       "</div>"
      ],
      "text/plain": [
       "      id   name  host_id  host_name  neighbourhood_group  neighbourhood  \\\n",
       "0  False  False    False      False                 True          False   \n",
       "1  False  False    False      False                 True          False   \n",
       "2  False  False    False      False                 True          False   \n",
       "3  False  False    False      False                 True          False   \n",
       "4  False  False    False      False                 True          False   \n",
       "\n",
       "   latitude  longitude  room_type  price  minimum_nights  number_of_reviews  \\\n",
       "0     False      False      False  False           False              False   \n",
       "1     False      False      False  False           False              False   \n",
       "2     False      False      False  False           False              False   \n",
       "3     False      False      False  False           False              False   \n",
       "4     False      False      False  False           False              False   \n",
       "\n",
       "   last_review  reviews_per_month  calculated_host_listings_count  \\\n",
       "0        False              False                           False   \n",
       "1        False              False                           False   \n",
       "2        False              False                           False   \n",
       "3        False              False                           False   \n",
       "4        False              False                           False   \n",
       "\n",
       "   availability_365  number_of_reviews_ltm  license  \n",
       "0             False                  False     True  \n",
       "1             False                  False     True  \n",
       "2             False                  False     True  \n",
       "3             False                  False     True  \n",
       "4             False                  False     True  "
      ]
     },
     "execution_count": 12,
     "metadata": {},
     "output_type": "execute_result"
    }
   ],
   "source": [
    "df_listings.isna().head()"
   ]
  },
  {
   "cell_type": "markdown",
   "id": "48e3cb93",
   "metadata": {},
   "source": [
    "To get a quick description of the amount of missing data in the dataset, we can use"
   ]
  },
  {
   "cell_type": "code",
   "execution_count": 13,
   "id": "0cbea92e",
   "metadata": {},
   "outputs": [
    {
     "data": {
      "text/plain": [
       "id                                   0\n",
       "name                                 0\n",
       "host_id                              0\n",
       "host_name                            9\n",
       "neighbourhood_group               3453\n",
       "neighbourhood                        0\n",
       "latitude                             0\n",
       "longitude                            0\n",
       "room_type                            0\n",
       "price                                0\n",
       "minimum_nights                       0\n",
       "number_of_reviews                    0\n",
       "last_review                        409\n",
       "reviews_per_month                  409\n",
       "calculated_host_listings_count       0\n",
       "availability_365                     0\n",
       "number_of_reviews_ltm                0\n",
       "license                           3318\n",
       "dtype: int64"
      ]
     },
     "execution_count": 13,
     "metadata": {},
     "output_type": "execute_result"
    }
   ],
   "source": [
    "df_listings.isna().sum()"
   ]
  },
  {
   "cell_type": "markdown",
   "id": "37b13faf",
   "metadata": {},
   "source": [
    "We can drop missing values using `dropna()`. It drops all rows with at least one missing value."
   ]
  },
  {
   "cell_type": "code",
   "execution_count": 14,
   "id": "dda4f2cc",
   "metadata": {},
   "outputs": [
    {
     "data": {
      "text/plain": [
       "(0, 18)"
      ]
     },
     "execution_count": 14,
     "metadata": {},
     "output_type": "execute_result"
    }
   ],
   "source": [
    "df_listings.dropna().shape"
   ]
  },
  {
   "cell_type": "markdown",
   "id": "80e0f049",
   "metadata": {},
   "source": [
    "In this case unfortunately, it drops all the rows. If we wa to drop only rows with all missing values, we can use the parameter `how='all'`."
   ]
  },
  {
   "cell_type": "code",
   "execution_count": 15,
   "id": "d4f826f0",
   "metadata": {},
   "outputs": [
    {
     "data": {
      "text/plain": [
       "(3453, 18)"
      ]
     },
     "execution_count": 15,
     "metadata": {},
     "output_type": "execute_result"
    }
   ],
   "source": [
    "df_listings.dropna(how='all').shape"
   ]
  },
  {
   "cell_type": "markdown",
   "id": "61fd1aba",
   "metadata": {},
   "source": [
    "If we want to drop only missing values for one particular value, we can use the `subset` option."
   ]
  },
  {
   "cell_type": "code",
   "execution_count": 16,
   "id": "78cabb3d",
   "metadata": {},
   "outputs": [
    {
     "data": {
      "text/plain": [
       "(3044, 18)"
      ]
     },
     "execution_count": 16,
     "metadata": {},
     "output_type": "execute_result"
    }
   ],
   "source": [
    "df_listings.dropna(subset=['reviews_per_month']).shape"
   ]
  },
  {
   "cell_type": "markdown",
   "id": "3c561a51",
   "metadata": {},
   "source": [
    "We can also fill the missing values instead of dropping them, using `fillna()`."
   ]
  },
  {
   "cell_type": "code",
   "execution_count": 17,
   "id": "75809f37",
   "metadata": {},
   "outputs": [
    {
     "data": {
      "text/html": [
       "<div>\n",
       "<style scoped>\n",
       "    .dataframe tbody tr th:only-of-type {\n",
       "        vertical-align: middle;\n",
       "    }\n",
       "\n",
       "    .dataframe tbody tr th {\n",
       "        vertical-align: top;\n",
       "    }\n",
       "\n",
       "    .dataframe thead th {\n",
       "        text-align: right;\n",
       "    }\n",
       "</style>\n",
       "<table border=\"1\" class=\"dataframe\">\n",
       "  <thead>\n",
       "    <tr style=\"text-align: right;\">\n",
       "      <th></th>\n",
       "      <th>id</th>\n",
       "      <th>name</th>\n",
       "      <th>host_id</th>\n",
       "      <th>host_name</th>\n",
       "      <th>neighbourhood_group</th>\n",
       "      <th>neighbourhood</th>\n",
       "      <th>latitude</th>\n",
       "      <th>longitude</th>\n",
       "      <th>room_type</th>\n",
       "      <th>price</th>\n",
       "      <th>minimum_nights</th>\n",
       "      <th>number_of_reviews</th>\n",
       "      <th>last_review</th>\n",
       "      <th>reviews_per_month</th>\n",
       "      <th>calculated_host_listings_count</th>\n",
       "      <th>availability_365</th>\n",
       "      <th>number_of_reviews_ltm</th>\n",
       "      <th>license</th>\n",
       "    </tr>\n",
       "  </thead>\n",
       "  <tbody>\n",
       "    <tr>\n",
       "      <th>0</th>\n",
       "      <td>42196</td>\n",
       "      <td>50 sm Studio in the historic centre</td>\n",
       "      <td>184487</td>\n",
       "      <td>Carlo</td>\n",
       "      <td>-- This was NA  --</td>\n",
       "      <td>Santo Stefano</td>\n",
       "      <td>44.48507</td>\n",
       "      <td>11.34786</td>\n",
       "      <td>Entire home/apt</td>\n",
       "      <td>68</td>\n",
       "      <td>3</td>\n",
       "      <td>180</td>\n",
       "      <td>2021-11-12</td>\n",
       "      <td>1.32</td>\n",
       "      <td>1</td>\n",
       "      <td>161</td>\n",
       "      <td>6</td>\n",
       "      <td>-- This was NA  --</td>\n",
       "    </tr>\n",
       "    <tr>\n",
       "      <th>1</th>\n",
       "      <td>46352</td>\n",
       "      <td>A room in Pasolini's house</td>\n",
       "      <td>467810</td>\n",
       "      <td>Eleonora</td>\n",
       "      <td>-- This was NA  --</td>\n",
       "      <td>Porto - Saragozza</td>\n",
       "      <td>44.49168</td>\n",
       "      <td>11.33514</td>\n",
       "      <td>Private room</td>\n",
       "      <td>29</td>\n",
       "      <td>1</td>\n",
       "      <td>300</td>\n",
       "      <td>2021-11-30</td>\n",
       "      <td>2.2</td>\n",
       "      <td>2</td>\n",
       "      <td>248</td>\n",
       "      <td>37</td>\n",
       "      <td>-- This was NA  --</td>\n",
       "    </tr>\n",
       "    <tr>\n",
       "      <th>2</th>\n",
       "      <td>59697</td>\n",
       "      <td>COZY LARGE BEDROOM in the city center</td>\n",
       "      <td>286688</td>\n",
       "      <td>Paolo</td>\n",
       "      <td>-- This was NA  --</td>\n",
       "      <td>Santo Stefano</td>\n",
       "      <td>44.48817</td>\n",
       "      <td>11.34124</td>\n",
       "      <td>Private room</td>\n",
       "      <td>50</td>\n",
       "      <td>1</td>\n",
       "      <td>240</td>\n",
       "      <td>2020-10-04</td>\n",
       "      <td>2.18</td>\n",
       "      <td>2</td>\n",
       "      <td>327</td>\n",
       "      <td>0</td>\n",
       "      <td>-- This was NA  --</td>\n",
       "    </tr>\n",
       "    <tr>\n",
       "      <th>3</th>\n",
       "      <td>85368</td>\n",
       "      <td>Garden House Bologna</td>\n",
       "      <td>467675</td>\n",
       "      <td>Anna Maria</td>\n",
       "      <td>-- This was NA  --</td>\n",
       "      <td>Santo Stefano</td>\n",
       "      <td>44.47834</td>\n",
       "      <td>11.35672</td>\n",
       "      <td>Entire home/apt</td>\n",
       "      <td>126</td>\n",
       "      <td>2</td>\n",
       "      <td>40</td>\n",
       "      <td>2019-11-03</td>\n",
       "      <td>0.34</td>\n",
       "      <td>1</td>\n",
       "      <td>332</td>\n",
       "      <td>0</td>\n",
       "      <td>-- This was NA  --</td>\n",
       "    </tr>\n",
       "    <tr>\n",
       "      <th>4</th>\n",
       "      <td>145779</td>\n",
       "      <td>SINGLE ROOM</td>\n",
       "      <td>705535</td>\n",
       "      <td>Valerio</td>\n",
       "      <td>-- This was NA  --</td>\n",
       "      <td>Porto - Saragozza</td>\n",
       "      <td>44.49306</td>\n",
       "      <td>11.33786</td>\n",
       "      <td>Private room</td>\n",
       "      <td>50</td>\n",
       "      <td>10</td>\n",
       "      <td>69</td>\n",
       "      <td>2021-12-05</td>\n",
       "      <td>0.55</td>\n",
       "      <td>9</td>\n",
       "      <td>365</td>\n",
       "      <td>5</td>\n",
       "      <td>-- This was NA  --</td>\n",
       "    </tr>\n",
       "  </tbody>\n",
       "</table>\n",
       "</div>"
      ],
      "text/plain": [
       "       id                                   name  host_id   host_name  \\\n",
       "0   42196    50 sm Studio in the historic centre   184487       Carlo   \n",
       "1   46352             A room in Pasolini's house   467810    Eleonora   \n",
       "2   59697  COZY LARGE BEDROOM in the city center   286688       Paolo   \n",
       "3   85368                   Garden House Bologna   467675  Anna Maria   \n",
       "4  145779                            SINGLE ROOM   705535     Valerio   \n",
       "\n",
       "    neighbourhood_group      neighbourhood  latitude  longitude  \\\n",
       "0   -- This was NA  --       Santo Stefano  44.48507   11.34786   \n",
       "1   -- This was NA  --   Porto - Saragozza  44.49168   11.33514   \n",
       "2   -- This was NA  --       Santo Stefano  44.48817   11.34124   \n",
       "3   -- This was NA  --       Santo Stefano  44.47834   11.35672   \n",
       "4   -- This was NA  --   Porto - Saragozza  44.49306   11.33786   \n",
       "\n",
       "         room_type  price  minimum_nights  number_of_reviews last_review  \\\n",
       "0  Entire home/apt     68               3                180  2021-11-12   \n",
       "1     Private room     29               1                300  2021-11-30   \n",
       "2     Private room     50               1                240  2020-10-04   \n",
       "3  Entire home/apt    126               2                 40  2019-11-03   \n",
       "4     Private room     50              10                 69  2021-12-05   \n",
       "\n",
       "  reviews_per_month  calculated_host_listings_count  availability_365  \\\n",
       "0              1.32                               1               161   \n",
       "1               2.2                               2               248   \n",
       "2              2.18                               2               327   \n",
       "3              0.34                               1               332   \n",
       "4              0.55                               9               365   \n",
       "\n",
       "   number_of_reviews_ltm               license  \n",
       "0                      6   -- This was NA  --   \n",
       "1                     37   -- This was NA  --   \n",
       "2                      0   -- This was NA  --   \n",
       "3                      0   -- This was NA  --   \n",
       "4                      5   -- This was NA  --   "
      ]
     },
     "execution_count": 17,
     "metadata": {},
     "output_type": "execute_result"
    }
   ],
   "source": [
    "df_listings.fillna(' -- This was NA  -- ').head()"
   ]
  },
  {
   "cell_type": "markdown",
   "id": "ceec4ced",
   "metadata": {},
   "source": [
    "We can also make missing values if we want."
   ]
  },
  {
   "cell_type": "code",
   "execution_count": 18,
   "id": "deb53f82",
   "metadata": {},
   "outputs": [
    {
     "data": {
      "text/html": [
       "<div>\n",
       "<style scoped>\n",
       "    .dataframe tbody tr th:only-of-type {\n",
       "        vertical-align: middle;\n",
       "    }\n",
       "\n",
       "    .dataframe tbody tr th {\n",
       "        vertical-align: top;\n",
       "    }\n",
       "\n",
       "    .dataframe thead th {\n",
       "        text-align: right;\n",
       "    }\n",
       "</style>\n",
       "<table border=\"1\" class=\"dataframe\">\n",
       "  <thead>\n",
       "    <tr style=\"text-align: right;\">\n",
       "      <th></th>\n",
       "      <th>id</th>\n",
       "      <th>name</th>\n",
       "      <th>host_id</th>\n",
       "    </tr>\n",
       "  </thead>\n",
       "  <tbody>\n",
       "    <tr>\n",
       "      <th>0</th>\n",
       "      <td>42196</td>\n",
       "      <td>50 sm Studio in the historic centre</td>\n",
       "      <td>184487.0</td>\n",
       "    </tr>\n",
       "    <tr>\n",
       "      <th>1</th>\n",
       "      <td>46352</td>\n",
       "      <td>A room in Pasolini's house</td>\n",
       "      <td>467810.0</td>\n",
       "    </tr>\n",
       "    <tr>\n",
       "      <th>2</th>\n",
       "      <td>59697</td>\n",
       "      <td>COZY LARGE BEDROOM in the city center</td>\n",
       "      <td>NaN</td>\n",
       "    </tr>\n",
       "  </tbody>\n",
       "</table>\n",
       "</div>"
      ],
      "text/plain": [
       "      id                                   name   host_id\n",
       "0  42196    50 sm Studio in the historic centre  184487.0\n",
       "1  46352             A room in Pasolini's house  467810.0\n",
       "2  59697  COZY LARGE BEDROOM in the city center       NaN"
      ]
     },
     "execution_count": 18,
     "metadata": {},
     "output_type": "execute_result"
    }
   ],
   "source": [
    "df_listings.iloc[2, 2] = np.nan\n",
    "df_listings.iloc[:3, :3]"
   ]
  }
 ],
 "metadata": {
  "kernelspec": {
   "display_name": "Python 3 (ipykernel)",
   "language": "python",
   "name": "python3"
  },
  "language_info": {
   "codemirror_mode": {
    "name": "ipython",
    "version": 3
   },
   "file_extension": ".py",
   "mimetype": "text/x-python",
   "name": "python",
   "nbconvert_exporter": "python",
   "pygments_lexer": "ipython3",
   "version": "3.9.9"
  },
  "toc": {
   "base_numbering": 1,
   "nav_menu": {},
   "number_sections": true,
   "sideBar": true,
   "skip_h1_title": false,
   "title_cell": "Table of Contents",
   "title_sidebar": "Contents",
   "toc_cell": true,
   "toc_position": {},
   "toc_section_display": true,
   "toc_window_display": false
  }
 },
 "nbformat": 4,
 "nbformat_minor": 5
}
